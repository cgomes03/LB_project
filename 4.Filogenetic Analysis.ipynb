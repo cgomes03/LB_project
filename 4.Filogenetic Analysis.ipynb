{
 "cells": [
  {
   "cell_type": "markdown",
   "metadata": {},
   "source": [
    "## **Filogenetic Analysis**\n",
    "\n",
    "The code performs a multiple sequence alignment of seven sequences, selecting the best alignments of homologous sequences. Then, it processes the calculation of the distance matrix based on the obtained alignment using the 'BLOSUM62' substitution matrix. Finally, it constructs phylogenetic trees using the UPGMA and NJ methods for each gene under analysis.\n"
   ]
  },
  {
   "cell_type": "code",
   "execution_count": 6,
   "metadata": {},
   "outputs": [],
   "source": [
    "from Bio import SeqIO, AlignIO, Phylo\n",
    "from Bio.SeqRecord import SeqRecord\n",
    "from Bio.Phylo.TreeConstruction import DistanceCalculator, DistanceTreeConstructor\n",
    "import subprocess\n",
    "import os\n",
    "import matplotlib.pyplot as plt\n",
    "\n",
    "def process_gene_with_clustal(gene_name, fasta_file):\n",
    "    # Create output directory\n",
    "    output_dir = \"filogenetic_analysis\"\n",
    "    os.makedirs(output_dir, exist_ok=True)\n",
    "\n",
    "    # Read the FASTA file\n",
    "    sequences = []\n",
    "    with open(fasta_file) as handle:\n",
    "        for record in SeqIO.parse(handle, \"fasta\"):\n",
    "            sequences.append(record)\n",
    "\n",
    "    # Check if we have at least 7 sequences\n",
    "    '''\n",
    "    if len(sequences) < 7:\n",
    "        raise ValueError(f\"The FASTA file must contain at least 7 sequences. Found: {len(sequences)}\")\n",
    "    '''\n",
    "    # Save the extracted sequences in a FASTA file\n",
    "    trimmed_fasta = os.path.join(output_dir, f\"{gene_name}_trimmed.fasta\")\n",
    "    SeqIO.write(sequences, trimmed_fasta, \"fasta\")\n",
    "\n",
    "    # Path to the ClustalW2 executable\n",
    "    clustal_exe = \"clustalw2\"  # Replace with the correct executable path if necessary\n",
    "\n",
    "    # Define the alignment output file\n",
    "    alignment_file = os.path.join(output_dir, f\"{gene_name}_alignment.fasta\")\n",
    "\n",
    "    # Execute the ClustalW2 command to perform the alignment\n",
    "    clustal_command = [\n",
    "        clustal_exe,\n",
    "        f\"/INFILE={trimmed_fasta}\",\n",
    "        f\"/OUTFILE={alignment_file}\",\n",
    "        \"/OUTPUT=FASTA\",\n",
    "        \"/QUIET\"\n",
    "    ]\n",
    "\n",
    "    print(f\"Running ClustalW2 for gene {gene_name}...\")\n",
    "    try:\n",
    "        subprocess.run(clustal_command, check=True)\n",
    "    except subprocess.CalledProcessError as e:\n",
    "        print(f\"Error executing ClustalW2: {e}\")\n",
    "        return\n",
    "\n",
    "    # Check if the alignment was successfully generated\n",
    "    if not os.path.exists(alignment_file):\n",
    "        raise FileNotFoundError(f\"Alignment was not generated for gene {gene_name}.\")\n",
    "\n",
    "    # Read the generated alignment\n",
    "    alignment = AlignIO.read(alignment_file, \"fasta\")\n",
    "\n",
    "    # Ensure unique IDs and preserve important information\n",
    "    '''temos de mudar os parametros aqui para aceitar um de cadz especie'''\n",
    "    unique_ids = set()\n",
    "    for i, record in enumerate(alignment):\n",
    "        # Extract the full original ID\n",
    "        original_id = record.id\n",
    "        full_description = record.description\n",
    "\n",
    "        # Process the description to include everything\n",
    "        full_id = \"_\".join(full_description.replace(\":\", \"\").split())  # Replace spaces with \"_\", remove \":\"\n",
    "\n",
    "        '''isto vai ser para tirar'''\n",
    "        # Ensure uniqueness\n",
    "        if full_id in unique_ids:\n",
    "            print(f\"Duplicate ID found: {full_id}. Renaming...\")\n",
    "            full_id = f\"{full_id}_{i}\"  # Add index if necessary\n",
    "\n",
    "        # Update the record's ID and description\n",
    "        record.id = full_id\n",
    "        record.description = full_id\n",
    "        unique_ids.add(full_id)\n",
    "\n",
    "    # Compute distance matrix\n",
    "    calculator = DistanceCalculator('blosum62')\n",
    "    try:\n",
    "        dm = calculator.get_distance(alignment)\n",
    "        print(f\"Distance Matrix:\\n{dm}\")\n",
    "    except ValueError as e:\n",
    "        print(f\"Error calculating distance matrix: {e}\")\n",
    "        return\n",
    "\n",
    "    # Build trees\n",
    "    constructor = DistanceTreeConstructor()\n",
    "    upgma_tree = constructor.upgma(dm)\n",
    "    nj_tree = constructor.nj(dm)\n",
    "\n",
    "    # Remove 'Inner' labels from clades and highlight Homo genus\n",
    "    for tree in [upgma_tree, nj_tree]:\n",
    "        for clade in tree.find_clades():\n",
    "            if 'Inner' in (clade.name or ''):\n",
    "                clade.name = \"\"\n",
    "            if 'Homo' in (clade.name or ''):\n",
    "                clade.color = 'orange'\n",
    "                clade.name = '*** ' + clade.name + ' ***'  # Mark the clade\n",
    "\n",
    "    # Save trees\n",
    "    Phylo.write(upgma_tree, os.path.join(output_dir, f'{gene_name}_upgma_tree.nwk'), 'newick')\n",
    "    Phylo.write(nj_tree, os.path.join(output_dir, f'{gene_name}_nj_tree.nwk'), 'newick')\n",
    "\n",
    "    # Process and plot trees\n",
    "    for tree, tree_type in [(upgma_tree, 'UPGMA'), (nj_tree, 'NJ')]:\n",
    "        # Create figure and axes\n",
    "        fig = plt.figure(figsize=(35, 15))  # Increase figure size\n",
    "        ax = fig.add_subplot(1, 1, 1)\n",
    "\n",
    "        # Draw tree on created axes\n",
    "        Phylo.draw(tree, do_show=False, axes=ax)\n",
    "        for label in ax.get_xticklabels() + ax.get_yticklabels():\n",
    "            label.set_fontsize(18)\n",
    "        for text in ax.findobj(match=plt.Text):  # Find all text objects\n",
    "            text.set_fontsize(22)\n",
    "\n",
    "        # Add title\n",
    "        plt.title(f'{gene_name} - {tree_type} Tree', fontsize=30)\n",
    "\n",
    "        # Save tree image\n",
    "        tree_img = os.path.join(output_dir, f'{gene_name}_{tree_type}_tree.png')\n",
    "        plt.savefig(tree_img, bbox_inches='tight')  # 'bbox_inches' ensures nothing gets cut off\n",
    "        plt.close()\n",
    "\n",
    "    print(f\"Processing completed for gene {gene_name}. Results saved in '{output_dir}'.\")\n"
   ]
  },
  {
   "cell_type": "code",
   "execution_count": 3,
   "metadata": {},
   "outputs": [
    {
     "name": "stderr",
     "output_type": "stream",
     "text": [
      "c:\\Users\\catar\\anaconda3\\envs\\bio_env\\lib\\site-packages\\Bio\\Application\\__init__.py:39: BiopythonDeprecationWarning: The Bio.Application modules and modules relying on it have been deprecated.\n",
      "\n",
      "Due to the on going maintenance burden of keeping command line application\n",
      "wrappers up to date, we have decided to deprecate and eventually remove these\n",
      "modules.\n",
      "\n",
      "We instead now recommend building your command line and invoking it directly\n",
      "with the subprocess module.\n",
      "  warnings.warn(\n"
     ]
    },
    {
     "ename": "FileNotFoundError",
     "evalue": "[Errno 2] No such file or directory: 'ABCB11_blast.xml'",
     "output_type": "error",
     "traceback": [
      "\u001b[1;31m---------------------------------------------------------------------------\u001b[0m",
      "\u001b[1;31mFileNotFoundError\u001b[0m                         Traceback (most recent call last)",
      "Cell \u001b[1;32mIn[3], line 12\u001b[0m\n\u001b[0;32m      8\u001b[0m blast_files \u001b[38;5;241m=\u001b[39m [\u001b[38;5;124mf\u001b[39m\u001b[38;5;124m\"\u001b[39m\u001b[38;5;132;01m{\u001b[39;00mgene\u001b[38;5;132;01m}\u001b[39;00m\u001b[38;5;124m_blast.xml\u001b[39m\u001b[38;5;124m\"\u001b[39m \u001b[38;5;28;01mfor\u001b[39;00m gene \u001b[38;5;129;01min\u001b[39;00m genes]\n\u001b[0;32m     10\u001b[0m \u001b[38;5;28;01mfor\u001b[39;00m gene, blast_file \u001b[38;5;129;01min\u001b[39;00m \u001b[38;5;28mzip\u001b[39m(genes, blast_files):\n\u001b[0;32m     11\u001b[0m     \u001b[38;5;66;03m# Load BLAST results from XML file\u001b[39;00m\n\u001b[1;32m---> 12\u001b[0m     blast_results \u001b[38;5;241m=\u001b[39m NCBIXML\u001b[38;5;241m.\u001b[39mparse(\u001b[38;5;28;43mopen\u001b[39;49m\u001b[43m(\u001b[49m\u001b[43mblast_file\u001b[49m\u001b[43m)\u001b[49m)\n\u001b[0;32m     14\u001b[0m     sequences \u001b[38;5;241m=\u001b[39m []\n\u001b[0;32m     15\u001b[0m     id_counts \u001b[38;5;241m=\u001b[39m {}\n",
      "File \u001b[1;32mc:\\Users\\catar\\anaconda3\\envs\\bio_env\\lib\\site-packages\\IPython\\core\\interactiveshell.py:324\u001b[0m, in \u001b[0;36m_modified_open\u001b[1;34m(file, *args, **kwargs)\u001b[0m\n\u001b[0;32m    317\u001b[0m \u001b[38;5;28;01mif\u001b[39;00m file \u001b[38;5;129;01min\u001b[39;00m {\u001b[38;5;241m0\u001b[39m, \u001b[38;5;241m1\u001b[39m, \u001b[38;5;241m2\u001b[39m}:\n\u001b[0;32m    318\u001b[0m     \u001b[38;5;28;01mraise\u001b[39;00m \u001b[38;5;167;01mValueError\u001b[39;00m(\n\u001b[0;32m    319\u001b[0m         \u001b[38;5;124mf\u001b[39m\u001b[38;5;124m\"\u001b[39m\u001b[38;5;124mIPython won\u001b[39m\u001b[38;5;124m'\u001b[39m\u001b[38;5;124mt let you open fd=\u001b[39m\u001b[38;5;132;01m{\u001b[39;00mfile\u001b[38;5;132;01m}\u001b[39;00m\u001b[38;5;124m by default \u001b[39m\u001b[38;5;124m\"\u001b[39m\n\u001b[0;32m    320\u001b[0m         \u001b[38;5;124m\"\u001b[39m\u001b[38;5;124mas it is likely to crash IPython. If you know what you are doing, \u001b[39m\u001b[38;5;124m\"\u001b[39m\n\u001b[0;32m    321\u001b[0m         \u001b[38;5;124m\"\u001b[39m\u001b[38;5;124myou can use builtins\u001b[39m\u001b[38;5;124m'\u001b[39m\u001b[38;5;124m open.\u001b[39m\u001b[38;5;124m\"\u001b[39m\n\u001b[0;32m    322\u001b[0m     )\n\u001b[1;32m--> 324\u001b[0m \u001b[38;5;28;01mreturn\u001b[39;00m io_open(file, \u001b[38;5;241m*\u001b[39margs, \u001b[38;5;241m*\u001b[39m\u001b[38;5;241m*\u001b[39mkwargs)\n",
      "\u001b[1;31mFileNotFoundError\u001b[0m: [Errno 2] No such file or directory: 'ABCB11_blast.xml'"
     ]
    }
   ],
   "source": [
    "from Bio.Blast import NCBIXML\n",
    "from Bio.Align.Applications import ClustalOmegaCommandline\n",
    "from Bio import Phylo, AlignIO\n",
    "from Bio.Phylo.TreeConstruction import DistanceCalculator, DistanceTreeConstructor\n",
    "import os\n",
    "\n",
    "genes = [\"ABCB11\", \"COG7\", \"EMCN_2\", \"ITIH5L\"]\n",
    "blast_files = [f\"{gene}_blast.xml\" for gene in genes]\n",
    "\n",
    "for gene, blast_file in zip(genes, blast_files):\n",
    "    # Load BLAST results from XML file\n",
    "    blast_results = NCBIXML.parse(open(blast_file))\n",
    "\n",
    "    sequences = []\n",
    "    id_counts = {}\n",
    "    for result in blast_results:\n",
    "        for alignment in result.alignments:\n",
    "            for hsp in alignment.hsps:\n",
    "                # Modify the sequence identifier\n",
    "                sequence_id = alignment.hit_id\n",
    "                if sequence_id in id_counts:\n",
    "                    id_counts[sequence_id] += 1\n",
    "                    sequence_id = f\"{sequence_id}_hsps{id_counts[sequence_id]}\"\n",
    "                else:\n",
    "                    id_counts[sequence_id] = 1\n",
    "\n",
    "                sequence = f\">{sequence_id}\\n{hsp.sbjct}\\n\"\n",
    "                sequences.append(sequence)\n",
    "\n",
    "    fasta_file_path = f\"{gene}_aligned.fasta\"\n",
    "    with open(fasta_file_path, \"w\") as fasta_file:\n",
    "        fasta_file.writelines(sequences)\n",
    "\n",
    "    # Perform multiple sequence alignment using Clustal Omega\n",
    "    script_directory = os.path.dirname(os.path.abspath(__file__))\n",
    "    clustalomega_exe_path = os.path.join(script_directory, \"clustal-omega/clustalo.exe\")\n",
    "    \n",
    "    clustalomega_cline = ClustalOmegaCommandline(clustalomega_exe_path, infile=fasta_file_path, outfile=f\"{gene}_aligned.fasta\", force=True)\n",
    "    clustalomega_cline()\n",
    "    print(f\"Alignment for {gene} saved to {gene}_aligned.fasta\")\n",
    "\n",
    "    # Read the aligned sequences\n",
    "    aligned_file_path = AlignIO.read(f\"{gene}_aligned.fasta\", \"fasta\")\n",
    "\n",
    "    # Calculate distances for the current gene\n",
    "    calculator = DistanceCalculator(\"identity\")\n",
    "    dm = calculator.get_distance(aligned_file_path)\n",
    "\n",
    "    # Build the phylogenetic tree\n",
    "    constructor = DistanceTreeConstructor()\n",
    "    tree = constructor.upgma(dm)\n",
    "\n",
    "    # Save the phylogenetic tree\n",
    "    tree_file_path = f\"{gene}_phylogenetic_tree.newick\"\n",
    "    Phylo.write(tree, tree_file_path, \"newick\")\n",
    "    print(f\"Phylogenetic tree for {gene} saved to {tree_file_path}\")"
   ]
  },
  {
   "cell_type": "markdown",
   "metadata": {},
   "source": [
    "#### **1: Gene ptsP**"
   ]
  },
  {
   "cell_type": "code",
   "execution_count": 5,
   "metadata": {},
   "outputs": [
    {
     "ename": "ValueError",
     "evalue": "The FASTA file must contain at least 7 sequences. Found: 0",
     "output_type": "error",
     "traceback": [
      "\u001b[1;31m---------------------------------------------------------------------------\u001b[0m",
      "\u001b[1;31mValueError\u001b[0m                                Traceback (most recent call last)",
      "Cell \u001b[1;32mIn[5], line 1\u001b[0m\n\u001b[1;32m----> 1\u001b[0m \u001b[43mprocess_gene_with_clustal\u001b[49m\u001b[43m(\u001b[49m\u001b[38;5;124;43m\"\u001b[39;49m\u001b[38;5;124;43mptsP\u001b[39;49m\u001b[38;5;124;43m\"\u001b[39;49m\u001b[43m,\u001b[49m\u001b[43m \u001b[49m\u001b[38;5;124;43m\"\u001b[39;49m\u001b[38;5;124;43mblast_results/ptsP_blast.fasta\u001b[39;49m\u001b[38;5;124;43m\"\u001b[39;49m\u001b[43m)\u001b[49m\n",
      "Cell \u001b[1;32mIn[4], line 21\u001b[0m, in \u001b[0;36mprocess_gene_with_clustal\u001b[1;34m(gene_name, fasta_file)\u001b[0m\n\u001b[0;32m     19\u001b[0m \u001b[38;5;66;03m# Check if we have at least 7 sequences\u001b[39;00m\n\u001b[0;32m     20\u001b[0m \u001b[38;5;28;01mif\u001b[39;00m \u001b[38;5;28mlen\u001b[39m(sequences) \u001b[38;5;241m<\u001b[39m \u001b[38;5;241m7\u001b[39m:\n\u001b[1;32m---> 21\u001b[0m     \u001b[38;5;28;01mraise\u001b[39;00m \u001b[38;5;167;01mValueError\u001b[39;00m(\u001b[38;5;124mf\u001b[39m\u001b[38;5;124m\"\u001b[39m\u001b[38;5;124mThe FASTA file must contain at least 7 sequences. Found: \u001b[39m\u001b[38;5;132;01m{\u001b[39;00m\u001b[38;5;28mlen\u001b[39m(sequences)\u001b[38;5;132;01m}\u001b[39;00m\u001b[38;5;124m\"\u001b[39m)\n\u001b[0;32m     23\u001b[0m \u001b[38;5;66;03m# Save the extracted sequences in a FASTA file\u001b[39;00m\n\u001b[0;32m     24\u001b[0m trimmed_fasta \u001b[38;5;241m=\u001b[39m os\u001b[38;5;241m.\u001b[39mpath\u001b[38;5;241m.\u001b[39mjoin(output_dir, \u001b[38;5;124mf\u001b[39m\u001b[38;5;124m\"\u001b[39m\u001b[38;5;132;01m{\u001b[39;00mgene_name\u001b[38;5;132;01m}\u001b[39;00m\u001b[38;5;124m_trimmed.fasta\u001b[39m\u001b[38;5;124m\"\u001b[39m)\n",
      "\u001b[1;31mValueError\u001b[0m: The FASTA file must contain at least 7 sequences. Found: 0"
     ]
    }
   ],
   "source": [
    "process_gene_with_clustal(\"ptsP\", \"blast_results/ptsP_blast.fasta\")"
   ]
  },
  {
   "cell_type": "markdown",
   "metadata": {},
   "source": [
    "#### **2: Gene ButyrylCoA**"
   ]
  },
  {
   "cell_type": "code",
   "execution_count": 7,
   "metadata": {},
   "outputs": [
    {
     "name": "stdout",
     "output_type": "stream",
     "text": [
      "Running ClustalW2 for gene butyrylCoA...\n",
      "Distance Matrix:\n",
      "G2SYC0  0.000000\n",
      "B0MC58  0.245211    0.000000\n",
      "Q0AVM5  0.451849    0.460215    0.000000\n",
      "    G2SYC0  B0MC58  Q0AVM5\n",
      "Processing completed for gene butyrylCoA. Results saved in 'filogenetic_analysis'.\n"
     ]
    }
   ],
   "source": [
    "process_gene_with_clustal(\"butyrylCoA\", \"blast_results/butyrylCoA_blast.fasta\")"
   ]
  },
  {
   "cell_type": "markdown",
   "metadata": {},
   "source": [
    "#### **3: Gene MutS Domain I**"
   ]
  },
  {
   "cell_type": "code",
   "execution_count": 11,
   "metadata": {},
   "outputs": [
    {
     "name": "stdout",
     "output_type": "stream",
     "text": [
      "Running ClustalW2 for gene MutS...\n"
     ]
    },
    {
     "ename": "FileNotFoundError",
     "evalue": "Alignment was not generated for gene MutS.",
     "output_type": "error",
     "traceback": [
      "\u001b[1;31m---------------------------------------------------------------------------\u001b[0m",
      "\u001b[1;31mFileNotFoundError\u001b[0m                         Traceback (most recent call last)",
      "Cell \u001b[1;32mIn[11], line 1\u001b[0m\n\u001b[1;32m----> 1\u001b[0m \u001b[43mprocess_gene_with_clustal\u001b[49m\u001b[43m(\u001b[49m\u001b[38;5;124;43m\"\u001b[39;49m\u001b[38;5;124;43mMutS\u001b[39;49m\u001b[38;5;124;43m\"\u001b[39;49m\u001b[43m,\u001b[49m\u001b[43m \u001b[49m\u001b[38;5;124;43m\"\u001b[39;49m\u001b[38;5;124;43mblast_results/MutS_blast.fasta\u001b[39;49m\u001b[38;5;124;43m\"\u001b[39;49m\u001b[43m)\u001b[49m\n",
      "Cell \u001b[1;32mIn[8], line 51\u001b[0m, in \u001b[0;36mprocess_gene_with_clustal\u001b[1;34m(gene_name, fasta_file)\u001b[0m\n\u001b[0;32m     49\u001b[0m \u001b[38;5;66;03m# Check if the alignment was successfully generated\u001b[39;00m\n\u001b[0;32m     50\u001b[0m \u001b[38;5;28;01mif\u001b[39;00m \u001b[38;5;129;01mnot\u001b[39;00m os\u001b[38;5;241m.\u001b[39mpath\u001b[38;5;241m.\u001b[39mexists(alignment_file):\n\u001b[1;32m---> 51\u001b[0m     \u001b[38;5;28;01mraise\u001b[39;00m \u001b[38;5;167;01mFileNotFoundError\u001b[39;00m(\u001b[38;5;124mf\u001b[39m\u001b[38;5;124m\"\u001b[39m\u001b[38;5;124mAlignment was not generated for gene \u001b[39m\u001b[38;5;132;01m{\u001b[39;00mgene_name\u001b[38;5;132;01m}\u001b[39;00m\u001b[38;5;124m.\u001b[39m\u001b[38;5;124m\"\u001b[39m)\n\u001b[0;32m     53\u001b[0m \u001b[38;5;66;03m# Read the generated alignment\u001b[39;00m\n\u001b[0;32m     54\u001b[0m alignment \u001b[38;5;241m=\u001b[39m AlignIO\u001b[38;5;241m.\u001b[39mread(alignment_file, \u001b[38;5;124m\"\u001b[39m\u001b[38;5;124mfasta\u001b[39m\u001b[38;5;124m\"\u001b[39m)\n",
      "\u001b[1;31mFileNotFoundError\u001b[0m: Alignment was not generated for gene MutS."
     ]
    }
   ],
   "source": [
    "process_gene_with_clustal(\"MutS\", \"blast_results/MutS_blast.fasta\")"
   ]
  }
 ],
 "metadata": {
  "kernelspec": {
   "display_name": "bio_env",
   "language": "python",
   "name": "python3"
  },
  "language_info": {
   "codemirror_mode": {
    "name": "ipython",
    "version": 3
   },
   "file_extension": ".py",
   "mimetype": "text/x-python",
   "name": "python",
   "nbconvert_exporter": "python",
   "pygments_lexer": "ipython3",
   "version": "3.10.16"
  }
 },
 "nbformat": 4,
 "nbformat_minor": 2
}
