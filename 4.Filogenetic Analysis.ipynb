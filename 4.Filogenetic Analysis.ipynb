{
 "cells": [
  {
   "cell_type": "markdown",
   "metadata": {},
   "source": [
    "## **Filogenetic Analysis**\n",
    "\n",
    "The code performs a multiple sequence alignment of seven sequences, selecting the best alignments of homologous sequences. Then, it processes the calculation of the distance matrix based on the obtained alignment using the 'BLOSUM62' substitution matrix. Finally, it constructs phylogenetic trees using the UPGMA and NJ methods for each gene under analysis.\n"
   ]
  },
  {
   "cell_type": "code",
   "execution_count": 2,
   "metadata": {},
   "outputs": [],
   "source": [
    "from Bio import SeqIO, AlignIO, Phylo\n",
    "from Bio.SeqRecord import SeqRecord\n",
    "from Bio.Phylo.TreeConstruction import DistanceCalculator, DistanceTreeConstructor\n",
    "import os\n",
    "import subprocess\n",
    "import matplotlib.pyplot as plt\n",
    "\n",
    "def process_gene_with_clustal(gene_name):\n",
    "    # Directories\n",
    "    genes_dir = \"genes\"\n",
    "    blast_results_dir = \"blast_results\"\n",
    "    output_dir = \"phylogenetic_results\"\n",
    "    os.makedirs(output_dir, exist_ok=True)\n",
    "\n",
    "    # File paths\n",
    "    gene_fasta_file = os.path.join(genes_dir, f\"{gene_name}.fasta\")\n",
    "    blast_fasta_file = os.path.join(blast_results_dir, f\"{gene_name}_blast.fasta\")\n",
    "    if not os.path.exists(gene_fasta_file) or not os.path.exists(blast_fasta_file):\n",
    "        print(f\"Query file or BLAST results not found for {gene_name}.\")\n",
    "        return\n",
    "\n",
    "    # Read the query sequence\n",
    "    query_sequence = SeqIO.read(gene_fasta_file, \"fasta\")\n",
    "    query_sequence.id = \"QUERY\"\n",
    "    query_sequence.description = \"QUERY\"\n",
    "\n",
    "    # Read the BLAST result sequences and adjust IDs and descriptions\n",
    "    blast_sequences = []\n",
    "    seen_genera = set()  \n",
    "\n",
    "    for seq in SeqIO.parse(blast_fasta_file, \"fasta\"):\n",
    "        # Extract the genus \n",
    "        full_description = seq.description.split(\"|\")[0].strip()\n",
    "        species_name = full_description.replace(\" \", \"_\")  \n",
    "        genus_name = species_name.split(\"_\")[0]  \n",
    "\n",
    "        # Only add if the genus has not been seen before\n",
    "        if genus_name not in seen_genera:\n",
    "            seen_genera.add(genus_name)  # Mark the genus as processed\n",
    "            seq.id = species_name  # Set ID as the unique species name\n",
    "            seq.name = \"\"  # Reset name\n",
    "            seq.description = \"\"  # Remove redundant description\n",
    "            blast_sequences.append(seq)  # Add to the final list\n",
    "\n",
    "    # Limit the sequences to 10 (including the query)\n",
    "    all_sequences = [query_sequence] + blast_sequences\n",
    "\n",
    "    # Save the limited sequences to a FASTA file\n",
    "    trimmed_fasta = os.path.join(output_dir, f\"{gene_name}_trimmed.fasta\")\n",
    "    SeqIO.write(all_sequences, trimmed_fasta, \"fasta\")\n",
    "\n",
    "    # Path to the ClustalW2 executable\n",
    "    clustal_exe = \"clustalw2\"\n",
    "\n",
    "    # Path for the alignment file\n",
    "    alignment_file = os.path.join(output_dir, f\"{gene_name}_alignment.fasta\")\n",
    "\n",
    "    # Run ClustalW2\n",
    "    clustal_command = [\n",
    "        clustal_exe,\n",
    "        f\"/INFILE={trimmed_fasta}\",\n",
    "        f\"/OUTFILE={alignment_file}\",\n",
    "        \"/OUTPUT=FASTA\",\n",
    "        \"/QUIET\"\n",
    "    ]\n",
    "\n",
    "    print(f\"Running ClustalW2 for {gene_name}...\")\n",
    "    try:\n",
    "        subprocess.run(clustal_command, check=True)\n",
    "    except subprocess.CalledProcessError as e:\n",
    "        print(f\"Error running ClustalW2: {e}\")\n",
    "        return\n",
    "\n",
    "    # Check if the alignment was generated\n",
    "    if not os.path.exists(alignment_file):\n",
    "        raise FileNotFoundError(f\"Alignment not generated for {gene_name}.\")\n",
    "\n",
    "    # Read the alignment\n",
    "    alignment = AlignIO.read(alignment_file, \"fasta\")\n",
    "\n",
    "    # Calculate the distance matrix\n",
    "    calculator = DistanceCalculator('blosum62')\n",
    "    try:\n",
    "        dm = calculator.get_distance(alignment)\n",
    "        print(f\"Distance Matrix:\\n{dm}\")\n",
    "    except ValueError as e:\n",
    "        print(f\"Error calculating distance matrix: {e}\")\n",
    "        return\n",
    "\n",
    "    # Construct phylogenetic trees\n",
    "    constructor = DistanceTreeConstructor()\n",
    "    upgma_tree = constructor.upgma(dm)\n",
    "    nj_tree = constructor.nj(dm)\n",
    "\n",
    "    # Highlight the query and remove 'Inner' labels\n",
    "    for tree in [upgma_tree, nj_tree]:\n",
    "        for clade in tree.find_clades():\n",
    "            if clade.name and clade.name.startswith(\"Inner\"):\n",
    "                clade.name = None  # Remove names of internal clades\n",
    "            elif clade.name == \"QUERY\":  \n",
    "                clade.name = \"*** QUERY ***\"\n",
    "                clade.color = \"pink\" \n",
    "           \n",
    "    # Save the trees and generate images\n",
    "    for tree, tree_type in [(upgma_tree, 'UPGMA'), (nj_tree, 'NJ')]:\n",
    "        # Save the tree in Newick format\n",
    "        tree_file = os.path.join(output_dir, f\"{gene_name}_{tree_type}_tree.nwk\")\n",
    "        Phylo.write(tree, tree_file, \"newick\")\n",
    "\n",
    "        # Create and save the tree plot\n",
    "        fig = plt.figure(figsize=(30, 10))\n",
    "        ax = fig.add_subplot(1, 1, 1)\n",
    "        Phylo.draw(tree, do_show=False, axes=ax)\n",
    "        plt.title(f\"{gene_name} - {tree_type} Tree\", fontsize=16)\n",
    "        tree_img = os.path.join(output_dir, f\"{gene_name}_{tree_type}_tree.png\")\n",
    "        plt.savefig(tree_img, bbox_inches='tight')\n",
    "        plt.close()\n",
    "\n",
    "    print(f\"Processing completed for {gene_name}. Results saved in '{output_dir}'.\")"
   ]
  },
  {
   "cell_type": "markdown",
   "metadata": {},
   "source": [
    "#### **1: Gene ptsP**"
   ]
  },
  {
   "cell_type": "code",
   "execution_count": 3,
   "metadata": {},
   "outputs": [
    {
     "name": "stdout",
     "output_type": "stream",
     "text": [
      "Running ClustalW2 for ptsP...\n",
      "Distance Matrix:\n",
      "Bacillus_sp._S  0.000000\n",
      "Geobacillus_stearothermophilus  0.007593    0.000000\n",
      "Priestia_megaterium 0.174375    0.172858    0.000000\n",
      "Halalkalibacterium_halodurans_C-125 0.248579    0.247063    0.231148    0.000000\n",
      "Staphylococcus_carnosus_subsp._carnosus_TM300   0.290614    0.293630    0.275849    0.295515    0.000000\n",
      "Streptococcus_equinus   0.311027    0.309243    0.321308    0.333966    0.317208    0.000000\n",
      "Lactococcus_lactis_subsp._lactis_Il1403 0.326894    0.324242    0.321710    0.353030    0.343796    0.163363    0.000000\n",
      "Enterococcus_faecalis_V583  0.305608    0.304855    0.302534    0.322921    0.307834    0.205700    0.216196    0.000000\n",
      "Latilactobacillus_sakei 0.321334    0.317923    0.309077    0.333839    0.326160    0.291388    0.280624    0.236511    0.000000\n",
      "Listeria_innocua_Clip11262  0.263736    0.266768    0.249906    0.285335    0.273469    0.296724    0.302455    0.265556    0.270330    0.000000\n",
      "Lysinibacillus_sphaericus   0.300343    0.298439    0.295138    0.334602    0.335086    0.367355    0.385366    0.342332    0.354887    0.315038    0.000000\n",
      "Mycoplasma_capricolum_subsp._capricolum_ATCC_27343  0.456195    0.454651    0.441985    0.437283    0.446375    0.482785    0.478868    0.475509    0.453823    0.457197    0.498864    0.000000\n",
      "Mycoplasmoides_pneumoniae_M129  0.525699    0.525699    0.527320    0.525660    0.529499    0.536296    0.547407    0.517996    0.537491    0.539347    0.565266    0.487467    0.000000\n",
      "Salmonella_enterica_subsp._enterica_serovar_Typhimurium_str._LT2    0.473338    0.475841    0.487600    0.484954    0.463433    0.488558    0.505690    0.484688    0.501522    0.481538    0.526715    0.532625    0.613073    0.000000\n",
      "Escherichia_coli_K-12   0.476430    0.478933    0.483022    0.484182    0.463054    0.488177    0.499241    0.485066    0.497336    0.478493    0.528230    0.530349    0.608941    0.022667    0.000000\n",
      "Haemophilus_influenzae_Rd_KW20  0.481066    0.482026    0.482640    0.469136    0.455476    0.477879    0.514036    0.483554    0.492009    0.489532    0.534293    0.517451    0.601427    0.254064    0.255006    0.000000\n",
      "Buchnera_aphidicola_str._Sg__Schizaphis_graminum_   0.532258    0.534178    0.526976    0.541859    0.500938    0.555181    0.566229    0.538289    0.540060    0.542328    0.573808    0.557938    0.635479    0.323738    0.319626    0.378692    0.000000\n",
      "Borreliella_burgdorferi_B31 0.604749    0.608579    0.601967    0.603442    0.607010    0.632265    0.638163    0.635015    0.631916    0.612199    0.635053    0.601515    0.680638    0.561370    0.562123    0.575301    0.562685    0.000000\n",
      "Shigella_flexneri   0.636398    0.634866    0.630262    0.635632    0.642830    0.653701    0.660498    0.633750    0.649375    0.642938    0.657393    0.670857    0.716981    0.621836    0.622969    0.650548    0.647148    0.700637    0.000000\n",
      "Cupriavidus_necator_H16 0.573995    0.573995    0.596945    0.591706    0.598305    0.614437    0.621302    0.613148    0.612288    0.607885    0.626006    0.624630    0.665126    0.600085    0.597969    0.593314    0.633066    0.664975    0.730304    0.000000\n",
      "QUERY   0.572287    0.574540    0.587951    0.552849    0.595815    0.595985    0.603076    0.583242    0.597422    0.601473    0.618338    0.596937    0.647559    0.603526    0.605401    0.592273    0.627037    0.668991    0.695865    0.662636    0.000000\n",
      "Streptomyces_coelicolor_A3_2_   0.677800    0.676447    0.661706    0.682003    0.651864    0.686228    0.687401    0.686189    0.677240    0.697850    0.686243    0.702790    0.716582    0.693836    0.695987    0.687171    0.712863    0.728282    0.771531    0.683408    0.720565    0.000000\n",
      "Archaeoglobus_fulgidus_DSM_4304 0.716716    0.716716    0.720605    0.709091    0.732829    0.721769    0.722934    0.721187    0.722352    0.732829    0.733411    0.763435    0.734694    0.729446    0.732362    0.726531    0.736475    0.756851    0.812933    0.736143    0.748140    0.767059    0.000000\n",
      "Rhodobacter_capsulatus  0.616917    0.617982    0.611447    0.614634    0.644204    0.632972    0.628492    0.646754    0.654370    0.643775    0.637966    0.660983    0.678033    0.626678    0.624644    0.640504    0.661147    0.703417    0.703131    0.638164    0.683023    0.709327    0.774481    0.000000\n",
      "Xanthomonas_campestris_pv._campestris_str._ATCC_33913   0.648053    0.650413    0.653966    0.651355    0.650174    0.681521    0.695736    0.681365    0.690146    0.678117    0.661879    0.722396    0.709580    0.656336    0.659474    0.664967    0.669017    0.709627    0.710980    0.713592    0.706328    0.709003    0.792285    0.538190    0.000000\n",
      "Haloferax_volcanii_DS2  0.566576    0.570480    0.578276    0.575049    0.589279    0.588868    0.590787    0.582147    0.594075    0.574836    0.605908    0.645768    0.649022    0.603685    0.605253    0.617797    0.654253    0.686822    0.682210    0.669170    0.662476    0.688032    0.743195    0.605221    0.621061    0.000000\n",
      "    Bacillus_sp._S  Geobacillus_stearothermophilus  Priestia_megaterium Halalkalibacterium_halodurans_C-125 Staphylococcus_carnosus_subsp._carnosus_TM300   Streptococcus_equinus   Lactococcus_lactis_subsp._lactis_Il1403 Enterococcus_faecalis_V583  Latilactobacillus_sakei Listeria_innocua_Clip11262  Lysinibacillus_sphaericus   Mycoplasma_capricolum_subsp._capricolum_ATCC_27343  Mycoplasmoides_pneumoniae_M129  Salmonella_enterica_subsp._enterica_serovar_Typhimurium_str._LT2    Escherichia_coli_K-12   Haemophilus_influenzae_Rd_KW20  Buchnera_aphidicola_str._Sg__Schizaphis_graminum_   Borreliella_burgdorferi_B31 Shigella_flexneri   Cupriavidus_necator_H16 QUERY   Streptomyces_coelicolor_A3_2_   Archaeoglobus_fulgidus_DSM_4304 Rhodobacter_capsulatus  Xanthomonas_campestris_pv._campestris_str._ATCC_33913   Haloferax_volcanii_DS2\n",
      "Processing completed for ptsP. Results saved in 'phylogenetic_results'.\n"
     ]
    }
   ],
   "source": [
    "process_gene_with_clustal(\"ptsP\")"
   ]
  },
  {
   "cell_type": "markdown",
   "metadata": {},
   "source": [
    "#### **2: Gene ButyrylCoA**"
   ]
  },
  {
   "cell_type": "code",
   "execution_count": 4,
   "metadata": {},
   "outputs": [
    {
     "name": "stdout",
     "output_type": "stream",
     "text": [
      "Running ClustalW2 for butyrylCoA...\n",
      "Distance Matrix:\n",
      "QUERY   0.000000\n",
      "Roseburia_hominis_A2-183    0.249363    0.000000\n",
      "Anaerostipes_caccae_L1-92   0.257350    0.245211    0.000000\n",
      "Syntrophomonas_wolfei_subsp._wolfei_str._Goettingen_G311    0.477721    0.451849    0.460215    0.000000\n",
      "Clostridium_kluyveri_DSM_555    0.627855    0.622103    0.635468    0.637799    0.000000\n",
      "Fasciola_hepatica   0.662234    0.671414    0.661874    0.699947    0.491096    0.000000\n",
      "    QUERY   Roseburia_hominis_A2-183    Anaerostipes_caccae_L1-92   Syntrophomonas_wolfei_subsp._wolfei_str._Goettingen_G311    Clostridium_kluyveri_DSM_555    Fasciola_hepatica\n",
      "Processing completed for butyrylCoA. Results saved in 'phylogenetic_results'.\n"
     ]
    }
   ],
   "source": [
    "process_gene_with_clustal(\"butyrylCoA\")"
   ]
  },
  {
   "cell_type": "markdown",
   "metadata": {},
   "source": [
    "#### **3: Gene MutS Domain I**"
   ]
  },
  {
   "cell_type": "code",
   "execution_count": 5,
   "metadata": {},
   "outputs": [
    {
     "name": "stdout",
     "output_type": "stream",
     "text": [
      "Running ClustalW2 for MutS...\n",
      "Distance Matrix:\n",
      "Streptomyces_albus_G    0.000000\n",
      "QUERY   0.773655    0.000000\n",
      "Paramecium_bursaria_Chlorella_virus_NC1A    0.837165    0.951747    0.000000\n",
      "Escherichia_phage_P1    1.070342    0.871604    1.121784    0.000000\n",
      "    Streptomyces_albus_G    QUERY   Paramecium_bursaria_Chlorella_virus_NC1A    Escherichia_phage_P1\n",
      "Processing completed for MutS. Results saved in 'phylogenetic_results'.\n"
     ]
    }
   ],
   "source": [
    "process_gene_with_clustal(\"MutS\")"
   ]
  }
 ],
 "metadata": {
  "kernelspec": {
   "display_name": "bio_env",
   "language": "python",
   "name": "python3"
  },
  "language_info": {
   "codemirror_mode": {
    "name": "ipython",
    "version": 3
   },
   "file_extension": ".py",
   "mimetype": "text/x-python",
   "name": "python",
   "nbconvert_exporter": "python",
   "pygments_lexer": "ipython3",
   "version": "3.10.16"
  }
 },
 "nbformat": 4,
 "nbformat_minor": 2
}
