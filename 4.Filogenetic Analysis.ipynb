{
 "cells": [
  {
   "cell_type": "markdown",
   "metadata": {},
   "source": [
    "## **Filogenetic Analysis**\n",
    "\n",
    "The code performs a multiple sequence alignment of seven sequences, selecting the best alignments of homologous sequences. Then, it processes the calculation of the distance matrix based on the obtained alignment using the 'BLOSUM62' substitution matrix. Finally, it constructs phylogenetic trees using the UPGMA and NJ methods for each gene under analysis.\n"
   ]
  },
  {
   "cell_type": "code",
   "execution_count": 8,
   "metadata": {},
   "outputs": [],
   "source": [
    "from Bio import SeqIO, AlignIO, Phylo\n",
    "from Bio.SeqRecord import SeqRecord\n",
    "from Bio.Phylo.TreeConstruction import DistanceCalculator, DistanceTreeConstructor\n",
    "import subprocess\n",
    "import os\n",
    "import matplotlib.pyplot as plt\n",
    "\n",
    "def process_gene_with_clustal(gene_name, fasta_file):\n",
    "    # Create output directory\n",
    "    output_dir = \"Resultados da Análise Filogenética\"\n",
    "    os.makedirs(output_dir, exist_ok=True)\n",
    "\n",
    "    # Read the FASTA file\n",
    "    sequences = []\n",
    "    with open(fasta_file) as handle:\n",
    "        for record in SeqIO.parse(handle, \"fasta\"):\n",
    "            sequences.append(record)\n",
    "\n",
    "    # Check if we have at least 7 sequences\n",
    "    if len(sequences) < 7:\n",
    "        raise ValueError(f\"The FASTA file must contain at least 7 sequences. Found: {len(sequences)}\")\n",
    "\n",
    "    # Save the extracted sequences in a FASTA file\n",
    "    trimmed_fasta = os.path.join(output_dir, f\"{gene_name}_trimmed.fasta\")\n",
    "    SeqIO.write(sequences, trimmed_fasta, \"fasta\")\n",
    "\n",
    "    # Path to the ClustalW2 executable\n",
    "    clustal_exe = \"clustalw2\"  # Replace with the correct executable path if necessary\n",
    "\n",
    "    # Define the alignment output file\n",
    "    alignment_file = os.path.join(output_dir, f\"{gene_name}_alignment.fasta\")\n",
    "\n",
    "    # Execute the ClustalW2 command to perform the alignment\n",
    "    clustal_command = [\n",
    "        clustal_exe,\n",
    "        f\"/INFILE={trimmed_fasta}\",\n",
    "        f\"/OUTFILE={alignment_file}\",\n",
    "        \"/OUTPUT=FASTA\",\n",
    "        \"/QUIET\"\n",
    "    ]\n",
    "\n",
    "    print(f\"Running ClustalW2 for gene {gene_name}...\")\n",
    "    try:\n",
    "        subprocess.run(clustal_command, check=True)\n",
    "    except subprocess.CalledProcessError as e:\n",
    "        print(f\"Error executing ClustalW2: {e}\")\n",
    "        return\n",
    "\n",
    "    # Check if the alignment was successfully generated\n",
    "    if not os.path.exists(alignment_file):\n",
    "        raise FileNotFoundError(f\"Alignment was not generated for gene {gene_name}.\")\n",
    "\n",
    "    # Read the generated alignment\n",
    "    alignment = AlignIO.read(alignment_file, \"fasta\")\n",
    "\n",
    "    # Ensure unique IDs and preserve important information\n",
    "    unique_ids = set()\n",
    "    for i, record in enumerate(alignment):\n",
    "        # Extract the full original ID\n",
    "        original_id = record.id\n",
    "        full_description = record.description\n",
    "\n",
    "        # Process the description to include everything\n",
    "        full_id = \"_\".join(full_description.replace(\":\", \"\").split())  # Replace spaces with \"_\", remove \":\"\n",
    "\n",
    "        # Ensure uniqueness\n",
    "        if full_id in unique_ids:\n",
    "            print(f\"Duplicate ID found: {full_id}. Renaming...\")\n",
    "            full_id = f\"{full_id}_{i}\"  # Add index if necessary\n",
    "\n",
    "        # Update the record's ID and description\n",
    "        record.id = full_id\n",
    "        record.description = full_id\n",
    "        unique_ids.add(full_id)\n",
    "\n",
    "    # Compute distance matrix\n",
    "    calculator = DistanceCalculator('blosum62')\n",
    "    try:\n",
    "        dm = calculator.get_distance(alignment)\n",
    "        print(f\"Distance Matrix:\\n{dm}\")\n",
    "    except ValueError as e:\n",
    "        print(f\"Error calculating distance matrix: {e}\")\n",
    "        return\n",
    "\n",
    "    # Build trees\n",
    "    constructor = DistanceTreeConstructor()\n",
    "    upgma_tree = constructor.upgma(dm)\n",
    "    nj_tree = constructor.nj(dm)\n",
    "\n",
    "    # Remove 'Inner' labels from clades and highlight Homo genus\n",
    "    for tree in [upgma_tree, nj_tree]:\n",
    "        for clade in tree.find_clades():\n",
    "            if 'Inner' in (clade.name or ''):\n",
    "                clade.name = \"\"\n",
    "            if 'Homo' in (clade.name or ''):\n",
    "                clade.color = 'orange'\n",
    "                clade.name = '*** ' + clade.name + ' ***'  # Mark the clade\n",
    "\n",
    "    # Save trees\n",
    "    Phylo.write(upgma_tree, os.path.join(output_dir, f'{gene_name}_upgma_tree.nwk'), 'newick')\n",
    "    Phylo.write(nj_tree, os.path.join(output_dir, f'{gene_name}_nj_tree.nwk'), 'newick')\n",
    "\n",
    "    # Process and plot trees\n",
    "    for tree, tree_type in [(upgma_tree, 'UPGMA'), (nj_tree, 'NJ')]:\n",
    "        # Create figure and axes\n",
    "        fig = plt.figure(figsize=(35, 15))  # Increase figure size\n",
    "        ax = fig.add_subplot(1, 1, 1)\n",
    "\n",
    "        # Draw tree on created axes\n",
    "        Phylo.draw(tree, do_show=False, axes=ax)\n",
    "        for label in ax.get_xticklabels() + ax.get_yticklabels():\n",
    "            label.set_fontsize(18)\n",
    "        for text in ax.findobj(match=plt.Text):  # Find all text objects\n",
    "            text.set_fontsize(22)\n",
    "\n",
    "        # Add title\n",
    "        plt.title(f'{gene_name} - {tree_type} Tree', fontsize=30)\n",
    "\n",
    "        # Save tree image\n",
    "        tree_img = os.path.join(output_dir, f'{gene_name}_{tree_type}_tree.png')\n",
    "        plt.savefig(tree_img, bbox_inches='tight')  # 'bbox_inches' ensures nothing gets cut off\n",
    "        plt.close()\n",
    "\n",
    "    print(f\"Processing completed for gene {gene_name}. Results saved in '{output_dir}'.\")\n"
   ]
  },
  {
   "cell_type": "markdown",
   "metadata": {},
   "source": [
    "#### **1: Gene ptsP**"
   ]
  },
  {
   "cell_type": "code",
   "execution_count": 9,
   "metadata": {},
   "outputs": [
    {
     "name": "stdout",
     "output_type": "stream",
     "text": [
      "Running ClustalW2 for gene ptsP...\n",
      "Distance Matrix:\n",
      "Faecalibacterium_prausnitzii    0.000000\n",
      "Faecalibacterium_prausnitzii_1  0.001080    0.000000\n",
      "Faecalibacterium_prausnitzii_2  0.001080    0.002159    0.000000\n",
      "Faecalibacterium_prausnitzii_3  0.001439    0.002519    0.002519    0.000000\n",
      "Faecalibacterium_prausnitzii_4  0.002157    0.003236    0.003236    0.003596    0.000000\n",
      "Faecalibacterium_sp.    0.001439    0.000360    0.002519    0.002879    0.003596    0.000000\n",
      "Faecalibacterium_prausnitzii_6  0.001799    0.002879    0.002879    0.003239    0.003955    0.003239    0.000000\n",
      "    Faecalibacterium_prausnitzii    Faecalibacterium_prausnitzii_1  Faecalibacterium_prausnitzii_2  Faecalibacterium_prausnitzii_3  Faecalibacterium_prausnitzii_4  Faecalibacterium_sp.    Faecalibacterium_prausnitzii_6\n",
      "Processing completed for gene ptsP. Results saved in 'Resultados da Análise Filogenética'.\n"
     ]
    }
   ],
   "source": [
    "process_gene_with_clustal(\"ptsP\", \"blast_results/ptsP_blast.fasta\")"
   ]
  },
  {
   "cell_type": "markdown",
   "metadata": {},
   "source": [
    "#### **2: Gene ButyrylCoA**"
   ]
  },
  {
   "cell_type": "code",
   "execution_count": 10,
   "metadata": {},
   "outputs": [
    {
     "name": "stdout",
     "output_type": "stream",
     "text": [
      "Running ClustalW2 for gene butyrylCoA...\n",
      "Distance Matrix:\n",
      "Faecalibacterium    0.000000\n",
      "Faecalibacterium_1  0.002124    0.000000\n",
      "Faecalibacterium_prausnitzii    0.002123    0.004246    0.000000\n",
      "Faecalibacterium_prausnitzii_M21/2  0.000000    0.002124    0.002123    0.000000\n",
      "Faecalibacterium_sp.    0.003398    0.001700    0.005520    0.003398    0.000000\n",
      "Faecalibacterium_prausnitzii_5  0.003398    0.001276    0.005520    0.003398    0.002975    0.000000\n",
      "Faecalibacterium_prausnitzii_6  0.003398    0.001276    0.005520    0.003398    0.002975    0.002551    0.000000\n",
      "    Faecalibacterium    Faecalibacterium_1  Faecalibacterium_prausnitzii    Faecalibacterium_prausnitzii_M21/2  Faecalibacterium_sp.    Faecalibacterium_prausnitzii_5  Faecalibacterium_prausnitzii_6\n",
      "Processing completed for gene butyrylCoA. Results saved in 'Resultados da Análise Filogenética'.\n"
     ]
    }
   ],
   "source": [
    "process_gene_with_clustal(\"butyrylCoA\", \"blast_results/butyrylCoA_blast.fasta\")"
   ]
  },
  {
   "cell_type": "markdown",
   "metadata": {},
   "source": [
    "#### **3: Gene MutS Domain I**"
   ]
  },
  {
   "cell_type": "code",
   "execution_count": 11,
   "metadata": {},
   "outputs": [
    {
     "name": "stdout",
     "output_type": "stream",
     "text": [
      "Running ClustalW2 for gene MutS...\n"
     ]
    },
    {
     "ename": "FileNotFoundError",
     "evalue": "Alignment was not generated for gene MutS.",
     "output_type": "error",
     "traceback": [
      "\u001b[1;31m---------------------------------------------------------------------------\u001b[0m",
      "\u001b[1;31mFileNotFoundError\u001b[0m                         Traceback (most recent call last)",
      "Cell \u001b[1;32mIn[11], line 1\u001b[0m\n\u001b[1;32m----> 1\u001b[0m \u001b[43mprocess_gene_with_clustal\u001b[49m\u001b[43m(\u001b[49m\u001b[38;5;124;43m\"\u001b[39;49m\u001b[38;5;124;43mMutS\u001b[39;49m\u001b[38;5;124;43m\"\u001b[39;49m\u001b[43m,\u001b[49m\u001b[43m \u001b[49m\u001b[38;5;124;43m\"\u001b[39;49m\u001b[38;5;124;43mblast_results/MutS_blast.fasta\u001b[39;49m\u001b[38;5;124;43m\"\u001b[39;49m\u001b[43m)\u001b[49m\n",
      "Cell \u001b[1;32mIn[8], line 51\u001b[0m, in \u001b[0;36mprocess_gene_with_clustal\u001b[1;34m(gene_name, fasta_file)\u001b[0m\n\u001b[0;32m     49\u001b[0m \u001b[38;5;66;03m# Check if the alignment was successfully generated\u001b[39;00m\n\u001b[0;32m     50\u001b[0m \u001b[38;5;28;01mif\u001b[39;00m \u001b[38;5;129;01mnot\u001b[39;00m os\u001b[38;5;241m.\u001b[39mpath\u001b[38;5;241m.\u001b[39mexists(alignment_file):\n\u001b[1;32m---> 51\u001b[0m     \u001b[38;5;28;01mraise\u001b[39;00m \u001b[38;5;167;01mFileNotFoundError\u001b[39;00m(\u001b[38;5;124mf\u001b[39m\u001b[38;5;124m\"\u001b[39m\u001b[38;5;124mAlignment was not generated for gene \u001b[39m\u001b[38;5;132;01m{\u001b[39;00mgene_name\u001b[38;5;132;01m}\u001b[39;00m\u001b[38;5;124m.\u001b[39m\u001b[38;5;124m\"\u001b[39m)\n\u001b[0;32m     53\u001b[0m \u001b[38;5;66;03m# Read the generated alignment\u001b[39;00m\n\u001b[0;32m     54\u001b[0m alignment \u001b[38;5;241m=\u001b[39m AlignIO\u001b[38;5;241m.\u001b[39mread(alignment_file, \u001b[38;5;124m\"\u001b[39m\u001b[38;5;124mfasta\u001b[39m\u001b[38;5;124m\"\u001b[39m)\n",
      "\u001b[1;31mFileNotFoundError\u001b[0m: Alignment was not generated for gene MutS."
     ]
    }
   ],
   "source": [
    "process_gene_with_clustal(\"MutS\", \"blast_results/MutS_blast.fasta\")"
   ]
  }
 ],
 "metadata": {
  "kernelspec": {
   "display_name": "bio_env",
   "language": "python",
   "name": "python3"
  },
  "language_info": {
   "codemirror_mode": {
    "name": "ipython",
    "version": 3
   },
   "file_extension": ".py",
   "mimetype": "text/x-python",
   "name": "python",
   "nbconvert_exporter": "python",
   "pygments_lexer": "ipython3",
   "version": "3.10.16"
  }
 },
 "nbformat": 4,
 "nbformat_minor": 2
}
