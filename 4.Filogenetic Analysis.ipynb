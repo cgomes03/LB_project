{
 "cells": [
  {
   "cell_type": "markdown",
   "metadata": {},
   "source": [
    "## **Filogenetic Analysis**\n",
    "\n",
    "The code performs a multiple sequence alignment of seven sequences, selecting the best alignments of homologous sequences. Then, it processes the calculation of the distance matrix based on the obtained alignment using the 'BLOSUM62' substitution matrix. Finally, it constructs phylogenetic trees using the UPGMA and NJ methods for each gene under analysis.\n"
   ]
  },
  {
   "cell_type": "code",
   "execution_count": 17,
   "metadata": {},
   "outputs": [],
   "source": [
    "from Bio import SeqIO, AlignIO, Phylo\n",
    "from Bio.SeqRecord import SeqRecord\n",
    "from Bio.Phylo.TreeConstruction import DistanceCalculator, DistanceTreeConstructor\n",
    "import subprocess\n",
    "import os\n",
    "import matplotlib.pyplot as plt\n",
    "import re\n",
    "\n",
    "def process_gene_with_clustal(gene_name, fasta_file):\n",
    "    # Create output directory\n",
    "    output_dir = \"filogenetic_analysis\"\n",
    "    os.makedirs(output_dir, exist_ok=True)\n",
    "\n",
    "    # Read the FASTA file\n",
    "    sequences = []\n",
    "    with open(fasta_file) as handle:\n",
    "        for record in SeqIO.parse(handle, \"fasta\"):\n",
    "            sequences.append(record)\n",
    "\n",
    "    # Save the extracted sequences in a FASTA file\n",
    "    trimmed_fasta = os.path.join(output_dir, f\"{gene_name}_trimmed.fasta\")\n",
    "    SeqIO.write(sequences, trimmed_fasta, \"fasta\")\n",
    "\n",
    "    # Path to the ClustalW2 executable\n",
    "    clustal_exe = \"clustalw2\"  # Replace with the correct executable path if necessary\n",
    "\n",
    "    # Define the alignment output file\n",
    "    alignment_file = os.path.join(output_dir, f\"{gene_name}_alignment.fasta\")\n",
    "\n",
    "    # Execute the ClustalW2 command to perform the alignment\n",
    "    clustal_command = [\n",
    "        clustal_exe,\n",
    "        f\"/INFILE={trimmed_fasta}\",\n",
    "        f\"/OUTFILE={alignment_file}\",\n",
    "        \"/OUTPUT=FASTA\",\n",
    "        \"/QUIET\"\n",
    "    ]\n",
    "\n",
    "    print(f\"Running ClustalW2 for gene {gene_name}...\")\n",
    "    try:\n",
    "        subprocess.run(clustal_command, check=True)\n",
    "    except subprocess.CalledProcessError as e:\n",
    "        print(f\"Error executing ClustalW2: {e}\")\n",
    "        return\n",
    "\n",
    "    # Check if the alignment was successfully generated\n",
    "    if not os.path.exists(alignment_file):\n",
    "        raise FileNotFoundError(f\"Alignment was not generated for gene {gene_name}.\")\n",
    "\n",
    "    # Read the generated alignment\n",
    "    alignment = AlignIO.read(alignment_file, \"fasta\")\n",
    "\n",
    "    # Ensure unique IDs and preserve important information\n",
    "    unique_ids = set()\n",
    "    query_id = None  # Para armazenar a identificação da query, se necessário\n",
    "\n",
    "    for record in alignment:\n",
    "        original_id = record.id\n",
    "        full_description = record.description\n",
    "\n",
    "        # Tenta extrair o nome da espécie da descrição, se disponível\n",
    "        species_match = re.search(r\"\\[(.*?)\\]\", full_description)\n",
    "        if species_match:\n",
    "            full_id = species_match.group(1).replace(\" \", \"_\")  # Usa o nome da espécie\n",
    "        else:\n",
    "            full_id = original_id  # Caso contrário, mantém o ID original\n",
    "\n",
    "        # Se a sequência corresponde à tua query, guarda a referência\n",
    "        if \"query\" in full_description.lower() or \"query\" in original_id.lower():\n",
    "            query_id = full_id\n",
    "\n",
    "        # Evitar duplicados\n",
    "        if full_id in unique_ids:\n",
    "            print(f\"Duplicate ID found: {full_id}. Skipping...\")\n",
    "            continue\n",
    "\n",
    "        # Atualizar ID da sequência\n",
    "        record.id = full_id\n",
    "        record.description = full_id\n",
    "        unique_ids.add(full_id)\n",
    "\n",
    "    # Verifica se a query foi encontrada\n",
    "    if query_id:\n",
    "        print(f\"Query identificada: {query_id}\")\n",
    "    else:\n",
    "        print(\"Aviso: A query não foi identificada no alinhamento.\")\n",
    "\n",
    "\n",
    "    # Compute distance matrix\n",
    "    calculator = DistanceCalculator('blosum62')\n",
    "    try:\n",
    "        dm = calculator.get_distance(alignment)\n",
    "        print(f\"Distance Matrix:\\n{dm}\")\n",
    "    except ValueError as e:\n",
    "        print(f\"Error calculating distance matrix: {e}\")\n",
    "        return\n",
    "\n",
    "    # Build trees\n",
    "    constructor = DistanceTreeConstructor()\n",
    "    upgma_tree = constructor.upgma(dm)\n",
    "    nj_tree = constructor.nj(dm)\n",
    "\n",
    "    # Destacar a query e remover 'Inner' labels\n",
    "    for tree in [upgma_tree, nj_tree]:\n",
    "        for clade in tree.find_clades():\n",
    "            if 'Inner' in (clade.name or ''):\n",
    "                clade.name = \"\"\n",
    "            if clade.name == query_id:\n",
    "                clade.color = 'red'  # Destaca a query a vermelho\n",
    "                clade.name = f'*** QUERY: {clade.name} ***'\n",
    "            elif 'Homo' in (clade.name or ''):\n",
    "                clade.color = 'orange'\n",
    "                clade.name = f'*** {clade.name} ***'\n",
    "\n",
    "    # Save trees\n",
    "    Phylo.write(upgma_tree, os.path.join(output_dir, f'{gene_name}_upgma_tree.nwk'), 'newick')\n",
    "    Phylo.write(nj_tree, os.path.join(output_dir, f'{gene_name}_nj_tree.nwk'), 'newick')\n",
    "\n",
    "    # Process and plot trees\n",
    "    for tree, tree_type in [(upgma_tree, 'UPGMA'), (nj_tree, 'NJ')]:\n",
    "        # Create figure and axes\n",
    "        fig = plt.figure(figsize=(35, 15))  # Increase figure size\n",
    "        ax = fig.add_subplot(1, 1, 1)\n",
    "\n",
    "        # Draw tree on created axes\n",
    "        Phylo.draw(tree, do_show=False, axes=ax)\n",
    "        for label in ax.get_xticklabels() + ax.get_yticklabels():\n",
    "            label.set_fontsize(18)\n",
    "        for text in ax.findobj(match=plt.Text):  # Find all text objects\n",
    "            text.set_fontsize(22)\n",
    "\n",
    "        # Add title\n",
    "        plt.title(f'{gene_name} - {tree_type} Tree', fontsize=30)\n",
    "\n",
    "        # Save tree image\n",
    "        tree_img = os.path.join(output_dir, f'{gene_name}_{tree_type}_tree.png')\n",
    "        plt.savefig(tree_img, bbox_inches='tight')  # 'bbox_inches' ensures nothing gets cut off\n",
    "        plt.close()\n",
    "\n",
    "    print(f\"Processing completed for gene {gene_name}. Results saved in '{output_dir}'.\")\n"
   ]
  },
  {
   "cell_type": "markdown",
   "metadata": {},
   "source": [
    "#### **1: Gene ptsP**"
   ]
  },
  {
   "cell_type": "code",
   "execution_count": 18,
   "metadata": {},
   "outputs": [
    {
     "name": "stdout",
     "output_type": "stream",
     "text": [
      "Running ClustalW2 for gene ptsP...\n",
      "Aviso: A query não foi identificada no alinhamento.\n",
      "Distance Matrix:\n",
      "P23388  0.000000\n",
      "P45597  0.538190    0.000000\n",
      "D4GYE2  0.605221    0.621061    0.000000\n",
      "O83018  0.634316    0.646711    0.603387    0.000000\n",
      "P42014  0.633088    0.645530    0.603387    0.007593    0.000000\n",
      "O69251  0.635552    0.648364    0.610526    0.174375    0.172858    0.000000\n",
      "P08838  0.648463    0.666797    0.619289    0.185897    0.188914    0.171418    0.000000\n",
      "Q9K8D3  0.622441    0.645694    0.599685    0.248579    0.247063    0.231148    0.248777    0.000000\n",
      "P51183  0.663574    0.655706    0.627961    0.281191    0.283453    0.275438    0.269591    0.283453    0.000000\n",
      "Q6GAD0  0.663171    0.652998    0.625243    0.280814    0.283076    0.273947    0.268091    0.280814    0.002563    0.000000\n",
      "Q99V14  0.663311    0.655079    0.624854    0.284908    0.287166    0.276517    0.268813    0.281521    0.006947    0.004388    0.000000\n",
      "Q931U2  0.663578    0.654946    0.625243    0.283509    0.285768    0.276247    0.268539    0.282756    0.008047    0.005486    0.001463    0.000000\n",
      "Q6GI01  0.663977    0.654545    0.626796    0.283723    0.285983    0.276453    0.269865    0.283723    0.006955    0.004392    0.008410    0.009510    0.000000\n",
      "Q5HQ85  0.672859    0.664217    0.619029    0.284528    0.287925    0.282836    0.281695    0.293585    0.085683    0.083120    0.087386    0.088515    0.086018    0.000000\n",
      "P23533  0.657235    0.647036    0.616433    0.290298    0.293318    0.276636    0.273854    0.295583    0.128035    0.127667    0.130051    0.129732    0.129092    0.138858    0.000000\n",
      "Q92D19  0.659911    0.677907    0.605848    0.263736    0.266768    0.249906    0.256670    0.285335    0.263060    0.260467    0.261931    0.260548    0.264815    0.264466    0.270160    0.000000\n",
      "O31149  0.661401    0.677907    0.605458    0.265051    0.268080    0.251594    0.256670    0.286634    0.263801    0.261208    0.262671    0.261288    0.265556    0.264837    0.270903    0.007055    0.000000\n",
      "Q9WXK9  0.649697    0.685836    0.595340    0.307605    0.305820    0.317926    0.332832    0.330550    0.342647    0.342279    0.342878    0.341535    0.344726    0.333211    0.313979    0.293373    0.293527    0.000000\n",
      "P30299  0.653737    0.690467    0.594563    0.310646    0.307985    0.319429    0.329827    0.339658    0.343750    0.343382    0.343979    0.342637    0.345829    0.330633    0.310281    0.293373    0.295387    0.072294    0.000000\n",
      "P45595  0.652314    0.691239    0.606507    0.307634    0.306878    0.310513    0.325206    0.330688    0.323918    0.323551    0.324542    0.323195    0.325266    0.321087    0.305166    0.285502    0.282156    0.082051    0.086813    0.000000\n",
      "Q9CJ82  0.646253    0.696642    0.606602    0.322605    0.319955    0.317466    0.331705    0.348732    0.362832    0.362463    0.363034    0.362799    0.364173    0.353028    0.339497    0.298252    0.298996    0.163363    0.137665    0.170463    0.000000\n",
      "Q9ZAD8  0.646656    0.698186    0.606990    0.324120    0.321469    0.317841    0.332457    0.349867    0.365044    0.364676    0.365243    0.365009    0.366384    0.355244    0.343195    0.300855    0.301599    0.167034    0.141336    0.174137    0.003671    0.000000\n",
      "P23530  0.660385    0.689111    0.602634    0.303726    0.302973    0.300671    0.302247    0.321039    0.328933    0.327466    0.327839    0.326493    0.328199    0.319032    0.305822    0.263704    0.261111    0.205700    0.203873    0.210354    0.216196    0.216929    0.000000\n",
      "O07126  0.658428    0.687693    0.602724    0.320833    0.317424    0.308586    0.302894    0.333333    0.342349    0.339755    0.340363    0.340118    0.341111    0.339021    0.324786    0.269859    0.274313    0.291388    0.271715    0.289796    0.280624    0.283964    0.236511    0.000000\n",
      "Q84F83  0.662353    0.670827    0.629236    0.300343    0.298439    0.295138    0.284956    0.334602    0.338964    0.338213    0.339205    0.337833    0.341088    0.350996    0.334462    0.315038    0.312782    0.367730    0.360976    0.354754    0.384615    0.384615    0.344207    0.354135    0.000000\n",
      "P75168  0.698045    0.718583    0.652982    0.522943    0.522943    0.524972    0.531238    0.525180    0.542549    0.542178    0.541806    0.540691    0.545151    0.553698    0.526806    0.532836    0.535448    0.535369    0.528295    0.536485    0.547655    0.546910    0.512658    0.532836    0.561463    0.000000\n",
      "P47668  0.720659    0.724085    0.660164    0.528670    0.525229    0.519304    0.521491    0.512615    0.532234    0.531859    0.531484    0.531484    0.534858    0.543103    0.517462    0.528991    0.531627    0.556724    0.547708    0.555222    0.555222    0.555222    0.532682    0.541039    0.556909    0.215498    0.000000\n",
      "P45617  0.669939    0.702830    0.642205    0.467804    0.466253    0.451093    0.455278    0.450737    0.465556    0.465556    0.467876    0.467675    0.467272    0.470076    0.459962    0.466234    0.468929    0.496570    0.485899    0.484987    0.490122    0.491641    0.486742    0.462271    0.505905    0.487467    0.493781    0.000000\n",
      "P0A249  0.648858    0.671496    0.611155    0.468702    0.471202    0.479969    0.484154    0.483796    0.472033    0.474679    0.476981    0.476981    0.477144    0.490730    0.459265    0.480061    0.481214    0.487258    0.487833    0.488240    0.499811    0.499432    0.484688    0.499431    0.521756    0.605342    0.600076    0.533308    0.000000\n",
      "P08839  0.647227    0.671496    0.613924    0.471793    0.474295    0.475391    0.484154    0.483025    0.473167    0.475813    0.478113    0.478113    0.478277    0.489974    0.458886    0.477022    0.481594    0.486877    0.481749    0.489757    0.493379    0.493000    0.485066    0.495256    0.523269    0.602709    0.596278    0.531405    0.022667    0.000000\n",
      "P43922  0.665987    0.669538    0.623418    0.481453    0.484345    0.482259    0.480718    0.469522    0.469766    0.469388    0.472075    0.472075    0.471855    0.480515    0.453581    0.492214    0.492979    0.478889    0.472624    0.476480    0.512675    0.514567    0.486578    0.496015    0.533106    0.600075    0.609191    0.520365    0.254064    0.255006    0.000000\n",
      "Q8KA50  0.682372    0.681392    0.664161    0.528780    0.529931    0.521260    0.529210    0.537989    0.523507    0.522015    0.524590    0.524590    0.521447    0.531915    0.503001    0.542028    0.544666    0.557836    0.555970    0.554393    0.566991    0.566991    0.534927    0.537128    0.568516    0.623313    0.606657    0.554926    0.323738    0.319626    0.378692    0.000000\n",
      "Q9WXI6  0.688418    0.695856    0.659019    0.522175    0.524103    0.512781    0.523482    0.540686    0.530166    0.529789    0.532380    0.532380    0.531097    0.540959    0.510783    0.535078    0.537325    0.556607    0.544112    0.554126    0.555514    0.555891    0.541132    0.546970    0.548997    0.612467    0.599848    0.553022    0.296435    0.294184    0.369231    0.174319    0.000000\n",
      "Q89B04  0.682739    0.707584    0.681962    0.547437    0.550115    0.535782    0.547773    0.542081    0.548735    0.548363    0.550223    0.550223    0.545015    0.558408    0.537224    0.563158    0.565414    0.599107    0.588323    0.590164    0.585602    0.585602    0.561475    0.561654    0.572826    0.623313    0.617625    0.570730    0.355945    0.347745    0.405889    0.310129    0.293636    0.000000\n",
      "O51508  0.719005    0.712679    0.708464    0.604366    0.608579    0.600832    0.609913    0.602677    0.609856    0.608373    0.610433    0.610433    0.609259    0.617069    0.606637    0.615327    0.613594    0.635688    0.630855    0.625511    0.639479    0.639479    0.635386    0.629505    0.629924    0.678306    0.672795    0.607605    0.561370    0.562123    0.575301    0.562685    0.562946    0.578870    0.000000\n",
      "Q83QP3  0.707661    0.735511    0.699569    0.657263    0.657263    0.641132    0.662747    0.649638    0.664662    0.667293    0.667293    0.667669    0.666541    0.676316    0.643072    0.650339    0.652600    0.672304    0.666291    0.667169    0.671552    0.671928    0.656250    0.658252    0.664012    0.722769    0.706667    0.680518    0.631120    0.631879    0.654269    0.647059    0.657685    0.667552    0.707124    0.000000\n",
      "P77439  0.709560    0.733852    0.697492    0.655988    0.655988    0.639864    0.661480    0.647597    0.663407    0.666040    0.666040    0.666416    0.665288    0.675066    0.641808    0.648323    0.650584    0.670301    0.664286    0.665160    0.669549    0.669925    0.654991    0.656238    0.662747    0.720877    0.705143    0.680397    0.630979    0.631739    0.656416    0.648064    0.658694    0.668565    0.707014    0.003726    0.000000\n",
      "Q8XBQ8  0.710145    0.736311    0.699257    0.658165    0.658165    0.642050    0.663636    0.650552    0.665916    0.668544    0.668544    0.668919    0.667793    0.676802    0.644361    0.650865    0.653123    0.672420    0.666417    0.667293    0.671670    0.672045    0.656767    0.659142    0.664900    0.723147    0.707113    0.682908    0.633573    0.634331    0.657825    0.649110    0.659341    0.669572    0.707941    0.008185    0.008929    0.000000\n",
      "Q8FFD8  0.710484    0.735511    0.695533    0.653699    0.653699    0.639109    0.659203    0.646453    0.661151    0.663783    0.663783    0.664159    0.663031    0.672809    0.640301    0.646815    0.649077    0.669549    0.662782    0.663653    0.669925    0.670301    0.654237    0.655484    0.659332    0.721634    0.706286    0.676583    0.630600    0.631359    0.654897    0.648443    0.657555    0.661352    0.706637    0.014531    0.014909    0.019717    0.000000\n",
      "P32670  0.696436    0.736051    0.695462    0.655687    0.656836    0.660283    0.669456    0.665138    0.678640    0.678258    0.681314    0.681314    0.679022    0.686282    0.678530    0.678421    0.676888    0.684633    0.681957    0.675986    0.682722    0.681575    0.676369    0.694902    0.682503    0.710627    0.706863    0.675592    0.698069    0.696911    0.693050    0.699228    0.706564    0.703475    0.736239    0.547112    0.545213    0.549772    0.544453    0.000000\n",
      "P37177  0.712867    0.751825    0.721055    0.687651    0.686037    0.687276    0.693477    0.674738    0.725405    0.725010    0.727022    0.727022    0.727093    0.715302    0.690787    0.700000    0.700394    0.716765    0.719921    0.706603    0.714398    0.714398    0.701145    0.701575    0.695170    0.711033    0.708333    0.699723    0.695396    0.697363    0.703266    0.704937    0.710806    0.726526    0.752553    0.745396    0.748599    0.748999    0.748199    0.718178    0.000000\n",
      "P37178  0.713930    0.746238    0.713226    0.685275    0.683657    0.683706    0.689476    0.673139    0.727381    0.726984    0.729002    0.729002    0.729076    0.715534    0.692857    0.697665    0.698061    0.714512    0.717684    0.703100    0.712530    0.712530    0.700753    0.696478    0.694687    0.716200    0.711439    0.700159    0.692550    0.694521    0.696492    0.709005    0.714624    0.724666    0.750493    0.744689    0.745090    0.746896    0.747495    0.717771    0.042215    0.000000\n",
      "P23536  0.662817    0.708042    0.694592    0.577749    0.577749    0.600511    0.606627    0.593643    0.602041    0.601616    0.603990    0.603990    0.603573    0.602384    0.605196    0.605777    0.606537    0.612297    0.607509    0.612931    0.618259    0.618259    0.614928    0.609269    0.626701    0.656131    0.677461    0.626271    0.605106    0.603404    0.594468    0.640744    0.641069    0.655377    0.671635    0.727004    0.727311    0.730413    0.729536    0.699316    0.669632    0.675859    0.000000\n",
      "Q9KZP1  0.690021    0.687475    0.689683    0.636179    0.636844    0.633481    0.637094    0.644336    0.651108    0.650712    0.654423    0.653497    0.650455    0.660474    0.618312    0.666401    0.667064    0.664811    0.662302    0.659289    0.665217    0.665217    0.657345    0.655718    0.643287    0.694118    0.703689    0.682463    0.663958    0.665313    0.674787    0.714114    0.715323    0.719649    0.712690    0.752191    0.753687    0.755971    0.756477    0.753241    0.744412    0.745123    0.675993    0.000000\n",
      "O29548  0.772913    0.783013    0.742908    0.719977    0.719977    0.720930    0.716279    0.714118    0.733721    0.733721    0.734302    0.733140    0.734884    0.738372    0.741279    0.715698    0.717442    0.730814    0.730814    0.728488    0.743754    0.745645    0.719767    0.715116    0.736200    0.753016    0.756961    0.756126    0.743739    0.745486    0.728596    0.723937    0.740827    0.754222    0.750730    0.819284    0.818129    0.818444    0.817919    0.795038    0.757593    0.754089    0.734800    0.765417    0.000000\n",
      "    P23388  P45597  D4GYE2  O83018  P42014  O69251  P08838  Q9K8D3  P51183  Q6GAD0  Q99V14  Q931U2  Q6GI01  Q5HQ85  P23533  Q92D19  O31149  Q9WXK9  P30299  P45595  Q9CJ82  Q9ZAD8  P23530  O07126  Q84F83  P75168  P47668  P45617  P0A249  P08839  P43922  Q8KA50  Q9WXI6  Q89B04  O51508  Q83QP3  P77439  Q8XBQ8  Q8FFD8  P32670  P37177  P37178  P23536  Q9KZP1  O29548\n",
      "Processing completed for gene ptsP. Results saved in 'filogenetic_analysis'.\n"
     ]
    }
   ],
   "source": [
    "process_gene_with_clustal(\"ptsP\", \"blast_results/ptsP_blast.fasta\")"
   ]
  },
  {
   "cell_type": "markdown",
   "metadata": {},
   "source": [
    "#### **2: Gene ButyrylCoA**"
   ]
  },
  {
   "cell_type": "code",
   "execution_count": 7,
   "metadata": {},
   "outputs": [
    {
     "name": "stdout",
     "output_type": "stream",
     "text": [
      "Running ClustalW2 for gene butyrylCoA...\n",
      "Distance Matrix:\n",
      "G2SYC0  0.000000\n",
      "B0MC58  0.245211    0.000000\n",
      "Q0AVM5  0.451849    0.460215    0.000000\n",
      "    G2SYC0  B0MC58  Q0AVM5\n",
      "Processing completed for gene butyrylCoA. Results saved in 'filogenetic_analysis'.\n"
     ]
    }
   ],
   "source": [
    "process_gene_with_clustal(\"butyrylCoA\", \"blast_results/butyrylCoA_blast.fasta\")"
   ]
  },
  {
   "cell_type": "markdown",
   "metadata": {},
   "source": [
    "#### **3: Gene MutS Domain I**"
   ]
  },
  {
   "cell_type": "code",
   "execution_count": 11,
   "metadata": {},
   "outputs": [
    {
     "name": "stdout",
     "output_type": "stream",
     "text": [
      "Running ClustalW2 for gene MutS...\n"
     ]
    },
    {
     "ename": "FileNotFoundError",
     "evalue": "Alignment was not generated for gene MutS.",
     "output_type": "error",
     "traceback": [
      "\u001b[1;31m---------------------------------------------------------------------------\u001b[0m",
      "\u001b[1;31mFileNotFoundError\u001b[0m                         Traceback (most recent call last)",
      "Cell \u001b[1;32mIn[11], line 1\u001b[0m\n\u001b[1;32m----> 1\u001b[0m \u001b[43mprocess_gene_with_clustal\u001b[49m\u001b[43m(\u001b[49m\u001b[38;5;124;43m\"\u001b[39;49m\u001b[38;5;124;43mMutS\u001b[39;49m\u001b[38;5;124;43m\"\u001b[39;49m\u001b[43m,\u001b[49m\u001b[43m \u001b[49m\u001b[38;5;124;43m\"\u001b[39;49m\u001b[38;5;124;43mblast_results/MutS_blast.fasta\u001b[39;49m\u001b[38;5;124;43m\"\u001b[39;49m\u001b[43m)\u001b[49m\n",
      "Cell \u001b[1;32mIn[8], line 51\u001b[0m, in \u001b[0;36mprocess_gene_with_clustal\u001b[1;34m(gene_name, fasta_file)\u001b[0m\n\u001b[0;32m     49\u001b[0m \u001b[38;5;66;03m# Check if the alignment was successfully generated\u001b[39;00m\n\u001b[0;32m     50\u001b[0m \u001b[38;5;28;01mif\u001b[39;00m \u001b[38;5;129;01mnot\u001b[39;00m os\u001b[38;5;241m.\u001b[39mpath\u001b[38;5;241m.\u001b[39mexists(alignment_file):\n\u001b[1;32m---> 51\u001b[0m     \u001b[38;5;28;01mraise\u001b[39;00m \u001b[38;5;167;01mFileNotFoundError\u001b[39;00m(\u001b[38;5;124mf\u001b[39m\u001b[38;5;124m\"\u001b[39m\u001b[38;5;124mAlignment was not generated for gene \u001b[39m\u001b[38;5;132;01m{\u001b[39;00mgene_name\u001b[38;5;132;01m}\u001b[39;00m\u001b[38;5;124m.\u001b[39m\u001b[38;5;124m\"\u001b[39m)\n\u001b[0;32m     53\u001b[0m \u001b[38;5;66;03m# Read the generated alignment\u001b[39;00m\n\u001b[0;32m     54\u001b[0m alignment \u001b[38;5;241m=\u001b[39m AlignIO\u001b[38;5;241m.\u001b[39mread(alignment_file, \u001b[38;5;124m\"\u001b[39m\u001b[38;5;124mfasta\u001b[39m\u001b[38;5;124m\"\u001b[39m)\n",
      "\u001b[1;31mFileNotFoundError\u001b[0m: Alignment was not generated for gene MutS."
     ]
    }
   ],
   "source": [
    "process_gene_with_clustal(\"MutS\", \"blast_results/MutS_blast.fasta\")"
   ]
  }
 ],
 "metadata": {
  "kernelspec": {
   "display_name": "bio_env",
   "language": "python",
   "name": "python3"
  },
  "language_info": {
   "codemirror_mode": {
    "name": "ipython",
    "version": 3
   },
   "file_extension": ".py",
   "mimetype": "text/x-python",
   "name": "python",
   "nbconvert_exporter": "python",
   "pygments_lexer": "ipython3",
   "version": "3.10.16"
  }
 },
 "nbformat": 4,
 "nbformat_minor": 2
}
