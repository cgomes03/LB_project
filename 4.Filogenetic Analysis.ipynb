{
 "cells": [
  {
   "cell_type": "markdown",
   "metadata": {},
   "source": [
    "## **Filogenetic Analysis**\n",
    "\n",
    "The code performs a multiple sequence alignment of seven sequences, selecting the best alignments of homologous sequences. Then, it processes the calculation of the distance matrix based on the obtained alignment using the 'BLOSUM62' substitution matrix. Finally, it constructs phylogenetic trees using the UPGMA and NJ methods for each gene under analysis.\n"
   ]
  },
  {
   "cell_type": "code",
   "execution_count": 21,
   "metadata": {},
   "outputs": [],
   "source": [
    "from Bio import SeqIO, AlignIO, Phylo\n",
    "from Bio.SeqRecord import SeqRecord\n",
    "from Bio.Phylo.TreeConstruction import DistanceCalculator, DistanceTreeConstructor\n",
    "import subprocess\n",
    "import os\n",
    "import matplotlib.pyplot as plt\n",
    "import re\n",
    "from Bio.Blast import NCBIXML\n",
    "\n",
    "def process_gene_with_clustal(gene_name, fasta_file):\n",
    "    # Create output directory\n",
    "    output_dir = \"filogenetic_analysis\"\n",
    "    os.makedirs(output_dir, exist_ok=True)\n",
    "\n",
    "    # Read the FASTA file\n",
    "    sequences = []\n",
    "    with open(fasta_file) as handle:\n",
    "        for record in SeqIO.parse(handle, \"fasta\"):\n",
    "            sequences.append(record)\n",
    "\n",
    "    # Save the extracted sequences in a FASTA file\n",
    "    trimmed_fasta = os.path.join(output_dir, f\"{gene_name}_trimmed.fasta\")\n",
    "    SeqIO.write(sequences, trimmed_fasta, \"fasta\")\n",
    "\n",
    "    # Path to the ClustalW2 executable\n",
    "    clustal_exe = \"clustalw2\"  # Replace with the correct executable path if necessary\n",
    "\n",
    "    # Define the alignment output file\n",
    "    alignment_file = os.path.join(output_dir, f\"{gene_name}_alignment.fasta\")\n",
    "\n",
    "    # Execute the ClustalW2 command to perform the alignment\n",
    "    clustal_command = [\n",
    "        clustal_exe,\n",
    "        f\"/INFILE={trimmed_fasta}\",\n",
    "        f\"/OUTFILE={alignment_file}\",\n",
    "        \"/OUTPUT=FASTA\",\n",
    "        \"/QUIET\"\n",
    "    ]\n",
    "\n",
    "    print(f\"Running ClustalW2 for gene {gene_name}...\")\n",
    "    try:\n",
    "        subprocess.run(clustal_command, check=True)\n",
    "    except subprocess.CalledProcessError as e:\n",
    "        print(f\"Error executing ClustalW2: {e}\")\n",
    "        return\n",
    "\n",
    "    # Check if the alignment was successfully generated\n",
    "    if not os.path.exists(alignment_file):\n",
    "        raise FileNotFoundError(f\"Alignment was not generated for gene {gene_name}.\")\n",
    "\n",
    "    # Read the generated alignment\n",
    "    alignment = AlignIO.read(alignment_file, \"fasta\")\n",
    "\n",
    "    # Ensure unique IDs and preserve important information\n",
    "    unique_ids = set()\n",
    "    query_id = None  # Para armazenar a identificação da query, se necessário\n",
    "\n",
    "    for record in alignment:\n",
    "        original_id = record.id\n",
    "        full_description = record.description\n",
    "\n",
    "        # Tenta extrair o nome da espécie da descrição, se disponível\n",
    "        species_match = re.search(r\"Species:\\s*(.+)\", full_description)\n",
    "        if species_match:\n",
    "            full_id = species_match.group(1).replace(\" \", \"_\")  # Usa o nome da espécie\n",
    "        else:\n",
    "            full_id = original_id  # Caso contrário, mantém o ID original\n",
    "\n",
    "        # Se a sequência corresponde à tua query, guarda a referência\n",
    "        if \"query\" in full_description.lower() or \"query\" in original_id.lower():\n",
    "            query_id = full_id\n",
    "\n",
    "        # Evitar duplicados\n",
    "        if full_id in unique_ids:\n",
    "            print(f\"Duplicate ID found: {full_id}. Skipping...\")\n",
    "            continue\n",
    "\n",
    "        # Atualizar ID da sequência\n",
    "        record.id = full_id\n",
    "        record.description = full_id\n",
    "        unique_ids.add(full_id)\n",
    "\n",
    "    # Verifica se a query foi encontrada\n",
    "    if query_id:\n",
    "        print(f\"Query identificada: {query_id}\")\n",
    "    else:\n",
    "        print(\"Aviso: A query não foi identificada no alinhamento.\")\n",
    "\n",
    "\n",
    "    # Compute distance matrix\n",
    "    calculator = DistanceCalculator('blosum62')\n",
    "    try:\n",
    "        dm = calculator.get_distance(alignment)\n",
    "        print(f\"Distance Matrix:\\n{dm}\")\n",
    "    except ValueError as e:\n",
    "        print(f\"Error calculating distance matrix: {e}\")\n",
    "        return\n",
    "\n",
    "    # Build trees\n",
    "    constructor = DistanceTreeConstructor()\n",
    "    upgma_tree = constructor.upgma(dm)\n",
    "    nj_tree = constructor.nj(dm)\n",
    "\n",
    "    # Destacar a query e remover 'Inner' labels\n",
    "    for tree in [upgma_tree, nj_tree]:\n",
    "        for clade in tree.find_clades():\n",
    "            if 'Inner' in (clade.name or ''):\n",
    "                clade.name = \"\"\n",
    "            if clade.name == query_id:\n",
    "                clade.color = 'red'  # Destaca a query a vermelho\n",
    "                clade.name = f'*** QUERY: {clade.name} ***'\n",
    "            elif 'Homo' in (clade.name or ''):\n",
    "                clade.color = 'orange'\n",
    "                clade.name = f'*** {clade.name} ***'\n",
    "\n",
    "    # Save trees\n",
    "    Phylo.write(upgma_tree, os.path.join(output_dir, f'{gene_name}_upgma_tree.nwk'), 'newick')\n",
    "    Phylo.write(nj_tree, os.path.join(output_dir, f'{gene_name}_nj_tree.nwk'), 'newick')\n",
    "\n",
    "    # Process and plot trees\n",
    "    for tree, tree_type in [(upgma_tree, 'UPGMA'), (nj_tree, 'NJ')]:\n",
    "        # Create figure and axes\n",
    "        fig = plt.figure(figsize=(35, 15))  # Increase figure size\n",
    "        ax = fig.add_subplot(1, 1, 1)\n",
    "\n",
    "        # Draw tree on created axes\n",
    "        Phylo.draw(tree, do_show=False, axes=ax)\n",
    "        for label in ax.get_xticklabels() + ax.get_yticklabels():\n",
    "            label.set_fontsize(18)\n",
    "        for text in ax.findobj(match=plt.Text):  # Find all text objects\n",
    "            text.set_fontsize(22)\n",
    "\n",
    "        # Add title\n",
    "        plt.title(f'{gene_name} - {tree_type} Tree', fontsize=30)\n",
    "\n",
    "        # Save tree image\n",
    "        tree_img = os.path.join(output_dir, f'{gene_name}_{tree_type}_tree.png')\n",
    "        plt.savefig(tree_img, bbox_inches='tight')  # 'bbox_inches' ensures nothing gets cut off\n",
    "        plt.close()\n",
    "\n",
    "    print(f\"Processing completed for gene {gene_name}. Results saved in '{output_dir}'.\")\n"
   ]
  },
  {
   "cell_type": "code",
   "execution_count": 41,
   "metadata": {},
   "outputs": [],
   "source": [
    "from Bio import SeqIO, AlignIO, Phylo\n",
    "from Bio.SeqRecord import SeqRecord\n",
    "from Bio.Phylo.TreeConstruction import DistanceCalculator, DistanceTreeConstructor\n",
    "import subprocess\n",
    "import os\n",
    "import matplotlib.pyplot as plt\n",
    "import re\n",
    "from Bio.Blast import NCBIXML\n",
    "\n",
    "def process_gene_with_clustal(gene_name):\n",
    "    # Check if the query file exists\n",
    "    query_file = os.path.join(\"genes\", f\"{gene_name}.fasta\")\n",
    "    if not os.path.exists(query_file):\n",
    "        print(f\"Error: Query file '{query_file}' not found.\")\n",
    "        return\n",
    "\n",
    "    # Check if the blast results file exists\n",
    "    blast_file = os.path.join(\"blast_results\", f\"{gene_name}_blast.fasta\")\n",
    "    blast_sequences = list(SeqIO.parse(blast_file, \"fasta\"))\n",
    "\n",
    "    if not os.path.exists(blast_file):\n",
    "        print(f\"Error: BLAST results file '{blast_file}' not found.\")\n",
    "        return\n",
    "\n",
    "    # Selecionar as 10 melhores sequências do BLAST\n",
    "    top_hits = blast_sequences[:10]\n",
    "\n",
    "    # Adicionar a query às sequências selecionadas\n",
    "    sequences = [query_sequence] + top_hits\n",
    "\n",
    "    # Salvar as sequências selecionadas em um arquivo FASTA temporário\n",
    "    temp_fasta = os.path.join(\"filogenetic_analysis\", f\"{gene_name}_temp.fasta\")\n",
    "    SeqIO.write(sequences, temp_fasta, \"fasta\")\n",
    "\n",
    "    # Realizar o alinhamento com ClustalW2\n",
    "    alignment_file = os.path.join(\"filogenetic_analysis\", f\"{gene_name}_alignment.fasta\")\n",
    "    clustal_command = [\n",
    "        \"clustalw2\",\n",
    "        f\"-INFILE={temp_fasta}\",\n",
    "        f\"-OUTFILE={alignment_file}\",\n",
    "        \"-OUTPUT=FASTA\",\n",
    "        \"-QUIET\"\n",
    "    ]\n",
    "    subprocess.run(clustal_command, check=True)\n",
    "\n",
    "    # Ler o alinhamento resultante\n",
    "    alignment = AlignIO.read(alignment_file, \"fasta\")\n",
    "\n",
    "     # Compute distance matrix\n",
    "    calculator = DistanceCalculator('blosum62')\n",
    "    dm = calculator.get_distance(alignment)\n",
    "\n",
    "    # Build trees\n",
    "    constructor = DistanceTreeConstructor()\n",
    "    upgma_tree = constructor.upgma(dm)\n",
    "    nj_tree = constructor.nj(dm)\n",
    "\n",
    "    # Save and plot trees\n",
    "    for tree, tree_type in [(upgma_tree, 'UPGMA'), (nj_tree, 'NJ')]:\n",
    "        Phylo.write(tree, os.path.join(output_dir, f'{gene_name}_{tree_type}_tree.nwk'), 'newick')\n",
    "        fig = plt.figure(figsize=(35, 15))\n",
    "        Phylo.draw(tree, do_show=False)\n",
    "        plt.title(f'{gene_name} - {tree_type} Tree', fontsize=30)\n",
    "        plt.savefig(os.path.join(output_dir, f'{gene_name}_{tree_type}_tree.png'), bbox_inches='tight')\n",
    "        plt.close()\n",
    "\n",
    "    print(f\"Processing completed for gene {gene_name}. Results saved in '{output_dir}'.\")\n"
   ]
  },
  {
   "cell_type": "code",
   "execution_count": 43,
   "metadata": {},
   "outputs": [
    {
     "name": "stdout",
     "output_type": "stream",
     "text": [
      "Processing completed for gene ptsP. Results saved in 'filogenetic_analysis'.\n"
     ]
    },
    {
     "data": {
      "text/plain": [
       "<Figure size 3500x1500 with 0 Axes>"
      ]
     },
     "metadata": {},
     "output_type": "display_data"
    },
    {
     "data": {
      "text/plain": [
       "<Figure size 3500x1500 with 0 Axes>"
      ]
     },
     "metadata": {},
     "output_type": "display_data"
    }
   ],
   "source": [
    "from Bio import SeqIO, AlignIO, Phylo\n",
    "from Bio.SeqRecord import SeqRecord\n",
    "from Bio.Phylo.TreeConstruction import DistanceCalculator, DistanceTreeConstructor\n",
    "import subprocess\n",
    "import os\n",
    "import matplotlib.pyplot as plt\n",
    "\n",
    "def process_gene_with_clustal(gene_name):\n",
    "    # Check if the query file exists\n",
    "    query_file = os.path.join(\"genes\", f\"{gene_name}.fasta\")\n",
    "    if not os.path.exists(query_file):\n",
    "        print(f\"Error: Query file '{query_file}' not found.\")\n",
    "        return\n",
    "\n",
    "    # Read the query sequence\n",
    "    query_sequence = next(SeqIO.parse(query_file, \"fasta\"))\n",
    "\n",
    "    # Check if the blast results file exists\n",
    "    blast_file = os.path.join(\"blast_results\", f\"{gene_name}_blast.fasta\")\n",
    "    if not os.path.exists(blast_file):\n",
    "        print(f\"Error: BLAST results file '{blast_file}' not found.\")\n",
    "        return\n",
    "\n",
    "    # Read BLAST sequences\n",
    "    blast_sequences = list(SeqIO.parse(blast_file, \"fasta\"))\n",
    "\n",
    "    # Select the top 10 BLAST hits\n",
    "    top_hits = blast_sequences[:10]\n",
    "\n",
    "    # Add the query to the selected sequences\n",
    "    sequences = [query_sequence] + top_hits\n",
    "\n",
    "    # Create the filogenetic_analysis directory if it doesn't exist\n",
    "    output_dir = \"filogenetic_analysis\"\n",
    "    os.makedirs(output_dir, exist_ok=True)\n",
    "\n",
    "    # Save the selected sequences in a temporary FASTA file\n",
    "    temp_fasta = os.path.join(output_dir, f\"{gene_name}_temp.fasta\")\n",
    "    SeqIO.write(sequences, temp_fasta, \"fasta\")\n",
    "\n",
    "    # Perform alignment with ClustalW2\n",
    "    alignment_file = os.path.join(output_dir, f\"{gene_name}_alignment.fasta\")\n",
    "    clustal_command = [\n",
    "        \"clustalw2\",\n",
    "        f\"-INFILE={temp_fasta}\",\n",
    "        f\"-OUTFILE={alignment_file}\",\n",
    "        \"-OUTPUT=FASTA\",\n",
    "        \"-QUIET\"\n",
    "    ]\n",
    "    subprocess.run(clustal_command, check=True)\n",
    "\n",
    "    # Read the resulting alignment\n",
    "    alignment = AlignIO.read(alignment_file, \"fasta\")\n",
    "\n",
    "    # Compute distance matrix\n",
    "    calculator = DistanceCalculator('blosum62')\n",
    "    dm = calculator.get_distance(alignment)\n",
    "\n",
    "    # Build trees\n",
    "    constructor = DistanceTreeConstructor()\n",
    "    upgma_tree = constructor.upgma(dm)\n",
    "    nj_tree = constructor.nj(dm)\n",
    "\n",
    "    # Save and plot trees\n",
    "    for tree, tree_type in [(upgma_tree, 'UPGMA'), (nj_tree, 'NJ')]:\n",
    "        Phylo.write(tree, os.path.join(output_dir, f'{gene_name}_{tree_type}_tree.nwk'), 'newick')\n",
    "        fig = plt.figure(figsize=(35, 15))\n",
    "        Phylo.draw(tree, do_show=False)\n",
    "        plt.title(f'{gene_name} - {tree_type} Tree', fontsize=30)\n",
    "        plt.savefig(os.path.join(output_dir, f'{gene_name}_{tree_type}_tree.png'), bbox_inches='tight')\n",
    "        plt.close()\n",
    "\n",
    "    print(f\"Processing completed for gene {gene_name}. Results saved in '{output_dir}'.\")\n",
    "\n",
    "# Example usage\n",
    "process_gene_with_clustal(\"ptsP\")\n"
   ]
  },
  {
   "cell_type": "markdown",
   "metadata": {},
   "source": [
    "#### **1: Gene ptsP**"
   ]
  },
  {
   "cell_type": "code",
   "execution_count": 42,
   "metadata": {},
   "outputs": [
    {
     "ename": "NameError",
     "evalue": "name 'query_sequence' is not defined",
     "output_type": "error",
     "traceback": [
      "\u001b[1;31m---------------------------------------------------------------------------\u001b[0m",
      "\u001b[1;31mNameError\u001b[0m                                 Traceback (most recent call last)",
      "Cell \u001b[1;32mIn[42], line 1\u001b[0m\n\u001b[1;32m----> 1\u001b[0m \u001b[43mprocess_gene_with_clustal\u001b[49m\u001b[43m(\u001b[49m\u001b[38;5;124;43m\"\u001b[39;49m\u001b[38;5;124;43mptsP\u001b[39;49m\u001b[38;5;124;43m\"\u001b[39;49m\u001b[43m)\u001b[49m\n",
      "Cell \u001b[1;32mIn[41], line 29\u001b[0m, in \u001b[0;36mprocess_gene_with_clustal\u001b[1;34m(gene_name)\u001b[0m\n\u001b[0;32m     26\u001b[0m top_hits \u001b[38;5;241m=\u001b[39m blast_sequences[:\u001b[38;5;241m10\u001b[39m]\n\u001b[0;32m     28\u001b[0m \u001b[38;5;66;03m# Adicionar a query às sequências selecionadas\u001b[39;00m\n\u001b[1;32m---> 29\u001b[0m sequences \u001b[38;5;241m=\u001b[39m [\u001b[43mquery_sequence\u001b[49m] \u001b[38;5;241m+\u001b[39m top_hits\n\u001b[0;32m     31\u001b[0m \u001b[38;5;66;03m# Salvar as sequências selecionadas em um arquivo FASTA temporário\u001b[39;00m\n\u001b[0;32m     32\u001b[0m temp_fasta \u001b[38;5;241m=\u001b[39m os\u001b[38;5;241m.\u001b[39mpath\u001b[38;5;241m.\u001b[39mjoin(\u001b[38;5;124m\"\u001b[39m\u001b[38;5;124mfilogenetic_analysis\u001b[39m\u001b[38;5;124m\"\u001b[39m, \u001b[38;5;124mf\u001b[39m\u001b[38;5;124m\"\u001b[39m\u001b[38;5;132;01m{\u001b[39;00mgene_name\u001b[38;5;132;01m}\u001b[39;00m\u001b[38;5;124m_temp.fasta\u001b[39m\u001b[38;5;124m\"\u001b[39m)\n",
      "\u001b[1;31mNameError\u001b[0m: name 'query_sequence' is not defined"
     ]
    }
   ],
   "source": [
    "process_gene_with_clustal(\"ptsP\")"
   ]
  },
  {
   "cell_type": "markdown",
   "metadata": {},
   "source": [
    "#### **2: Gene ButyrylCoA**"
   ]
  },
  {
   "cell_type": "code",
   "execution_count": 7,
   "metadata": {},
   "outputs": [
    {
     "name": "stdout",
     "output_type": "stream",
     "text": [
      "Running ClustalW2 for gene butyrylCoA...\n",
      "Distance Matrix:\n",
      "G2SYC0  0.000000\n",
      "B0MC58  0.245211    0.000000\n",
      "Q0AVM5  0.451849    0.460215    0.000000\n",
      "    G2SYC0  B0MC58  Q0AVM5\n",
      "Processing completed for gene butyrylCoA. Results saved in 'filogenetic_analysis'.\n"
     ]
    }
   ],
   "source": [
    "process_gene_with_clustal(\"butyrylCoA\", \"blast_results/butyrylCoA_blast.fasta\")"
   ]
  },
  {
   "cell_type": "markdown",
   "metadata": {},
   "source": [
    "#### **3: Gene MutS Domain I**"
   ]
  },
  {
   "cell_type": "code",
   "execution_count": 11,
   "metadata": {},
   "outputs": [
    {
     "name": "stdout",
     "output_type": "stream",
     "text": [
      "Running ClustalW2 for gene MutS...\n"
     ]
    },
    {
     "ename": "FileNotFoundError",
     "evalue": "Alignment was not generated for gene MutS.",
     "output_type": "error",
     "traceback": [
      "\u001b[1;31m---------------------------------------------------------------------------\u001b[0m",
      "\u001b[1;31mFileNotFoundError\u001b[0m                         Traceback (most recent call last)",
      "Cell \u001b[1;32mIn[11], line 1\u001b[0m\n\u001b[1;32m----> 1\u001b[0m \u001b[43mprocess_gene_with_clustal\u001b[49m\u001b[43m(\u001b[49m\u001b[38;5;124;43m\"\u001b[39;49m\u001b[38;5;124;43mMutS\u001b[39;49m\u001b[38;5;124;43m\"\u001b[39;49m\u001b[43m,\u001b[49m\u001b[43m \u001b[49m\u001b[38;5;124;43m\"\u001b[39;49m\u001b[38;5;124;43mblast_results/MutS_blast.fasta\u001b[39;49m\u001b[38;5;124;43m\"\u001b[39;49m\u001b[43m)\u001b[49m\n",
      "Cell \u001b[1;32mIn[8], line 51\u001b[0m, in \u001b[0;36mprocess_gene_with_clustal\u001b[1;34m(gene_name, fasta_file)\u001b[0m\n\u001b[0;32m     49\u001b[0m \u001b[38;5;66;03m# Check if the alignment was successfully generated\u001b[39;00m\n\u001b[0;32m     50\u001b[0m \u001b[38;5;28;01mif\u001b[39;00m \u001b[38;5;129;01mnot\u001b[39;00m os\u001b[38;5;241m.\u001b[39mpath\u001b[38;5;241m.\u001b[39mexists(alignment_file):\n\u001b[1;32m---> 51\u001b[0m     \u001b[38;5;28;01mraise\u001b[39;00m \u001b[38;5;167;01mFileNotFoundError\u001b[39;00m(\u001b[38;5;124mf\u001b[39m\u001b[38;5;124m\"\u001b[39m\u001b[38;5;124mAlignment was not generated for gene \u001b[39m\u001b[38;5;132;01m{\u001b[39;00mgene_name\u001b[38;5;132;01m}\u001b[39;00m\u001b[38;5;124m.\u001b[39m\u001b[38;5;124m\"\u001b[39m)\n\u001b[0;32m     53\u001b[0m \u001b[38;5;66;03m# Read the generated alignment\u001b[39;00m\n\u001b[0;32m     54\u001b[0m alignment \u001b[38;5;241m=\u001b[39m AlignIO\u001b[38;5;241m.\u001b[39mread(alignment_file, \u001b[38;5;124m\"\u001b[39m\u001b[38;5;124mfasta\u001b[39m\u001b[38;5;124m\"\u001b[39m)\n",
      "\u001b[1;31mFileNotFoundError\u001b[0m: Alignment was not generated for gene MutS."
     ]
    }
   ],
   "source": [
    "process_gene_with_clustal(\"MutS\", \"blast_results/MutS_blast.fasta\")"
   ]
  }
 ],
 "metadata": {
  "kernelspec": {
   "display_name": "bio_env",
   "language": "python",
   "name": "python3"
  },
  "language_info": {
   "codemirror_mode": {
    "name": "ipython",
    "version": 3
   },
   "file_extension": ".py",
   "mimetype": "text/x-python",
   "name": "python",
   "nbconvert_exporter": "python",
   "pygments_lexer": "ipython3",
   "version": "3.10.16"
  }
 },
 "nbformat": 4,
 "nbformat_minor": 2
}
