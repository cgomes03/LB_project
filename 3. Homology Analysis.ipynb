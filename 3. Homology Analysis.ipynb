{
 "cells": [
  {
   "cell_type": "markdown",
   "metadata": {},
   "source": [
    "## **Homology Analysis Using BLAST**\n",
    "\n",
    "This script performs the following operations:\n",
    "\n",
    "1. Reads gene sequences from FASTA files.  \n",
    "2. Runs a BLAST search for each gene using the NCBI \"nr\" database to perform local alignment.  \n",
    "3. Analyzes BLAST results and filters them based on e-value, identity percentage, and coverage.  \n",
    "4. Saves the filtered results in a new FASTA file, including details such as e-value, identities, coverage, and species in the sequence description.  \n",
    "\n",
    "The script uses Biopython for sequence handling and BLAST execution."
   ]
  },
  {
   "cell_type": "code",
   "execution_count": 1,
   "metadata": {},
   "outputs": [],
   "source": [
    "from Bio import SeqIO\n",
    "from Bio.Blast import NCBIWWW, NCBIXML\n",
    "import re\n",
    "import os\n",
    "\n",
    "def blast_and_filter(gene_names, e_value_threshold=0.01, percent_identity_threshold=30, coverage_threshold=30):\n",
    "    if not os.path.exists(\"blast_results\"):\n",
    "        os.makedirs(\"blast_results\")\n",
    "        \n",
    "    for name_gene in gene_names:\n",
    "        # Read sequence and run BLAST\n",
    "        try:\n",
    "            if not os.path.exists(\"genes\"):\n",
    "                os.makedirs(\"genes\")\n",
    "        \n",
    "            query_seq = SeqIO.read(f\"genes/{name_gene}.fasta\", \"fasta\")\n",
    "        except FileNotFoundError:\n",
    "            print(f\"File not found for {name_gene}. Skipping...\")\n",
    "            continue\n",
    "\n",
    "        print(f\"Starting BLAST for  {name_gene}...\")\n",
    "        result_handle = NCBIWWW.qblast(\"blastp\", \"swissprot\", query_seq.seq)\n",
    "        print(f\"BLAST completed for {name_gene}.\")\n",
    "\n",
    "        # Parse and filter results\n",
    "        blast_records = NCBIXML.parse(result_handle)\n",
    "        output_path = f\"blast_results/{name_gene}_blast.fasta\"\n",
    "        \n",
    "        with open(output_path, \"w\") as output_handle:\n",
    "            for blast_record in blast_records:\n",
    "                print(f\"Number of alignments found for  {name_gene}:\", len(blast_record.alignments))\n",
    "                for alignment in blast_record.alignments:\n",
    "                    print(\"Alignment title:\", alignment.title)\n",
    "                    for hsp in alignment.hsps:\n",
    "                        query_cover = (hsp.align_length / blast_record.query_letters) * 100\n",
    "                        print(f\"HSP: E-value: {hsp.expect}, Identities: {hsp.identities}, \"\n",
    "                              f\"Align length: {hsp.align_length}, Query Cover: {query_cover:.2f}%\")\n",
    "                        \n",
    "                        percent_identity = (hsp.identities / hsp.align_length) * 100\n",
    "                        if (hsp.expect <= e_value_threshold and\n",
    "                            percent_identity >= percent_identity_threshold and\n",
    "                            query_cover >= coverage_threshold):\n",
    "                            \n",
    "                            species_match = re.search(r\"\\[(.*?)\\]\", alignment.title)\n",
    "                            species = species_match.group(1) if species_match else \"Unknown species\"\n",
    "                            \n",
    "\n",
    "                            SeqIO.write(\n",
    "                                SeqIO.SeqRecord(\n",
    "                                    seq=hsp.sbjct,\n",
    "                                    id=alignment.accession,\n",
    "                                    description=f\"E-value: {hsp.expect:.2e}, Identities: {hsp.identities}/{hsp.align_length}, \"\n",
    "                                                f\"Query Cover: {query_cover:.2f}%, Percent Identity: {percent_identity:.2f}%, \"\n",
    "                                                f\"Species: {species}\"\n",
    "                                ),\n",
    "                                output_handle,\n",
    "                                \"fasta\"\n",
    "                            )\n",
    "                            break  # Use only the best HSP for each alignment\n",
    "        \n",
    "        print(f\"Filtered BLAST results for {name_gene} were saved in '{output_path}'\")\n",
    "\n",
    "\n",
    "\n",
    "\n",
    "\n",
    "\n"
   ]
  },
  {
   "cell_type": "markdown",
   "metadata": {},
   "source": [
    "#### **1: Gene ptsP**"
   ]
  },
  {
   "cell_type": "code",
   "execution_count": 2,
   "metadata": {},
   "outputs": [
    {
     "name": "stdout",
     "output_type": "stream",
     "text": [
      "Starting BLAST for  ptsP...\n",
      "BLAST completed for ptsP.\n",
      "Number of alignments found for  ptsP: 50\n",
      "Alignment title: sp|Q9K8D3.1| RecName: Full=Phosphoenolpyruvate-protein phosphotransferase; AltName: Full=Phosphotransferase system, enzyme I [Halalkalibacterium halodurans C-125]\n",
      "HSP: E-value: 5.95966e-160, Identities: 228, Align length: 530, Query Cover: 96.89%\n",
      "Alignment title: sp|O83018.1| RecName: Full=Phosphoenolpyruvate-protein phosphotransferase; AltName: Full=Phosphotransferase system, enzyme I [Bacillus sp. S]\n",
      "HSP: E-value: 4.75636e-154, Identities: 235, Align length: 530, Query Cover: 96.89%\n",
      "Alignment title: sp|P42014.1| RecName: Full=Phosphoenolpyruvate-protein phosphotransferase; AltName: Full=Phosphotransferase system, enzyme I [Geobacillus stearothermophilus]\n",
      "HSP: E-value: 6.92156e-153, Identities: 235, Align length: 530, Query Cover: 96.89%\n",
      "Alignment title: sp|O69251.1| RecName: Full=Phosphoenolpyruvate-protein phosphotransferase; AltName: Full=Phosphotransferase system, enzyme I [Priestia megaterium]\n",
      "HSP: E-value: 2.69501e-150, Identities: 227, Align length: 536, Query Cover: 97.99%\n",
      "Alignment title: sp|P08838.3| RecName: Full=Phosphoenolpyruvate-protein phosphotransferase; AltName: Full=Phosphotransferase system, enzyme I [Bacillus subtilis subsp. subtilis str. 168]\n",
      "HSP: E-value: 3.80003e-149, Identities: 228, Align length: 541, Query Cover: 98.90%\n",
      "Alignment title: sp|P23530.2| RecName: Full=Phosphoenolpyruvate-protein phosphotransferase; AltName: Full=Phosphotransferase system, enzyme I [Enterococcus faecalis V583]\n",
      "HSP: E-value: 2.49755e-145, Identities: 232, Align length: 548, Query Cover: 100.18%\n",
      "Alignment title: sp|P23533.2| RecName: Full=Phosphoenolpyruvate-protein phosphotransferase; AltName: Full=Phosphotransferase system, enzyme I [Staphylococcus carnosus subsp. carnosus TM300]\n",
      "HSP: E-value: 9.58212e-145, Identities: 217, Align length: 543, Query Cover: 99.27%\n",
      "Alignment title: sp|Q9WXK9.1| RecName: Full=Phosphoenolpyruvate-protein phosphotransferase; AltName: Full=Phosphotransferase system, enzyme I [Streptococcus equinus]\n",
      "HSP: E-value: 6.55188e-144, Identities: 229, Align length: 549, Query Cover: 100.37%\n",
      "Alignment title: sp|Q92D19.1| RecName: Full=Phosphoenolpyruvate-protein phosphotransferase; AltName: Full=Phosphotransferase system, enzyme I [Listeria innocua Clip11262]\n",
      "HSP: E-value: 6.73286e-144, Identities: 217, Align length: 540, Query Cover: 98.72%\n",
      "Alignment title: sp|O31149.2| RecName: Full=Phosphoenolpyruvate-protein phosphotransferase; AltName: Full=Phosphotransferase system, enzyme I [Listeria monocytogenes EGD-e]\n",
      "HSP: E-value: 1.60061e-143, Identities: 217, Align length: 540, Query Cover: 98.72%\n",
      "Alignment title: sp|O07126.1| RecName: Full=Phosphoenolpyruvate-protein phosphotransferase; AltName: Full=Phosphotransferase system, enzyme I [Latilactobacillus sakei]\n",
      "HSP: E-value: 5.66579e-143, Identities: 224, Align length: 541, Query Cover: 98.90%\n",
      "Alignment title: sp|P30299.1| RecName: Full=Phosphoenolpyruvate-protein phosphotransferase; AltName: Full=Phosphotransferase system, enzyme I [Streptococcus salivarius]\n",
      "HSP: E-value: 1.23048e-142, Identities: 231, Align length: 549, Query Cover: 100.37%\n",
      "Alignment title: sp|P45595.2| RecName: Full=Phosphoenolpyruvate-protein phosphotransferase; AltName: Full=Phosphotransferase system, enzyme I [Streptococcus mutans UA159]\n",
      "HSP: E-value: 7.91263e-142, Identities: 227, Align length: 549, Query Cover: 100.37%\n",
      "Alignment title: sp|P43922.1| RecName: Full=Phosphoenolpyruvate-protein phosphotransferase; AltName: Full=Phosphotransferase system, enzyme I [Haemophilus influenzae Rd KW20]\n",
      "HSP: E-value: 8.38899e-141, Identities: 228, Align length: 535, Query Cover: 97.81%\n",
      "Alignment title: sp|Q9CJ82.1| RecName: Full=Phosphoenolpyruvate-protein phosphotransferase; AltName: Full=Phosphotransferase system, enzyme I [Lactococcus lactis subsp. lactis Il1403]\n",
      "HSP: E-value: 5.50941e-140, Identities: 226, Align length: 545, Query Cover: 99.63%\n",
      "Alignment title: sp|Q5HQ85.1| RecName: Full=Phosphoenolpyruvate-protein phosphotransferase; AltName: Full=Phosphotransferase system, enzyme I [Staphylococcus epidermidis RP62A] >sp|Q8CT19.1| RecName: Full=Phosphoenolpyruvate-protein phosphotransferase; AltName: Full=Phosphotransferase system, enzyme I [Staphylococcus epidermidis ATCC 12228]\n",
      "HSP: E-value: 9.2973e-140, Identities: 220, Align length: 549, Query Cover: 100.37%\n",
      "Alignment title: sp|Q9ZAD8.1| RecName: Full=Phosphoenolpyruvate-protein phosphotransferase; AltName: Full=Phosphotransferase system, enzyme I [Lactococcus cremoris]\n",
      "HSP: E-value: 1.20032e-139, Identities: 225, Align length: 545, Query Cover: 99.63%\n",
      "Alignment title: sp|Q84F83.1| RecName: Full=Phosphoenolpyruvate-protein phosphotransferase; AltName: Full=Phosphotransferase system, enzyme I [Lysinibacillus sphaericus]\n",
      "HSP: E-value: 1.9035e-139, Identities: 215, Align length: 536, Query Cover: 97.99%\n",
      "Alignment title: sp|P51183.1| RecName: Full=Phosphoenolpyruvate-protein phosphotransferase; AltName: Full=Phosphotransferase system, enzyme I [Staphylococcus aureus] >sp|Q5HH01.1| RecName: Full=Phosphoenolpyruvate-protein phosphotransferase; AltName: Full=Phosphotransferase system, enzyme I [Staphylococcus aureus subsp. aureus COL]\n",
      "HSP: E-value: 7.49701e-139, Identities: 217, Align length: 546, Query Cover: 99.82%\n",
      "Alignment title: sp|Q6GAD0.1| RecName: Full=Phosphoenolpyruvate-protein phosphotransferase; AltName: Full=Phosphotransferase system, enzyme I [Staphylococcus aureus subsp. aureus MSSA476] >sp|Q8NX83.1| RecName: Full=Phosphoenolpyruvate-protein phosphotransferase; AltName: Full=Phosphotransferase system, enzyme I [Staphylococcus aureus subsp. aureus MW2]\n",
      "HSP: E-value: 1.59823e-138, Identities: 217, Align length: 546, Query Cover: 99.82%\n",
      "Alignment title: sp|Q6GI01.1| RecName: Full=Phosphoenolpyruvate-protein phosphotransferase; AltName: Full=Phosphotransferase system, enzyme I [Staphylococcus aureus subsp. aureus MRSA252]\n",
      "HSP: E-value: 2.38452e-138, Identities: 217, Align length: 546, Query Cover: 99.82%\n",
      "Alignment title: sp|Q99V14.1| RecName: Full=Phosphoenolpyruvate-protein phosphotransferase; AltName: Full=Phosphotransferase system, enzyme I [Staphylococcus aureus subsp. aureus N315]\n",
      "HSP: E-value: 1.14365e-137, Identities: 217, Align length: 546, Query Cover: 99.82%\n",
      "Alignment title: sp|P45617.1| RecName: Full=Phosphoenolpyruvate-protein phosphotransferase; AltName: Full=Phosphotransferase system, enzyme I [Mycoplasma capricolum subsp. capricolum ATCC 27343]\n",
      "HSP: E-value: 2.16103e-137, Identities: 210, Align length: 537, Query Cover: 98.17%\n",
      "Alignment title: sp|Q931U2.1| RecName: Full=Phosphoenolpyruvate-protein phosphotransferase; AltName: Full=Phosphotransferase system, enzyme I [Staphylococcus aureus subsp. aureus Mu50]\n",
      "HSP: E-value: 5.19534e-137, Identities: 216, Align length: 546, Query Cover: 99.82%\n",
      "Alignment title: sp|P0A249.1| RecName: Full=Phosphoenolpyruvate-protein phosphotransferase; AltName: Full=Phosphotransferase system, enzyme I [Salmonella enterica subsp. enterica serovar Typhimurium str. LT2] >sp|P0A250.1| RecName: Full=Phosphoenolpyruvate-protein phosphotransferase; AltName: Full=Phosphotransferase system, enzyme I [Salmonella enterica subsp. enterica serovar Typhi]\n",
      "HSP: E-value: 4.7922e-136, Identities: 229, Align length: 535, Query Cover: 97.81%\n",
      "Alignment title: sp|P08839.1| RecName: Full=Phosphoenolpyruvate-protein phosphotransferase; AltName: Full=Phosphotransferase system, enzyme I [Escherichia coli K-12]\n",
      "HSP: E-value: 1.29147e-133, Identities: 225, Align length: 539, Query Cover: 98.54%\n",
      "Alignment title: sp|Q8KA50.1| RecName: Full=Phosphoenolpyruvate-protein phosphotransferase; AltName: Full=Phosphotransferase system, enzyme I [Buchnera aphidicola str. Sg (Schizaphis graminum)]\n",
      "HSP: E-value: 4.34638e-128, Identities: 205, Align length: 540, Query Cover: 98.72%\n",
      "Alignment title: sp|Q89B04.1| RecName: Full=Phosphoenolpyruvate-protein phosphotransferase; AltName: Full=Phosphotransferase system, enzyme I [Buchnera aphidicola str. Bp (Baizongia pistaciae)]\n",
      "HSP: E-value: 2.22247e-123, Identities: 199, Align length: 543, Query Cover: 99.27%\n",
      "Alignment title: sp|Q9WXI6.2| RecName: Full=Phosphoenolpyruvate-protein phosphotransferase; AltName: Full=Phosphotransferase system, enzyme I [Buchnera aphidicola str. APS (Acyrthosiphon pisum)]\n",
      "HSP: E-value: 6.0822e-122, Identities: 202, Align length: 534, Query Cover: 97.62%\n",
      "Alignment title: sp|P75168.1| RecName: Full=Phosphoenolpyruvate-protein phosphotransferase; AltName: Full=Phosphotransferase system, enzyme I [Mycoplasmoides pneumoniae M129]\n",
      "HSP: E-value: 9.34915e-121, Identities: 208, Align length: 546, Query Cover: 99.82%\n",
      "Alignment title: sp|P47668.1| RecName: Full=Phosphoenolpyruvate-protein phosphotransferase; AltName: Full=Phosphotransferase system, enzyme I [Mycoplasmoides genitalium G37]\n",
      "HSP: E-value: 8.58862e-118, Identities: 205, Align length: 545, Query Cover: 99.63%\n",
      "Alignment title: sp|O51508.1| RecName: Full=Phosphoenolpyruvate-protein phosphotransferase; AltName: Full=Phosphotransferase system, enzyme I [Borreliella burgdorferi B31]\n",
      "HSP: E-value: 1.69784e-110, Identities: 199, Align length: 551, Query Cover: 100.73%\n",
      "Alignment title: sp|P23388.1| RecName: Full=Multiphosphoryl transfer protein; Short=MTP; AltName: Full=Triphosphoryl transfer protein; Short=TTP; Includes: RecName: Full=Phosphoenolpyruvate-protein phosphotransferase; AltName: Full=Phosphotransferase system enzyme I; Includes: RecName: Full=Phosphocarrier protein HPr; Short=Protein H; Includes: RecName: Full=PTS system fructose-specific EIIA component; AltName: Full=EIII-Fru; AltName: Full=Fructose-specific phosphotransferase enzyme IIA component [Rhodobacter capsulatus]\n",
      "HSP: E-value: 5.95415e-100, Identities: 192, Align length: 519, Query Cover: 94.88%\n",
      "Alignment title: sp|D4GYE2.1| RecName: Full=Phosphoenolpyruvate-protein phosphotransferase; AltName: Full=Phosphotransferase system, enzyme I [Haloferax volcanii DS2]\n",
      "HSP: E-value: 4.87332e-99, Identities: 213, Align length: 546, Query Cover: 99.82%\n",
      "Alignment title: sp|P23536.2| RecName: Full=Phosphoenolpyruvate-protein phosphotransferase; AltName: Full=Phosphotransferase system, enzyme I [Cupriavidus necator H16]\n",
      "HSP: E-value: 2.36876e-98, Identities: 185, Align length: 493, Query Cover: 90.13%\n",
      "Alignment title: sp|P32670.2| RecName: Full=Multiphosphoryl transfer protein 2; Short=MTP 2; AltName: Full=Triphosphoryl transfer protein 2; Short=TTP 2; Includes: RecName: Full=Phosphoenolpyruvate-protein phosphotransferase; AltName: Full=Enzyme I-Ani; AltName: Full=Phosphotransferase system enzyme I; Includes: RecName: Full=Phosphocarrier protein HPr; Short=Protein H; Includes: RecName: Full=PTS system fructose-like EIIA component; AltName: Full=Fructose-like phosphotransferase enzyme IIA component [Escherichia coli K-12]\n",
      "HSP: E-value: 1.53758e-95, Identities: 194, Align length: 538, Query Cover: 98.35%\n",
      "Alignment title: sp|Q83QP3.1| RecName: Full=Multiphosphoryl transfer protein; Short=MTP; AltName: Full=Triphosphoryl transfer protein; Short=TTP; Includes: RecName: Full=Phosphoenolpyruvate-protein phosphotransferase; AltName: Full=Phosphotransferase system enzyme I; Includes: RecName: Full=Phosphocarrier protein HPr; Short=Protein H; Includes: RecName: Full=PTS system fructose-like EIIA component; AltName: Full=Fructose-like phosphotransferase enzyme IIA component [Shigella flexneri]\n",
      "HSP: E-value: 1.58951e-95, Identities: 184, Align length: 539, Query Cover: 98.54%\n",
      "Alignment title: sp|P77439.1| RecName: Full=Multiphosphoryl transfer protein 1; Short=MTP 1; AltName: Full=Triphosphoryl transfer protein 1; Short=TTP 1; Includes: RecName: Full=Phosphoenolpyruvate-protein phosphotransferase; AltName: Full=Phosphotransferase system enzyme I; Includes: RecName: Full=Phosphocarrier protein HPr; Short=Protein H; Includes: RecName: Full=PTS system fructose-like EIIA component; AltName: Full=Fructose-like phosphotransferase enzyme IIA component [Escherichia coli K-12]\n",
      "HSP: E-value: 1.98383e-94, Identities: 183, Align length: 539, Query Cover: 98.54%\n",
      "Alignment title: sp|Q8FFD8.1| RecName: Full=Multiphosphoryl transfer protein; Short=MTP; AltName: Full=Triphosphoryl transfer protein; Short=TTP; Includes: RecName: Full=Phosphoenolpyruvate-protein phosphotransferase; AltName: Full=Phosphotransferase system enzyme I; Includes: RecName: Full=Phosphocarrier protein HPr; Short=Protein H; Includes: RecName: Full=PTS system fructose-like EIIA component; AltName: Full=Fructose-like phosphotransferase enzyme IIA component [Escherichia coli CFT073]\n",
      "HSP: E-value: 3.1444e-94, Identities: 185, Align length: 539, Query Cover: 98.54%\n",
      "Alignment title: sp|Q8XBQ8.1| RecName: Full=Multiphosphoryl transfer protein; Short=MTP; AltName: Full=Triphosphoryl transfer protein; Short=TTP; Includes: RecName: Full=Phosphoenolpyruvate-protein phosphotransferase; AltName: Full=Phosphotransferase system enzyme I; Includes: RecName: Full=Phosphocarrier protein HPr; Short=Protein H; Includes: RecName: Full=PTS system fructose-like EIIA component; AltName: Full=Fructose-like phosphotransferase enzyme IIA component [Escherichia coli O157:H7]\n",
      "HSP: E-value: 4.12785e-94, Identities: 183, Align length: 539, Query Cover: 98.54%\n",
      "Alignment title: sp|P45597.3| RecName: Full=Multiphosphoryl transfer protein; Short=MTP; AltName: Full=Triphosphoryl transfer protein; Short=TTP; Includes: RecName: Full=Phosphoenolpyruvate-protein phosphotransferase; AltName: Full=Phosphotransferase system enzyme I; Includes: RecName: Full=Phosphocarrier protein HPr; Short=Protein H; Includes: RecName: Full=PTS system fructose-specific EIIA component; AltName: Full=EIII-Fru; AltName: Full=Fructose-specific phosphotransferase enzyme IIA component [Xanthomonas campestris pv. campestris str. ATCC 33913]\n",
      "HSP: E-value: 1.20716e-88, Identities: 202, Align length: 553, Query Cover: 101.10%\n",
      "Alignment title: sp|Q9KZP1.1| RecName: Full=Phosphoenolpyruvate-protein phosphotransferase; AltName: Full=Phosphotransferase system, enzyme I [Streptomyces coelicolor A3(2)]\n",
      "HSP: E-value: 1.55022e-86, Identities: 191, Align length: 545, Query Cover: 99.63%\n",
      "Alignment title: sp|P37177.2| RecName: Full=Phosphoenolpyruvate-dependent phosphotransferase system; AltName: Full=Enzyme I-Ntr; Short=EINtr; AltName: Full=Phosphotransferase system, enzyme I [Escherichia coli K-12]\n",
      "HSP: E-value: 2.3493e-85, Identities: 170, Align length: 521, Query Cover: 95.25%\n",
      "Alignment title: sp|P37178.2| RecName: Full=Phosphoenolpyruvate-dependent phosphotransferase system; AltName: Full=Enzyme I-Ntr; Short=EINtr; AltName: Full=Phosphotransferase system, enzyme I [Salmonella enterica subsp. enterica serovar Typhimurium str. LT2]\n",
      "HSP: E-value: 2.76615e-84, Identities: 171, Align length: 523, Query Cover: 95.61%\n",
      "Alignment title: sp|Q9Z9E3.2| RecName: Full=Phosphoenolpyruvate-protein phosphotransferase; AltName: Full=Phosphotransferase system, enzyme I [Chlamydia pneumoniae]\n",
      "HSP: E-value: 4.91056e-57, Identities: 149, Align length: 550, Query Cover: 100.55%\n",
      "Alignment title: sp|Q9PK57.1| RecName: Full=Phosphoenolpyruvate-protein phosphotransferase; AltName: Full=Phosphotransferase system, enzyme I [Chlamydia muridarum str. Nigg]\n",
      "HSP: E-value: 2.33024e-49, Identities: 141, Align length: 537, Query Cover: 98.17%\n",
      "Alignment title: sp|O84340.1| RecName: Full=Phosphoenolpyruvate-protein phosphotransferase; AltName: Full=Phosphotransferase system, enzyme I [Chlamydia trachomatis D/UW-3/CX]\n",
      "HSP: E-value: 2.16358e-48, Identities: 139, Align length: 531, Query Cover: 97.07%\n",
      "Alignment title: sp|O29548.1| RecName: Full=Probable phosphoenolpyruvate synthase; Short=PEP synthase; AltName: Full=Pyruvate, water dikinase [Archaeoglobus fulgidus DSM 4304]\n",
      "HSP: E-value: 2.72131e-47, Identities: 117, Align length: 381, Query Cover: 69.65%\n",
      "Alignment title: sp|P42850.3| RecName: Full=Phosphoenolpyruvate synthase; Short=PEP synthase; AltName: Full=Pyruvate, water dikinase [Pyrococcus furiosus DSM 3638]\n",
      "HSP: E-value: 3.70517e-46, Identities: 112, Align length: 376, Query Cover: 68.74%\n",
      "Alignment title: sp|O57830.1| RecName: Full=Probable phosphoenolpyruvate synthase; Short=PEP synthase; AltName: Full=Pyruvate, water dikinase [Pyrococcus horikoshii OT3]\n",
      "HSP: E-value: 3.11585e-42, Identities: 113, Align length: 379, Query Cover: 69.29%\n",
      "Filtered BLAST results for ptsP were saved in 'blast_results/ptsP_blast.fasta'\n"
     ]
    },
    {
     "name": "stderr",
     "output_type": "stream",
     "text": [
      "c:\\Users\\catar\\anaconda3\\envs\\bio_env\\lib\\site-packages\\Bio\\SeqRecord.py:228: BiopythonDeprecationWarning: Using a string as the sequence is deprecated and will raise a TypeError in future. It has been converted to a Seq object.\n",
      "  warnings.warn(\n"
     ]
    }
   ],
   "source": [
    "gene_names = [\"ptsP\"]\n",
    "blast_and_filter(gene_names)"
   ]
  },
  {
   "cell_type": "markdown",
   "metadata": {},
   "source": [
    "#### **2. Gene ButyrylCoA**"
   ]
  },
  {
   "cell_type": "code",
   "execution_count": 4,
   "metadata": {},
   "outputs": [
    {
     "name": "stdout",
     "output_type": "stream",
     "text": [
      "Starting BLAST for  butyrylCoA...\n",
      "BLAST completed for butyrylCoA.\n",
      "Number of alignments found for  butyrylCoA: 8\n",
      "Alignment title: sp|G2SYC0.1| RecName: Full=Butyryl-CoA:acetate CoA-transferase; Short=Butyryl-CoA CoA-transferase [Roseburia hominis A2-183]\n",
      "HSP: E-value: 0.0, Identities: 332, Align length: 447, Query Cover: 99.78%\n",
      "Alignment title: sp|B0MC58.1| RecName: Full=Butyryl-CoA:acetate CoA-transferase; AltName: Full=Butyryl-CoA CoA-transferase [Anaerostipes caccae L1-92]\n",
      "HSP: E-value: 0.0, Identities: 318, Align length: 447, Query Cover: 99.78%\n",
      "Alignment title: sp|Q0AVM5.1| RecName: Full=Probable butyrate:acetyl-CoA coenzyme A-transferase; Short=Butyrate CoA-transferase [Syntrophomonas wolfei subsp. wolfei str. Goettingen G311]\n",
      "HSP: E-value: 2.47933e-164, Identities: 229, Align length: 444, Query Cover: 99.11%\n",
      "Alignment title: sp|P38942.3| RecName: Full=4-hydroxybutyrate coenzyme A transferase [Clostridium kluyveri DSM 555]\n",
      "HSP: E-value: 7.3562e-97, Identities: 175, Align length: 439, Query Cover: 97.99%\n",
      "Alignment title: sp|C6EUD4.1| RecName: Full=Succinyl-CoA:acetate/propanoyl-CoA:succinate CoA transferase; AltName: Full=Acetate:succinate CoA-transferase; Short=ASCT; AltName: Full=Propionate:succinate CoA-transferase; Short=PSCT; AltName: Full=Short-chain acyl-CoA-transferase; Flags: Precursor [Fasciola hepatica]\n",
      "HSP: E-value: 1.19192e-66, Identities: 135, Align length: 373, Query Cover: 83.26%\n",
      "Alignment title: sp|P38946.1| RecName: Full=Succinyl-CoA:acetate CoA-transferase; AltName: Full=Succinyl-CoA:CoA transferase [Clostridium kluyveri DSM 555]\n",
      "HSP: E-value: 3.79995e-17, Identities: 96, Align length: 394, Query Cover: 87.95%\n",
      "Alignment title: sp|Q54K91.1| RecName: Full=Acetyl-CoA hydrolase; AltName: Full=Acetyl-CoA deacylase; Short=Acetyl-CoA acylase [Dictyostelium discoideum]\n",
      "HSP: E-value: 6.85936e-13, Identities: 85, Align length: 363, Query Cover: 81.03%\n",
      "Alignment title: sp|Q9AR19.1| RecName: Full=Histone acetyltransferase GCN5; Short=AtGCN5; AltName: Full=BIG TOP protein [Arabidopsis thaliana]\n",
      "HSP: E-value: 9.18431, Identities: 33, Align length: 155, Query Cover: 34.60%\n",
      "Filtered BLAST results for butyrylCoA were saved in 'blast_results/butyrylCoA_blast.fasta'\n"
     ]
    }
   ],
   "source": [
    "gene_names = [\"butyrylCoA\"]\n",
    "blast_and_filter(gene_names)"
   ]
  },
  {
   "cell_type": "markdown",
   "metadata": {},
   "source": [
    "#### **3. Gene MutS**"
   ]
  },
  {
   "cell_type": "code",
   "execution_count": 3,
   "metadata": {},
   "outputs": [
    {
     "name": "stdout",
     "output_type": "stream",
     "text": [
      "Starting BLAST for  MutS...\n",
      "BLAST completed for MutS.\n",
      "Number of alignments found for  MutS: 7\n",
      "Alignment title: sp|Q71TF8.1| RecName: Full=Defense against restriction protein B; AltName: Full=DarB [Escherichia phage P1]\n",
      "HSP: E-value: 2.4347e-18, Identities: 115, Align length: 460, Query Cover: 21.73%\n",
      "HSP: E-value: 7.66284e-07, Identities: 31, Align length: 94, Query Cover: 4.44%\n",
      "Alignment title: sp|P52284.1| RecName: Full=Type II methyltransferase M.CvrRI; Short=M.CviRI; AltName: Full=Adenine-specific methyltransferase CviRI; AltName: Full=Modification methylase CviRI [Paramecium bursaria Chlorella virus CV-XZ6E]\n",
      "HSP: E-value: 9.4596e-08, Identities: 33, Align length: 92, Query Cover: 4.35%\n",
      "Alignment title: sp|Q53609.1| RecName: Full=Type II methyltransferase M.SalI; Short=M.SalI; AltName: Full=Adenine-specific methyltransferase SalI; AltName: Full=Modification methylase SalI [Streptomyces albus G]\n",
      "HSP: E-value: 0.00671704, Identities: 34, Align length: 112, Query Cover: 5.29%\n",
      "Alignment title: sp|P10835.1| RecName: Full=Modification methylase CviBIII; Short=M.CviBIII; AltName: Full=Adenine-specific methyltransferase CviBIII; AltName: Full=Orphan methyltransferase M.CviBIII [Paramecium bursaria Chlorella virus NC1A]\n",
      "HSP: E-value: 0.043835, Identities: 33, Align length: 120, Query Cover: 5.67%\n",
      "Alignment title: sp|Q10332.1| RecName: Full=Uncharacterized ATP-dependent helicase C582.10c [Schizosaccharomyces pombe 972h-]\n",
      "HSP: E-value: 0.327759, Identities: 58, Align length: 250, Query Cover: 11.81%\n",
      "Alignment title: sp|J9VI03.2| RecName: Full=DNA (cytosine-5-)-methyltransferase DMT5 [Cryptococcus neoformans var. grubii H99]\n",
      "HSP: E-value: 0.487971, Identities: 34, Align length: 112, Query Cover: 5.29%\n",
      "Alignment title: sp|P25240.1| RecName: Full=Type II methyltransferase M.Eco57I; Short=M.Eco57I; AltName: Full=Adenine-specific methyltransferase Eco57IB; AltName: Full=Modification methylase Eco57IB; Short=Eco57IB [Escherichia coli]\n",
      "HSP: E-value: 4.92422, Identities: 38, Align length: 154, Query Cover: 7.27%\n",
      "Filtered BLAST results for MutS were saved in 'blast_results/MutS_blast.fasta'\n"
     ]
    }
   ],
   "source": [
    "gene_names = [\"MutS\"]\n",
    "blast_and_filter(gene_names)"
   ]
  }
 ],
 "metadata": {
  "kernelspec": {
   "display_name": "bio_env",
   "language": "python",
   "name": "python3"
  },
  "language_info": {
   "codemirror_mode": {
    "name": "ipython",
    "version": 3
   },
   "file_extension": ".py",
   "mimetype": "text/x-python",
   "name": "python",
   "nbconvert_exporter": "python",
   "pygments_lexer": "ipython3",
   "version": "3.10.16"
  }
 },
 "nbformat": 4,
 "nbformat_minor": 2
}
