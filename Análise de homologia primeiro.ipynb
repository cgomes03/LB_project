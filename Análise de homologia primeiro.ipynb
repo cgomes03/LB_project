{
 "cells": [
  {
   "cell_type": "markdown",
   "metadata": {},
   "source": [
    "**Análise de Homologias por BLAST**"
   ]
  },
  {
   "cell_type": "code",
   "execution_count": 1,
   "metadata": {},
   "outputs": [],
   "source": [
    "from Bio.Blast import NCBIXML \n",
    "from Bio.Blast import NCBIWWW \n",
    "from Bio import SeqIO\n",
    "\n",
    "import re"
   ]
  },
  {
   "cell_type": "code",
   "execution_count": 14,
   "metadata": {},
   "outputs": [
    {
     "name": "stderr",
     "output_type": "stream",
     "text": [
      "c:\\Users\\catar\\anaconda3\\envs\\bio_env\\lib\\site-packages\\Bio\\Blast\\NCBIWWW.py:281: BiopythonWarning: BLAST request RKFGU6HD013 is taking longer than 10 minutes, consider re-issuing it\n",
      "  warnings.warn(\n"
     ]
    }
   ],
   "source": [
    "def BLAST_prot (protein_name):\n",
    "    \"\"\"\n",
    "    Função que realiza o BLASTp para a proteína fornecida a partir do ficheiro fasta desta\n",
    "    \"\"\"\n",
    "    protein = SeqIO.read(open(f'genes/{protein_name}.fasta'), format=\"fasta\") \n",
    "    result = NCBIWWW.qblast(\"blastp\", \"swissprot\", protein.seq)\n",
    "    with open(f'{protein_name}.xml', \"w\") as save_file:\n",
    "        save_file.write(result.read())\n",
    "    save_file.close()\n",
    "    result.close()\n",
    "BLAST_prot('ptsP')\n",
    "\n",
    "def first_alignment (protein_name):\n",
    "    result_handle = open(f'{protein_name}.xml')\n",
    "    blast_record = NCBIXML.read(result_handle)\n",
    "\n",
    "    first = blast_record.alignments[0]\n",
    "    print(\"FIRST ALIGNMENT: \", \"\\nAcession:\" + first.accession, \"\\nHit id:\" + first.hit_id)\n",
    "    print(\"Definition: \" + first.hit_def, \"\\nAlignment lenght: \" , first.length, \"\\nNumber of HPSs: \" , len(first.hsps))\n",
    "    result_handle.close()\n",
    "\n",
    "def filter_blast(protein_name, e_value_threshold, percent_identity_threshold, coverage_threshold):\n",
    "    \"\"\" \n",
    "    Função para filtrar os melhores alinhamentos com base no e-value, percent identity e coverage\n",
    "    Output: Nº de hits do blast, informação sobre os 3 melhores alinhamentos e especificação das espécies a que as 3 proteínas homologas pertencem\n",
    "    \"\"\"\n",
    "    result_handle = open(f'{protein_name}.xml')\n",
    "    blast_record = NCBIXML.read(result_handle)\n",
    "    \n",
    "    print(\"PARAMETERS: \\nDatabase: \", blast_record.database)\n",
    "    print(\"Matriz: \" + blast_record.matrix)\n",
    "    print(\"Gap penalties: \" , blast_record.gap_penalties)\n",
    "    print('\\nHits: ', len(blast_record.alignments))\n",
    "    \n",
    "    top_alignments = []\n",
    "    for alignment in blast_record.alignments:\n",
    "        if 'synthetic construct' not in alignment.title.lower():\n",
    "            alignment_info = {\n",
    "                'title': alignment.title,\n",
    "                'length': alignment.length,\n",
    "                'e_value': float('inf'),\n",
    "                'percent_identity': 0.0,\n",
    "                'coverage': 0.0,\n",
    "                'query': '',\n",
    "                'match': '',\n",
    "                'sbjct': ''       }\n",
    "            for hsp in alignment.hsps:\n",
    "                if hsp.expect < alignment_info['e_value'] and \\\n",
    "                 (hsp.identities / hsp.align_length) * 100 >= percent_identity_threshold and \\\n",
    "                 (hsp.align_length / alignment.length) * 100 >= coverage_threshold:\n",
    "\n",
    "                    alignment_info['e_value'] = hsp.expect\n",
    "                    alignment_info['percent_identity'] = (hsp.identities / hsp.align_length) * 100\n",
    "                    alignment_info['coverage'] = (hsp.align_length / alignment.length) * 100\n",
    "                    alignment_info['query'] = hsp.query[0:75] + '...'\n",
    "                    alignment_info['match'] = hsp.match[0:75] + '...'\n",
    "                    alignment_info['sbjct'] = hsp.sbjct[0:75] + '...'\n",
    "\n",
    "            if alignment_info['e_value'] < e_value_threshold:\n",
    "                top_alignments.append(alignment_info)\n",
    "                if alignment_info['coverage'] < coverage_threshold:\n",
    "                    top_alignments.append(alignment_info)\n",
    "                    if alignment_info['percent_identity'] < percent_identity_threshold:\n",
    "                        top_alignments.append(alignment_info)\n",
    "    for i, alignment_info in enumerate(top_alignments[:4]):\n",
    "        print(f'****Alignment {i+1}****')\n",
    "        print('Sequence: ', alignment_info['title'])\n",
    "        print('Length: ', alignment_info['length'])\n",
    "        print('E-value: ', alignment_info['e_value'])\n",
    "        print('Percent identity: {:.2f}%'.format(alignment_info['percent_identity']))\n",
    "        print('Coverage: {:.2f}%'.format(alignment_info['coverage']))\n",
    "        print(alignment_info['query'])\n",
    "        print(alignment_info['match'])\n",
    "        print(alignment_info['sbjct'], '\\n')\n",
    "\n",
    "        species_list = []\n",
    "\n",
    "    for alignment_info in top_alignments[:4]:\n",
    "        title = alignment_info['title']\n",
    "        match = re.search(r\"\\[(.*?)\\]\", title)\n",
    "        if match:\n",
    "            species = match.group(1)\n",
    "            species_list.append(species)\n",
    "    print(\"\\nOrganisms:\")\n",
    "    for species in species_list:\n",
    "        print(species)\n",
    "        \n",
    "    result_handle.close()"
   ]
  },
  {
   "cell_type": "markdown",
   "metadata": {},
   "source": [
    "#### **1: Gene ptsP**"
   ]
  },
  {
   "cell_type": "code",
   "execution_count": 9,
   "metadata": {},
   "outputs": [
    {
     "name": "stdout",
     "output_type": "stream",
     "text": [
      "FIRST ALIGNMENT:  \n",
      "Acession:Q9K8D3 \n",
      "Hit id:sp|Q9K8D3.1|\n",
      "Definition: RecName: Full=Phosphoenolpyruvate-protein phosphotransferase; AltName: Full=Phosphotransferase system, enzyme I [Halalkalibacterium halodurans C-125] \n",
      "Alignment lenght:  572 \n",
      "Number of HPSs:  1\n"
     ]
    }
   ],
   "source": [
    "first_alignment('ptsP')"
   ]
  },
  {
   "cell_type": "code",
   "execution_count": null,
   "metadata": {},
   "outputs": [],
   "source": [
    "def BLAST_prot (protein_name):\n",
    "    \"\"\"\n",
    "    Função que realiza o BLASTp para a proteína fornecida a partir do ficheiro fasta desta\n",
    "    \"\"\"\n",
    "    protein = SeqIO.read(open(f'genes/{protein_name}.fasta'), format=\"fasta\") \n",
    "    result = NCBIWWW.qblast(\"blastp\", \"swissprot\", protein.seq)\n",
    "    with open(f'{protein_name}.xml', \"w\") as save_file:\n",
    "        save_file.write(result.read())\n",
    "    save_file.close()\n",
    "    result.close()\n",
    "BLAST_prot('ptsP')\n",
    "\n",
    "def first_alignment (protein_name):\n",
    "    result_handle = open(f'{protein_name}.xml')\n",
    "    blast_record = NCBIXML.read(result_handle)\n",
    "\n",
    "    first = blast_record.alignments[0]\n",
    "    print(\"FIRST ALIGNMENT: \", \"\\nAcession:\" + first.accession, \"\\nHit id:\" + first.hit_id)\n",
    "    print(\"Definition: \" + first.hit_def, \"\\nAlignment lenght: \" , first.length, \"\\nNumber of HPSs: \" , len(first.hsps))\n",
    "    result_handle.close()\n",
    "\n",
    "\n",
    "def filtter_blast(result_handle, protein_name, e_value_threshold, percent_identity_threshold, coverage_threshold):\n",
    "    species_list = []  # Inicializa a variável como uma lista vazia\n",
    "\n",
    "    # Itera sobre o handle fornecido\n",
    "    for line in result_handle:\n",
    "        # Substitua pela lógica real para preencher species_list\n",
    "        if \"some_condition\" in line:  # Substitua \"some_condition\" pela lógica correta\n",
    "            species = line.strip()  # Ajuste conforme necessário\n",
    "            species_list.append(species)\n",
    "    \n",
    "    print(\"Organisms:\")\n",
    "    for species in species_list:\n",
    "        print(species)\n",
    "\n",
    "e_value_threshold = 1.0\n",
    "percent_identity_threshold = 50\n",
    "coverage_threshold = 50\n",
    "\n",
    "from Bio.Blast import NCBIXML\n",
    "\n",
    "with open('ptsp.xml') as result_handle:\n",
    "    blast_record = NCBIXML.read(result_handle)\n",
    "    print(\"Número de alinhamentos:\", len(blast_record.alignments))\n",
    "\n",
    "print(\"Número de alinhamentos encontrados:\", len(blast_record.alignments))\n",
    "for alignment in blast_record.alignments:\n",
    "    print(\"Título do alinhamento:\", alignment.title)\n",
    "    for hsp in alignment.hsps:\n",
    "        query_cover = (hsp.align_length / blast_record.query_letters) * 100\n",
    "        print(f\"HSP: E-value: {hsp.expect}, Identities: {hsp.identities}, \"\n",
    "              f\"Align length: {hsp.align_length}, Query Cover: {query_cover:.2f}%\")\n"
   ]
  }
 ],
 "metadata": {
  "kernelspec": {
   "display_name": "bio_env",
   "language": "python",
   "name": "python3"
  },
  "language_info": {
   "codemirror_mode": {
    "name": "ipython",
    "version": 3
   },
   "file_extension": ".py",
   "mimetype": "text/x-python",
   "name": "python",
   "nbconvert_exporter": "python",
   "pygments_lexer": "ipython3",
   "version": "3.10.16"
  }
 },
 "nbformat": 4,
 "nbformat_minor": 2
}
