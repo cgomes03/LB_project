{
 "cells": [
  {
   "cell_type": "markdown",
   "metadata": {},
   "source": [
    "### **Análise de genes**"
   ]
  },
  {
   "cell_type": "code",
   "execution_count": 2,
   "metadata": {},
   "outputs": [],
   "source": [
    "from Bio import SeqIO\n",
    "from Bio.Seq import Seq\n",
    "from Bio.SeqRecord import SeqRecord\n",
    "from Bio import SeqFeature"
   ]
  },
  {
   "cell_type": "markdown",
   "metadata": {},
   "source": [
    "##### **1: Gene ptsP**"
   ]
  },
  {
   "cell_type": "code",
   "execution_count": 6,
   "metadata": {},
   "outputs": [
    {
     "data": {
      "text/plain": [
       "SeqRecord(seq=Seq('TCAAGCCTTCTCAGAGGGCTTGCTCAGGTCTACGCTGCGGATGATCTTGCGCAC...CAT'), id='NZ_DS483503.1', name='NZ_DS483503', description='Faecalibacterium prausnitzii M21/2 Scfld_02_24, whole genome shotgun sequence', dbxrefs=['BioProject:PRJNA224116', 'BioSample:SAMN02299416', 'Assembly:GCF_000154385.1'])"
      ]
     },
     "execution_count": 6,
     "metadata": {},
     "output_type": "execute_result"
    }
   ],
   "source": [
    "gene_ptsP = SeqIO.read(\"genes/ptsP.gb\", \"genbank\") \n",
    "gene_ptsP"
   ]
  },
  {
   "cell_type": "code",
   "execution_count": 7,
   "metadata": {},
   "outputs": [
    {
     "name": "stdout",
     "output_type": "stream",
     "text": [
      "1644\n",
      "NZ_DS483503.1\n",
      "Faecalibacterium prausnitzii M21/2 Scfld_02_24, whole genome shotgun sequence\n",
      "NZ_DS483503\n"
     ]
    }
   ],
   "source": [
    "print(len(gene_ptsP.seq))\n",
    "print(gene_ptsP.id)\n",
    "print(gene_ptsP.description)\n",
    "print(gene_ptsP.name)"
   ]
  },
  {
   "cell_type": "code",
   "execution_count": 8,
   "metadata": {},
   "outputs": [
    {
     "name": "stdout",
     "output_type": "stream",
     "text": [
      "{'molecule_type': 'DNA', 'topology': 'linear', 'data_file_division': 'CON', 'date': '10-APR-2024', 'accessions': ['NZ_DS483503'], 'sequence_version': 1, 'keywords': ['WGS', 'RefSeq'], 'source': 'Faecalibacterium prausnitzii M21/2', 'organism': 'Faecalibacterium prausnitzii M21/2', 'taxonomy': ['Bacteria', 'Bacillati', 'Bacillota', 'Clostridia', 'Eubacteriales', 'Oscillospiraceae', 'Faecalibacterium'], 'references': [Reference(title='Draft genome sequence of Faecalibacterium prausnitzii M21/2', ...), Reference(title='Draft genome sequence of Faecalibacterium prausnitzii M21/2', ...), Reference(title='Direct Submission', ...), Reference(title='Direct Submission', ...), Reference(title='Direct Submission', ...)], 'comment': \"REFSEQ INFORMATION: The reference sequence is identical to\\nDS483503.1.\\nFaecalibacterium prausnitzii M21/2 (GenBank Accession Number for\\n16S rDNA gene: AY305307) is a member of the division Firmicutes. In\\none comprehensive 16S rDNA sequence-based enumeration of the\\ncolonic microbiota of three healthy adult humans, it represents, on\\naverage, 3.804% of all 16S rDNA sequences and 7.490% of the\\nsequences in its division (Eckburg et. al. (2005)). The sequenced\\nstrain was obtained from the laboratory of Prof. Harry Flint,\\nRowett Research Institute, Aberdeen, Scotland, UK\\n(H.Flint@rowett.ac.uk).\\nWe have collected 8.4X coverage in plasmid end reads and 454 reads.\\nWe will be performing one round of automated sequence improvement\\n(pre-finishing).\\nSequencing/Assembly: The genomic DNA was purified from liquid\\nculture derived from a single bacterial colony. A hybrid sequencing\\nstrategy that utilized reads from both 454 GS-20 and ABI 3730xl\\nsequencers was devised and implemented to generate the draft genome\\nsequences. 454 reads were assembled using Newbler (454 Life\\nSciences) into 454 de novo contigs. These de novo contigs were\\nconverted in silico to 800 base paired reads ('superreads') with\\n400 base overlaps with neighboring superreads.  Finally, PCAP\\n(Huang, et al, Genome Research, 13:2164, (2003)) was used to\\nassemble the super-reads and the conventional 3730xl capillary\\nreads.\\nThis sequenced strain is part of a comprehensive, sequence-based\\nsurvey of members of the normal human gut microbiota.  A joint\\neffort of the WU-GSC and the Center for Genome Sciences at\\nWashington University School of Medicine, the purpose of this\\nsurvey is to provide the general scientific community with a broad\\nview of the gene content of 100 representatives of the major\\ndivisions represented in the intestine's microbial community. This\\ninformation should provide a frame of reference for analyzing\\nmetagenomic studies of the human gut microbiome. Further details of\\nthis effort are described in a white paper entitled 'ExtendingOur\\nView of Self: the Human Gut Microbiome Initiative (HGMI)'\\n(http://www.genome.gov/Pages/Research/Sequencing/SeqProposals/HGMIS\\neq.pdf). These studies are supported by National Human Genome\\nResearch Institute.\\nFor answers to your questions regarding this assembly or project,\\nor any other GSC genome project, please visit our Genome Groups web\\npage (http://genome.wustl.edu/genome_group_index.cgi) and email the\\ndesignated contact person.\\nFaecalibacterium prausnitzii M21/2 (GenBank Accession Number for\\n16S rDNA gene: AY305307) is a member of the division Firmicutes. In\\none comprehensive 16S rDNA sequence-based enumeration of the\\ncolonic microbiota of three healthy adult humans, it represents, on\\naverage, 3.804% of all 16S rDNA sequences and 7.490% of the\\nsequences in its division (Eckburg et. al. (2005)). The sequenced\\nstrain was obtained from the laboratory of Prof. Harry Flint,\\nRowett Research Institute, Aberdeen, Scotland, UK\\n(H.Flint@rowett.ac.uk).\\nWe have collected 8.4X coverage in plasmid end reads and 454 reads.\\nWe will be performing one round of automated sequence improvement\\n(pre-finishing).\\nSequencing/Assembly: The genomic DNA was purified from liquid\\nculture derived from a single bacterial colony. A hybrid sequencing\\nstrategy that utilized reads from both 454 GS-20 and ABI 3730xl\\nsequencers was devised and implemented to generate the draft genome\\nsequences. 454 reads were assembled using Newbler (454 Life\\nSciences) into 454 de novo contigs. These de novo contigs were\\nconverted in silico to 800 base paired reads ('superreads') with\\n400 base overlaps with neighboring superreads.  Finally, PCAP\\n(Huang, et al, Genome Research, 13:2164, (2003)) was used to\\nassemble the super-reads and the conventional 3730xl capillary\\nreads.\\nThis sequenced strain is part of a comprehensive, sequence-based\\nsurvey of members of the normal human gut microbiota.  A joint\\neffort of the WU-GSC and the Center for Genome Sciences at\\nWashington University School of Medicine, the purpose of this\\nsurvey is to provide the general scientific community with a broad\\nview of the gene content of 100 representatives of the major\\ndivisions represented in the intestine's microbial community. This\\ninformation should provide a frame of reference for analyzing\\nmetagenomic studies of the human gut microbiome. Further details of\\nthis effort are described in a white paper entitled 'ExtendingOur\\nView of Self: the Human Gut Microbiome Initiative (HGMI)'\\n(http://www.genome.gov/Pages/Research/Sequencing/SeqProposals/HGMIS\\neq.pdf). These studies are supported by National Human Genome\\nResearch Institute.\\nCoding sequences were predicted using GeneMark v3.3 and Glimmer2\\nv2.13. Intergenic regions not spanned by GeneMark and Glimmer2 were\\nblasted against NCBI's non-redundant (NR) database and predictions\\ngenerated based on protein alignments. RNA genes were determined\\nusing tRNAscan-SE 1.23 or Rfam v8.0. Gene names are generated at\\nthe contig level and may not necessarily reflect any known order or\\norientation between contigs.These studies are supported by National\\nHuman Genome Research Institute.\\nFor answers to your questions regarding this assembly or project,\\nor any other GSC genome project, please visit our Genome Groups web\\npage (http://genome.wustl.edu/genome_group_index.cgi) and email the\\ndesignated contact person.\\nAnnotation was added to the contigs in October 2007, and the CDS\\ncomments were updated in January 2008.\\nThis is a reference genome for the Human Microbiome Project. This\\nproject is co-owned with the Human Microbiome Project DACC.\\nProduct names were updated in August 2012.\\nThe annotation was added by the NCBI Prokaryotic Genome Annotation\\nPipeline (PGAP). Information about PGAP can be found here:\\nhttps://www.ncbi.nlm.nih.gov/genome/annotation_prok/\", 'structured_comment': defaultdict(<class 'dict'>, {'Genome-Annotation-Data': {'Annotation Provider': 'NCBI RefSeq', 'Annotation Name': 'GCF_000154385.1-RS_2024_04_10', 'Annotation Date': '04/10/2024 16:06:07', 'Annotation Pipeline': 'NCBI Prokaryotic Genome Annotation Pipeline (PGAP)', 'Annotation Method': 'Best-placed reference protein set; GeneMarkS-2+', 'Annotation Software revision': '6.7', 'Features Annotated': 'Gene; CDS; rRNA; tRNA; ncRNA', 'Genes (total)': '3,027', 'CDSs (total)': '2,940', 'Genes (coding)': '2,896', 'CDSs (with protein)': '2,896', 'Genes (RNA)': '87', 'rRNAs': '5, 6, 6 (5S, 16S, 23S)', 'complete rRNAs': '5, 6, 6 (5S, 16S, 23S)', 'tRNAs': '66', 'ncRNAs': '4', 'Pseudo Genes (total)': '44', 'CDSs (without protein)': '44', 'Pseudo Genes (ambiguous residues)': '0 of 44', 'Pseudo Genes (frameshifted)': '10 of 44', 'Pseudo Genes (incomplete)': '35 of 44', 'Pseudo Genes (internal stop)': '5 of 44', 'Pseudo Genes (multiple problems)': '4 of 44'}})}\n"
     ]
    }
   ],
   "source": [
    "print(gene_ptsP.annotations)"
   ]
  },
  {
   "cell_type": "code",
   "execution_count": 9,
   "metadata": {},
   "outputs": [
    {
     "name": "stdout",
     "output_type": "stream",
     "text": [
      "['BioProject:PRJNA224116', 'BioSample:SAMN02299416', 'Assembly:GCF_000154385.1']\n",
      "Faecalibacterium prausnitzii M21/2\n",
      "['Bacteria', 'Bacillati', 'Bacillota', 'Clostridia', 'Eubacteriales', 'Oscillospiraceae', 'Faecalibacterium']\n"
     ]
    }
   ],
   "source": [
    "# Visualização da taxonomia do organismos da sequência anlisada e a base de dados\n",
    "print(gene_ptsP.dbxrefs)\n",
    "print(gene_ptsP.annotations[\"source\"] )\n",
    "print(gene_ptsP.annotations[\"taxonomy\"])"
   ]
  },
  {
   "cell_type": "code",
   "execution_count": 10,
   "metadata": {},
   "outputs": [
    {
     "name": "stdout",
     "output_type": "stream",
     "text": [
      "Temos 3 features\n"
     ]
    },
    {
     "data": {
      "text/plain": [
       "[SeqFeature(SimpleLocation(ExactPosition(0), ExactPosition(1644), strand=1), type='source', qualifiers=...),\n",
       " SeqFeature(SimpleLocation(ExactPosition(0), ExactPosition(1644), strand=-1), type='gene', qualifiers=...),\n",
       " SeqFeature(SimpleLocation(ExactPosition(0), ExactPosition(1644), strand=-1), type='CDS', qualifiers=...)]"
      ]
     },
     "execution_count": 10,
     "metadata": {},
     "output_type": "execute_result"
    }
   ],
   "source": [
    "# Visualização das features e sua quantidade\n",
    "print(\"Temos\", len(gene_ptsP.features), \"features\")\n",
    "gene_ptsP.features"
   ]
  },
  {
   "cell_type": "code",
   "execution_count": 11,
   "metadata": {},
   "outputs": [
    {
     "name": "stdout",
     "output_type": "stream",
     "text": [
      "source [0:1644](+)\n",
      "gene [0:1644](-)\n",
      "CDS [0:1644](-)\n"
     ]
    }
   ],
   "source": [
    "# Determinação dos tipos de feature e suas localizações\n",
    "for t in gene_ptsP.features:\n",
    "    print(t.type, t.location)"
   ]
  },
  {
   "cell_type": "code",
   "execution_count": 12,
   "metadata": {},
   "outputs": [
    {
     "name": "stdout",
     "output_type": "stream",
     "text": [
      "type: CDS\n",
      "location: [0:1644](-)\n",
      "qualifiers:\n",
      "    Key: EC_number, Value: ['2.7.3.9']\n",
      "    Key: GO_function, Value: ['GO:0008965 - phosphoenolpyruvate-protein phosphotransferase activity [Evidence IEA]']\n",
      "    Key: GO_process, Value: ['GO:0009401 - phosphoenolpyruvate-dependent sugar phosphotransferase system [Evidence IEA]; GO:0006808 - regulation of nitrogen utilization [Evidence IEA]']\n",
      "    Key: codon_start, Value: ['1']\n",
      "    Key: db_xref, Value: ['GeneID:75068783']\n",
      "    Key: gene, Value: ['ptsP']\n",
      "    Key: inference, Value: ['COORDINATES: similar to AA sequence:RefSeq:WP_015537632.1']\n",
      "    Key: locus_tag, Value: ['FAEPRAM212_RS10210']\n",
      "    Key: note, Value: ['Derived by automated computational analysis using gene prediction method: Protein Homology.']\n",
      "    Key: old_locus_tag, Value: ['FAEPRAM212_02497']\n",
      "    Key: product, Value: ['phosphoenolpyruvate--protein phosphotransferase']\n",
      "    Key: protein_id, Value: ['WP_005925321.1']\n",
      "    Key: transl_table, Value: ['11']\n",
      "    Key: translation, Value: ['MQVGTGKSVLNGIAIGKLKIYKKKDTAISTAPVADTAAELERFEAARQKAIEQQTALYEKALAEAGEDIAEVFNIHAMMLDDDDFVDAIKEIINGQKMCAEYAVKTAGNNQAAVFSAMDDPYLQARSADVLDIAQAMLDILQGVDNASLQGTEPSILVAEDLAPSETVRMDKSLLLGFITREGSSNSHTAILARSMNIPALIQCKDIQDDWDGKMAVVDGYNACVYVDPTPDLLKSLKKRQQEDQKKQALLQELKGKPNTTLDGKTINVFANIGGMGDVGAVQQNDAGGVGLFRTEFVYLNCKDFPTEDYQFEAYKQVLESLAPRKVVVRTCDIGADKTVDYMKLDHEDNPALGYRAIRICLTRKDFFKTQLRALLRASAYGNMSIMFPMITSLRELQDAKAVLEECRAELTAEGVKMGQNIEVGTMIETPAAVLIADELAAECDFFSIGTNDLTQYTCALDRQNAKLEPFFNPHHPAVLRAIKMTIEAGHRHGIWVGICGELGADTALTETFLRMGVDELSMNAKSILPVRKIIRSVDLSKPSEKA']\n",
      "\n"
     ]
    },
    {
     "data": {
      "text/plain": [
       "[2]"
      ]
     },
     "execution_count": 12,
     "metadata": {},
     "output_type": "execute_result"
    }
   ],
   "source": [
    "# Saber quais features que são do tipo \"CDS\"\n",
    "feat_cds= []\n",
    "for i in range(len(gene_ptsP.features)):\n",
    "    if gene_ptsP.features[i].type == \"CDS\":\n",
    "        feat_cds.append(i)\n",
    "        print(gene_ptsP.features[i])\n",
    "feat_cds"
   ]
  },
  {
   "cell_type": "code",
   "execution_count": 13,
   "metadata": {},
   "outputs": [
    {
     "name": "stdout",
     "output_type": "stream",
     "text": [
      "3\n"
     ]
    }
   ],
   "source": [
    "print(len(gene_ptsP.features))\n"
   ]
  },
  {
   "cell_type": "code",
   "execution_count": 14,
   "metadata": {},
   "outputs": [
    {
     "name": "stdout",
     "output_type": "stream",
     "text": [
      "Feature 0: type: source\n",
      "location: [0:1644](+)\n",
      "qualifiers:\n",
      "    Key: db_xref, Value: ['taxon:411485']\n",
      "    Key: host, Value: ['Homo sapiens']\n",
      "    Key: isolation_source, Value: ['biological product [ENVO:02000043]']\n",
      "    Key: mol_type, Value: ['genomic DNA']\n",
      "    Key: organism, Value: ['Faecalibacterium prausnitzii M21/2']\n",
      "    Key: strain, Value: ['M21/2']\n",
      "\n",
      "Feature 1: type: gene\n",
      "location: [0:1644](-)\n",
      "qualifiers:\n",
      "    Key: db_xref, Value: ['GeneID:75068783']\n",
      "    Key: gene, Value: ['ptsP']\n",
      "    Key: locus_tag, Value: ['FAEPRAM212_RS10210']\n",
      "    Key: old_locus_tag, Value: ['FAEPRAM212_02497']\n",
      "\n",
      "Feature 2: type: CDS\n",
      "location: [0:1644](-)\n",
      "qualifiers:\n",
      "    Key: EC_number, Value: ['2.7.3.9']\n",
      "    Key: GO_function, Value: ['GO:0008965 - phosphoenolpyruvate-protein phosphotransferase activity [Evidence IEA]']\n",
      "    Key: GO_process, Value: ['GO:0009401 - phosphoenolpyruvate-dependent sugar phosphotransferase system [Evidence IEA]; GO:0006808 - regulation of nitrogen utilization [Evidence IEA]']\n",
      "    Key: codon_start, Value: ['1']\n",
      "    Key: db_xref, Value: ['GeneID:75068783']\n",
      "    Key: gene, Value: ['ptsP']\n",
      "    Key: inference, Value: ['COORDINATES: similar to AA sequence:RefSeq:WP_015537632.1']\n",
      "    Key: locus_tag, Value: ['FAEPRAM212_RS10210']\n",
      "    Key: note, Value: ['Derived by automated computational analysis using gene prediction method: Protein Homology.']\n",
      "    Key: old_locus_tag, Value: ['FAEPRAM212_02497']\n",
      "    Key: product, Value: ['phosphoenolpyruvate--protein phosphotransferase']\n",
      "    Key: protein_id, Value: ['WP_005925321.1']\n",
      "    Key: transl_table, Value: ['11']\n",
      "    Key: translation, Value: ['MQVGTGKSVLNGIAIGKLKIYKKKDTAISTAPVADTAAELERFEAARQKAIEQQTALYEKALAEAGEDIAEVFNIHAMMLDDDDFVDAIKEIINGQKMCAEYAVKTAGNNQAAVFSAMDDPYLQARSADVLDIAQAMLDILQGVDNASLQGTEPSILVAEDLAPSETVRMDKSLLLGFITREGSSNSHTAILARSMNIPALIQCKDIQDDWDGKMAVVDGYNACVYVDPTPDLLKSLKKRQQEDQKKQALLQELKGKPNTTLDGKTINVFANIGGMGDVGAVQQNDAGGVGLFRTEFVYLNCKDFPTEDYQFEAYKQVLESLAPRKVVVRTCDIGADKTVDYMKLDHEDNPALGYRAIRICLTRKDFFKTQLRALLRASAYGNMSIMFPMITSLRELQDAKAVLEECRAELTAEGVKMGQNIEVGTMIETPAAVLIADELAAECDFFSIGTNDLTQYTCALDRQNAKLEPFFNPHHPAVLRAIKMTIEAGHRHGIWVGICGELGADTALTETFLRMGVDELSMNAKSILPVRKIIRSVDLSKPSEKA']\n",
      "\n"
     ]
    }
   ],
   "source": [
    "for i, feature in enumerate(gene_ptsP.features):\n",
    "    print(f\"Feature {i}: {feature}\")\n"
   ]
  },
  {
   "cell_type": "code",
   "execution_count": 15,
   "metadata": {},
   "outputs": [
    {
     "name": "stdout",
     "output_type": "stream",
     "text": [
      "source\n",
      "{'organism': ['Faecalibacterium prausnitzii M21/2'], 'mol_type': ['genomic DNA'], 'strain': ['M21/2'], 'isolation_source': ['biological product [ENVO:02000043]'], 'host': ['Homo sapiens'], 'db_xref': ['taxon:411485']}\n",
      "gene\n",
      "{'gene': ['ptsP'], 'locus_tag': ['FAEPRAM212_RS10210'], 'old_locus_tag': ['FAEPRAM212_02497'], 'db_xref': ['GeneID:75068783']}\n",
      "CDS\n",
      "{'gene': ['ptsP'], 'locus_tag': ['FAEPRAM212_RS10210'], 'old_locus_tag': ['FAEPRAM212_02497'], 'EC_number': ['2.7.3.9'], 'inference': ['COORDINATES: similar to AA sequence:RefSeq:WP_015537632.1'], 'GO_function': ['GO:0008965 - phosphoenolpyruvate-protein phosphotransferase activity [Evidence IEA]'], 'GO_process': ['GO:0009401 - phosphoenolpyruvate-dependent sugar phosphotransferase system [Evidence IEA]; GO:0006808 - regulation of nitrogen utilization [Evidence IEA]'], 'note': ['Derived by automated computational analysis using gene prediction method: Protein Homology.'], 'codon_start': ['1'], 'transl_table': ['11'], 'product': ['phosphoenolpyruvate--protein phosphotransferase'], 'protein_id': ['WP_005925321.1'], 'db_xref': ['GeneID:75068783'], 'translation': ['MQVGTGKSVLNGIAIGKLKIYKKKDTAISTAPVADTAAELERFEAARQKAIEQQTALYEKALAEAGEDIAEVFNIHAMMLDDDDFVDAIKEIINGQKMCAEYAVKTAGNNQAAVFSAMDDPYLQARSADVLDIAQAMLDILQGVDNASLQGTEPSILVAEDLAPSETVRMDKSLLLGFITREGSSNSHTAILARSMNIPALIQCKDIQDDWDGKMAVVDGYNACVYVDPTPDLLKSLKKRQQEDQKKQALLQELKGKPNTTLDGKTINVFANIGGMGDVGAVQQNDAGGVGLFRTEFVYLNCKDFPTEDYQFEAYKQVLESLAPRKVVVRTCDIGADKTVDYMKLDHEDNPALGYRAIRICLTRKDFFKTQLRALLRASAYGNMSIMFPMITSLRELQDAKAVLEECRAELTAEGVKMGQNIEVGTMIETPAAVLIADELAAECDFFSIGTNDLTQYTCALDRQNAKLEPFFNPHHPAVLRAIKMTIEAGHRHGIWVGICGELGADTALTETFLRMGVDELSMNAKSILPVRKIIRSVDLSKPSEKA']}\n"
     ]
    }
   ],
   "source": [
    "for feature in gene_ptsP.features:\n",
    "    print(feature.type)\n",
    "    print(feature.qualifiers)\n"
   ]
  },
  {
   "cell_type": "code",
   "execution_count": 16,
   "metadata": {},
   "outputs": [
    {
     "name": "stdout",
     "output_type": "stream",
     "text": [
      "DNA:  ATGCAGGTAGGCACCGGCAAAAGCGTGCTCAATGGCATCGCCATTGGCAAGCTGAAGATCTACAAGAAAAAAGATACCGCGATTTCCACCGCCCCTGTGGCAGATACTGCCGCAGAGCTGGAGCGTTTTGAAGCTGCCCGCCAGAAGGCCATTGAGCAGCAGACCGCCCTGTATGAAAAGGCACTGGCAGAGGCCGGCGAGGACATCGCCGAGGTGTTCAACATCCACGCCATGATGCTGGATGATGACGACTTTGTGGACGCCATCAAGGAGATCATCAACGGACAGAAGATGTGCGCCGAGTACGCCGTCAAGACCGCCGGCAACAATCAGGCTGCGGTGTTCTCTGCGATGGACGACCCGTATCTGCAGGCCCGCAGCGCCGATGTGCTGGACATTGCGCAGGCCATGCTGGACATTCTGCAGGGGGTGGACAACGCTTCCCTGCAGGGCACCGAGCCCAGCATTCTGGTAGCCGAGGATCTGGCTCCCTCCGAGACCGTGCGCATGGATAAAAGCCTGCTGCTGGGCTTCATCACCCGCGAGGGCAGCTCCAACAGCCACACCGCCATTCTGGCACGCAGCATGAACATCCCCGCCCTGATCCAGTGCAAGGACATTCAGGACGACTGGGACGGCAAGATGGCTGTGGTGGACGGCTACAACGCCTGTGTGTATGTGGACCCCACCCCCGACCTGCTCAAGAGCCTGAAAAAGCGCCAGCAGGAGGACCAGAAAAAGCAGGCCCTGCTGCAGGAGCTGAAGGGCAAGCCCAACACCACGCTGGACGGCAAGACCATCAACGTGTTTGCCAACATCGGCGGCATGGGCGACGTGGGCGCTGTGCAGCAGAACGACGCCGGCGGCGTGGGTCTGTTCCGCACCGAGTTCGTTTACCTGAACTGCAAGGACTTCCCCACCGAGGACTACCAGTTCGAGGCTTACAAGCAGGTGTTGGAAAGCCTTGCACCCCGCAAGGTGGTGGTGCGCACCTGTGATATCGGCGCAGACAAGACCGTGGATTATATGAAGCTGGATCACGAGGATAACCCCGCGCTGGGCTACCGTGCCATCCGCATCTGCCTGACCCGCAAGGACTTTTTCAAGACCCAGCTGCGTGCTCTGCTGCGTGCTTCCGCCTACGGCAACATGAGCATCATGTTCCCCATGATCACCAGCCTGCGGGAGCTGCAGGACGCCAAGGCTGTTCTGGAAGAGTGTCGTGCCGAGCTGACCGCCGAGGGCGTGAAGATGGGGCAGAACATTGAAGTAGGCACCATGATCGAGACCCCCGCCGCCGTGCTCATCGCGGACGAGCTGGCCGCCGAGTGCGACTTCTTCTCCATCGGCACCAACGACCTGACCCAGTACACCTGTGCACTGGACCGCCAGAACGCAAAGCTGGAGCCCTTCTTCAACCCCCATCACCCCGCCGTGCTGCGCGCCATCAAGATGACCATTGAAGCCGGTCACCGTCACGGCATCTGGGTGGGCATCTGCGGCGAGCTGGGCGCCGACACCGCCCTGACCGAGACCTTCCTGCGCATGGGCGTGGACGAGCTGTCCATGAACGCCAAGAGCATCCTGCCGGTGCGCAAGATCATCCGCAGCGTAGACCTGAGCAAGCCCTCTGAGAAGGCTTGA\n",
      "Proteína:  MQVGTGKSVLNGIAIGKLKIYKKKDTAISTAPVADTAAELERFEAARQKAIEQQTALYEKALAEAGEDIAEVFNIHAMMLDDDDFVDAIKEIINGQKMCAEYAVKTAGNNQAAVFSAMDDPYLQARSADVLDIAQAMLDILQGVDNASLQGTEPSILVAEDLAPSETVRMDKSLLLGFITREGSSNSHTAILARSMNIPALIQCKDIQDDWDGKMAVVDGYNACVYVDPTPDLLKSLKKRQQEDQKKQALLQELKGKPNTTLDGKTINVFANIGGMGDVGAVQQNDAGGVGLFRTEFVYLNCKDFPTEDYQFEAYKQVLESLAPRKVVVRTCDIGADKTVDYMKLDHEDNPALGYRAIRICLTRKDFFKTQLRALLRASAYGNMSIMFPMITSLRELQDAKAVLEECRAELTAEGVKMGQNIEVGTMIETPAAVLIADELAAECDFFSIGTNDLTQYTCALDRQNAKLEPFFNPHHPAVLRAIKMTIEAGHRHGIWVGICGELGADTALTETFLRMGVDELSMNAKSILPVRKIIRSVDLSKPSEKA*\n"
     ]
    }
   ],
   "source": [
    "# Saber a proteína codificada nos \"CDS\"\n",
    "for i in feat_cds:\n",
    "    coding_dna = gene_ptsP.features[i].extract(gene_ptsP.seq)\n",
    "    print(\"DNA: \", coding_dna)\n",
    "    print(\"Proteína: \", coding_dna.translate())"
   ]
  },
  {
   "cell_type": "markdown",
   "metadata": {},
   "source": [
    "# Saber o número de features do tipo \"gene\"\n",
    "feat_gene = []\n",
    "for j in range(len(gene_ptsP.features)):\n",
    "    if gene_ptsP.features[j].type == 'gene':\n",
    "        feat_gene.append(j)\n",
    "print('Número de features tipo gene: ', len(feat_gene))"
   ]
  }
 ],
 "metadata": {
  "kernelspec": {
   "display_name": "bio_env",
   "language": "python",
   "name": "python3"
  },
  "language_info": {
   "codemirror_mode": {
    "name": "ipython",
    "version": 3
   },
   "file_extension": ".py",
   "mimetype": "text/x-python",
   "name": "python",
   "nbconvert_exporter": "python",
   "pygments_lexer": "ipython3",
   "version": "3.10.16"
  }
 },
 "nbformat": 4,
 "nbformat_minor": 2
}
