{
 "cells": [
  {
   "cell_type": "markdown",
   "metadata": {},
   "source": [
    "## **Gene configuration**\n",
    "The code uses the Biopython Bio.Entrez and Bio.SeqIO libraries to interact with the NCBI and process the genetic sequences under study, focusing on nucleotide sequences in GenBank format."
   ]
  },
  {
   "cell_type": "code",
   "execution_count": 1,
   "metadata": {},
   "outputs": [
    {
     "name": "stdout",
     "output_type": "stream",
     "text": [
      "Download do arquivo GenBank do gene 'butyrylCoA' concluído com sucesso.\n",
      "Download do arquivo GenBank do gene 'ptsP' concluído com sucesso.\n"
     ]
    }
   ],
   "source": [
    "from Bio import Entrez\n",
    "from Bio import SeqIO\n",
    "from Bio.Seq import Seq\n",
    "import os\n",
    "\n",
    "# Setting up email for use in NCBI Entrez\n",
    "Entrez.email = 'A.N.Other@example.com'\n",
    "\n",
    "def download_gene(id_gene: str, name_gene: str, start=None, end=None, complement=False):\n",
    "    \"\"\"\n",
    "    Downloads a GenBank sequence from NCBI, with the option of specifying a region and calculating the reverse complement.\n",
    "\n",
    "    Args:\n",
    "    - id_gene (str): The access ID in the NCBI database.\n",
    "    - name_gene (str): Name of the file to store the sequence.\n",
    "    - start (int, optional): Starting position of the region of interest.\n",
    "    - end (int, optional): End position of the region of interest.\n",
    "    - complement (bool, optional): If True, calculates the reverse complement of the sequence.\n",
    "    \"\"\"\n",
    "    try:\n",
    "        # Criar a pasta 'genes' se ela não existir\n",
    "        if not os.path.exists(\"genes\"):\n",
    "            os.makedirs(\"genes\")\n",
    "        \n",
    "        # Procura os dados da sequência no NCBI\n",
    "        if start and end:\n",
    "            handle = Entrez.efetch(db=\"nucleotide\", rettype=\"gb\", retmode=\"text\", id=id_gene, seq_start=start, seq_stop=end)\n",
    "        else:\n",
    "            handle = Entrez.efetch(db=\"nucleotide\", rettype=\"gb\", retmode=\"text\", id=id_gene)\n",
    "        \n",
    "        # Processar o registro GenBank\n",
    "        seq_record = SeqIO.read(handle, \"gb\")\n",
    "        handle.close()\n",
    "        \n",
    "        # Calcular o complemento reverso, se necessário\n",
    "        if complement:\n",
    "            seq_record.seq = seq_record.seq.reverse_complement()\n",
    "        \n",
    "        # Guardar a sequência na pasta 'genes_information'\n",
    "        output_path = os.path.join(\"genes\", f\"{name_gene}.gb\")\n",
    "        SeqIO.write(seq_record, output_path, \"gb\")\n",
    "        \n",
    "        print(f\"Download do arquivo GenBank do gene '{name_gene}' concluído com sucesso.\")\n",
    "    \n",
    "    except Exception as e:\n",
    "        print(f\"Erro ao fazer o download do gene {id_gene}: {e}\")\n",
    "\n",
    "# Fazer o download dos genes com os parâmetros especificados\n",
    "download_gene(\"NZ_DS483503\", \"butyrylCoA\", start=313586, end=314932, complement=False)\n",
    "download_gene(\"NZ_DS483503\", \"ptsP\", start=23763, end=25406, complement=True)\n"
   ]
  },
  {
   "cell_type": "markdown",
   "metadata": {},
   "source": [
    "O código utiliza a biblioteca Biopython Bio.Entrez e Bio.SeqIO para interagir com o NCBI e fazer download das sequências dos genes, focando-se em sequências em formato FASTA."
   ]
  },
  {
   "cell_type": "code",
   "execution_count": null,
   "metadata": {},
   "outputs": [
    {
     "name": "stdout",
     "output_type": "stream",
     "text": [
      "Download do FASTA do gene WP_044960620 completado e salvo em genes\\butyrylCoA.fasta.\n",
      "Download do FASTA do gene WP_005925321 completado e salvo em genes\\ptsP.fasta.\n"
     ]
    }
   ],
   "source": [
    "import os\n",
    "from Bio import Entrez\n",
    "from Bio import SeqIO\n",
    "\n",
    "Entrez.email = 'A.N.Other@example.com'\n",
    "\n",
    "def download_fasta(gene_id, filename):\n",
    "    \"\"\"\n",
    "    Faz o download do arquivo FASTA com as sequências dos genes e guarda na pasta 'genes'.\n",
    "\n",
    "    Args:\n",
    "    - gene_id (str): O ID do gene no banco de dados NCBI.\n",
    "    - filename (str): Nome do arquivo para guardar a sequência FASTA.\n",
    "    \"\"\"\n",
    "    try:\n",
    "        # Criar a pasta 'genes' se ela não existir\n",
    "        if not os.path.exists(\"genes\"):\n",
    "            os.makedirs(\"genes\")\n",
    "        \n",
    "        # Caminho completo para guardar o arquivo\n",
    "        file_path = os.path.join(\"genes\", filename)\n",
    "        \n",
    "        # Procurar e guardar a sequência FASTA\n",
    "        handle = Entrez.efetch(db=\"protein\", id=gene_id, rettype=\"fasta\", retmode=\"text\")\n",
    "        with open(file_path, \"w\") as out_file:\n",
    "            out_file.write(handle.read())\n",
    "        handle.close()\n",
    "        \n",
    "        print(f\"Download do FASTA do gene {gene_id} completado e salvo em {file_path}.\")\n",
    "    except Exception as e:\n",
    "        print(f\"Erro ao fazer o download do gene {gene_id}: {e}\")\n",
    "\n",
    "# Fazer o download dos genes FASTA com os parâmetros especificados\n",
    "download_fasta('WP_044960620', 'butyrylCoA.fasta')\n",
    "download_fasta('WP_005925321', 'ptsP.fasta')\n"
   ]
  }
 ],
 "metadata": {
  "kernelspec": {
   "display_name": "bio_env",
   "language": "python",
   "name": "python3"
  },
  "language_info": {
   "codemirror_mode": {
    "name": "ipython",
    "version": 3
   },
   "file_extension": ".py",
   "mimetype": "text/x-python",
   "name": "python",
   "nbconvert_exporter": "python",
   "pygments_lexer": "ipython3",
   "version": "3.10.16"
  }
 },
 "nbformat": 4,
 "nbformat_minor": 2
}
