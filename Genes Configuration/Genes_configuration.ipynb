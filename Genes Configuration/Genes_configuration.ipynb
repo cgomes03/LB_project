{
 "cells": [
  {
   "cell_type": "markdown",
   "metadata": {},
   "source": [
    "## **Gene configuration**\n",
    "The code uses the Biopython Bio.Entrez and Bio.SeqIO libraries to interact with the NCBI and process the genetic sequences under study, focusing on nucleotide sequences in GenBank format."
   ]
  },
  {
   "cell_type": "code",
   "metadata": {
    "ExecuteTime": {
     "end_time": "2025-01-14T23:03:16.783090Z",
     "start_time": "2025-01-14T23:03:15.180765Z"
    }
   },
   "source": [
    "import sys\n",
    "import os\n",
    "from pathlib import Path\n",
    "import matplotlib.pyplot as plt\n",
    "\n",
    "# Disable matplotlib display\n",
    "plt.ioff()\n",
    "\n",
    "# Change to project root directory\n",
    "notebook_dir = Path().absolute()\n",
    "project_root = notebook_dir.parent\n",
    "os.chdir(project_root)\n",
    "# Add the Genes Configuration directory to Python path\n",
    "genes_config_path = os.path.join(project_root, \"Genes Configuration\")\n",
    "sys.path.append(str(genes_config_path))\n",
    "\n",
    "try:\n",
    "    from Configuration import *\n",
    "except ImportError as e:\n",
    "    print(f\"Error importing Configuration: {e}\")\n",
    "\n",
    "\n",
    "print(\"Project root directory:\", project_root)\n",
    "print(\"Current working directory:\", os.getcwd())\n",
    "\n",
    "# Setup project directories\n",
    "setup_directories()"
   ],
   "outputs": [
    {
     "name": "stdout",
     "output_type": "stream",
     "text": [
      "Project root directory: C:\\Users\\munee\\OneDrive\\Documents\\Biomedical Engineering\\UMinho\\Laboratories\\LB_project\n",
      "Current working directory: C:\\Users\\munee\\OneDrive\\Documents\\Biomedical Engineering\\UMinho\\Laboratories\\LB_project\n"
     ]
    }
   ],
   "execution_count": 1
  },
  {
   "cell_type": "markdown",
   "metadata": {},
   "source": [
    "## 1. Gene Download and Configuration"
   ]
  },
  {
   "cell_type": "code",
   "execution_count": 2,
   "metadata": {
    "ExecuteTime": {
     "end_time": "2025-01-14T05:27:01.392120Z",
     "start_time": "2025-01-14T05:26:56.356626Z"
    }
   },
   "outputs": [
    {
     "name": "stdout",
     "output_type": "stream",
     "text": [
      "GenBank file download for gene 'ptsP' completed successfully.\n",
      "Saved to: C:\\Users\\munee\\OneDrive\\Documents\\Biomedical Engineering\\UMinho\\Laboratories\\LB_project\\data\\raw\\genes\\ptsP.gb\n",
      "FASTA download for gene WP_005925321 completed.\n",
      "Saved to: C:\\Users\\munee\\OneDrive\\Documents\\Biomedical Engineering\\UMinho\\Laboratories\\LB_project\\data\\raw\\genes\\ptsP.fasta\n",
      "GenBank file download for gene 'butyrylCoA' completed successfully.\n",
      "Saved to: C:\\Users\\munee\\OneDrive\\Documents\\Biomedical Engineering\\UMinho\\Laboratories\\LB_project\\data\\raw\\genes\\butyrylCoA.gb\n",
      "FASTA download for gene WP_044960620 completed.\n",
      "Saved to: C:\\Users\\munee\\OneDrive\\Documents\\Biomedical Engineering\\UMinho\\Laboratories\\LB_project\\data\\raw\\genes\\butyrylCoA.fasta\n"
     ]
    }
   ],
   "source": [
    "# Define genes and their parameters\n",
    "genes = {\n",
    "    'ptsP': {\n",
    "        'id': 'NZ_DS483503',\n",
    "        'start': 23763,\n",
    "        'end': 25406,\n",
    "        'complement': True,\n",
    "        'protein_id': 'WP_005925321'\n",
    "    },\n",
    "    'butyrylCoA': {\n",
    "        'id': 'NZ_DS483503',\n",
    "        'start': 313586,\n",
    "        'end': 314932,\n",
    "        'complement': False,\n",
    "        'protein_id': 'WP_044960620'\n",
    "    }\n",
    "    },\n",
    "    'MutS ': {\n",
    "        'id': 'NZ_DS483503',\n",
    "        'start': 859977 ,\n",
    "        'end': 868082 ,\n",
    "        'complement': False,\n",
    "        'protein_id': 'WP_044960620'\n",
    "    }\n",
    "}\n",
    "\n",
    "# Download GenBank and FASTA files\n",
    "for name, params in genes.items():\n",
    "    download_gene(params['id'], name, params['start'], params['end'], params['complement'])\n",
    "    download_fasta(params['protein_id'], f'{name}.fasta')"
   ]
  }
 ],
 "metadata": {
  "kernelspec": {
   "display_name": "bio_env",
   "language": "python",
   "name": "python3"
  },
  "language_info": {
   "codemirror_mode": {
    "name": "ipython",
    "version": 3
   },
   "file_extension": ".py",
   "mimetype": "text/x-python",
   "name": "python",
   "nbconvert_exporter": "python",
   "pygments_lexer": "ipython3",
   "version": "3.10.16"
  }
 },
 "nbformat": 4,
 "nbformat_minor": 2
}
