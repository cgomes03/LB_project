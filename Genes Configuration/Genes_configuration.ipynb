{
 "cells": [
  {
   "cell_type": "markdown",
   "metadata": {},
   "source": [
    "## **Gene configuration**\n",
    "The code uses the Biopython Bio.Entrez and Bio.SeqIO libraries to interact with the NCBI and process the genetic sequences under study, focusing on nucleotide sequences in GenBank format."
   ]
  },
  {
   "cell_type": "code",
   "execution_count": 4,
   "metadata": {
    "ExecuteTime": {
     "end_time": "2025-01-14T05:26:56.231199Z",
     "start_time": "2025-01-14T05:26:54.234279Z"
    }
   },
   "outputs": [
    {
     "name": "stdout",
     "output_type": "stream",
     "text": [
      "Error importing Configuration: No module named 'Configuration'\n",
      "Project root directory: c:\\Users\\catar\\OneDrive\\Ambiente de Trabalho\n",
      "Current working directory: c:\\Users\\catar\\OneDrive\\Ambiente de Trabalho\n"
     ]
    },
    {
     "ename": "NameError",
     "evalue": "name 'setup_directories' is not defined",
     "output_type": "error",
     "traceback": [
      "\u001b[1;31m---------------------------------------------------------------------------\u001b[0m",
      "\u001b[1;31mNameError\u001b[0m                                 Traceback (most recent call last)",
      "Cell \u001b[1;32mIn[4], line 25\u001b[0m\n\u001b[0;32m     22\u001b[0m \u001b[38;5;28mprint\u001b[39m(\u001b[38;5;124m\"\u001b[39m\u001b[38;5;124mCurrent working directory:\u001b[39m\u001b[38;5;124m\"\u001b[39m, os\u001b[38;5;241m.\u001b[39mgetcwd())\n\u001b[0;32m     24\u001b[0m \u001b[38;5;66;03m# Setup project directories\u001b[39;00m\n\u001b[1;32m---> 25\u001b[0m \u001b[43msetup_directories\u001b[49m()\n",
      "\u001b[1;31mNameError\u001b[0m: name 'setup_directories' is not defined"
     ]
    }
   ],
   "source": [
    "import sys\n",
    "import os\n",
    "from pathlib import Path\n",
    "import matplotlib.pyplot as plt\n",
    "\n",
    "# Disable matplotlib display\n",
    "plt.ioff()\n",
    "\n",
    "# Change to project root directory\n",
    "notebook_dir = Path().absolute()\n",
    "project_root = notebook_dir.parent\n",
    "os.chdir(project_root)\n",
    "sys.path.append(str(project_root))\n",
    "\n",
    "try:\n",
    "    from Configuration import *\n",
    "except ImportError as e:\n",
    "    print(f\"Error importing Configuration: {e}\")\n",
    "\n",
    "\n",
    "print(\"Project root directory:\", project_root)\n",
    "print(\"Current working directory:\", os.getcwd())\n",
    "\n",
    "# Setup project directories\n",
    "setup_directories()"
   ]
  },
  {
   "cell_type": "markdown",
   "metadata": {},
   "source": [
    "## 1. Gene Download and Configuration"
   ]
  },
  {
   "cell_type": "code",
   "execution_count": 2,
   "metadata": {
    "ExecuteTime": {
     "end_time": "2025-01-14T05:27:01.392120Z",
     "start_time": "2025-01-14T05:26:56.356626Z"
    }
   },
   "outputs": [
    {
     "name": "stdout",
     "output_type": "stream",
     "text": [
      "GenBank file download for gene 'ptsP' completed successfully.\n",
      "Saved to: C:\\Users\\munee\\OneDrive\\Documents\\Biomedical Engineering\\UMinho\\Laboratories\\LB_project\\data\\raw\\genes\\ptsP.gb\n",
      "FASTA download for gene WP_005925321 completed.\n",
      "Saved to: C:\\Users\\munee\\OneDrive\\Documents\\Biomedical Engineering\\UMinho\\Laboratories\\LB_project\\data\\raw\\genes\\ptsP.fasta\n",
      "GenBank file download for gene 'butyrylCoA' completed successfully.\n",
      "Saved to: C:\\Users\\munee\\OneDrive\\Documents\\Biomedical Engineering\\UMinho\\Laboratories\\LB_project\\data\\raw\\genes\\butyrylCoA.gb\n",
      "FASTA download for gene WP_044960620 completed.\n",
      "Saved to: C:\\Users\\munee\\OneDrive\\Documents\\Biomedical Engineering\\UMinho\\Laboratories\\LB_project\\data\\raw\\genes\\butyrylCoA.fasta\n"
     ]
    }
   ],
   "source": [
    "# Define genes and their parameters\n",
    "genes = {\n",
    "    'ptsP': {\n",
    "        'id': 'NZ_DS483503',\n",
    "        'start': 23763,\n",
    "        'end': 25406,\n",
    "        'complement': True,\n",
    "        'protein_id': 'WP_005925321'\n",
    "    },\n",
    "    'butyrylCoA': {\n",
    "        'id': 'NZ_DS483503',\n",
    "        'start': 313586,\n",
    "        'end': 314932,\n",
    "        'complement': False,\n",
    "        'protein_id': 'WP_044960620'\n",
    "    }\n",
    "    },\n",
    "    'MutS ': {\n",
    "        'id': 'NZ_DS483503',\n",
    "        'start': 859977 ,\n",
    "        'end': 868082 ,\n",
    "        'complement': False,\n",
    "        'protein_id': 'WP_044960620'\n",
    "    }\n",
    "}\n",
    "\n",
    "# Download GenBank and FASTA files\n",
    "for name, params in genes.items():\n",
    "    download_gene(params['id'], name, params['start'], params['end'], params['complement'])\n",
    "    download_fasta(params['protein_id'], f'{name}.fasta')"
   ]
  }
 ],
 "metadata": {
  "kernelspec": {
   "display_name": "bio_env",
   "language": "python",
   "name": "python3"
  },
  "language_info": {
   "codemirror_mode": {
    "name": "ipython",
    "version": 3
   },
   "file_extension": ".py",
   "mimetype": "text/x-python",
   "name": "python",
   "nbconvert_exporter": "python",
   "pygments_lexer": "ipython3",
   "version": "3.10.16"
  }
 },
 "nbformat": 4,
 "nbformat_minor": 2
}
