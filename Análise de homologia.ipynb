{
 "cells": [
  {
   "cell_type": "markdown",
   "metadata": {},
   "source": [
    "**Análise de Homologias por BLAST**"
   ]
  },
  {
   "cell_type": "code",
   "execution_count": 2,
   "metadata": {},
   "outputs": [],
   "source": [
    "from Bio import SeqIO\n",
    "from Bio.Blast import NCBIWWW, NCBIXML\n",
    "import re\n",
    "\n",
    "def blast_and_filter(gene_names, e_value_threshold=1e-5, percent_identity_threshold=50, coverage_threshold=50):\n",
    "    for name_gene in gene_names:\n",
    "        # Leitura da sequência e execução do BLAST\n",
    "        try:\n",
    "            query_seq = SeqIO.read(f\"genes/{name_gene}.fasta\", \"fasta\")\n",
    "        except FileNotFoundError:\n",
    "            print(f\"Arquivo não encontrado para {name_gene}. Pulando...\")\n",
    "            continue\n",
    "\n",
    "        print(f\"Iniciando busca BLAST para {name_gene}...\")\n",
    "        result_handle = NCBIWWW.qblast(\"blastp\", \"swissprot\", query_seq.seq)\n",
    "        print(f\"Busca BLAST concluída para {name_gene}.\")\n",
    "\n",
    "        # Parsing e filtragem dos resultados\n",
    "        blast_records = NCBIXML.parse(result_handle)\n",
    "        output_path = f\"genes/{name_gene}_blast.fasta\"\n",
    "        \n",
    "        with open(output_path, \"w\") as output_handle:\n",
    "            for blast_record in blast_records:\n",
    "                print(f\"Número de alinhamentos encontrados para {name_gene}:\", len(blast_record.alignments))\n",
    "                for alignment in blast_record.alignments:\n",
    "                    print(\"Título do alinhamento:\", alignment.title)\n",
    "                    for hsp in alignment.hsps:\n",
    "                        query_cover = (hsp.align_length / blast_record.query_letters) * 100\n",
    "                        print(f\"HSP: E-value: {hsp.expect}, Identities: {hsp.identities}, \"\n",
    "                              f\"Align length: {hsp.align_length}, Query Cover: {query_cover:.2f}%\")\n",
    "                        \n",
    "                        percent_identity = (hsp.identities / hsp.align_length) * 100\n",
    "                        if (hsp.expect <= e_value_threshold and\n",
    "                            percent_identity >= percent_identity_threshold and\n",
    "                            query_cover >= coverage_threshold):\n",
    "                            \n",
    "                            species_match = re.search(r\"\\[(.*?)\\]\", alignment.title)\n",
    "                            species = species_match.group(1) if species_match else \"Unknown species\"\n",
    "                            \n",
    "                            SeqIO.write(\n",
    "                                SeqIO.SeqRecord(\n",
    "                                    seq=hsp.sbjct,\n",
    "                                    id=alignment.accession,\n",
    "                                    description=f\"E-value: {hsp.expect:.2e}, Identities: {hsp.identities}/{hsp.align_length}, \"\n",
    "                                                f\"Query Cover: {query_cover:.2f}%, Percent Identity: {percent_identity:.2f}%, \"\n",
    "                                                f\"Species: {species}\"\n",
    "                                ),\n",
    "                                output_handle,\n",
    "                                \"fasta\"\n",
    "                            )\n",
    "                            break  # Pega apenas o melhor HSP para cada alinhamento\n",
    "        \n",
    "        print(f\"Resultados filtrados do BLAST para {name_gene} foram salvos em '{output_path}'\")\n",
    "\n"
   ]
  },
  {
   "cell_type": "code",
   "execution_count": 11,
   "metadata": {},
   "outputs": [],
   "source": [
    "from Bio.Blast import NCBIXML \n",
    "from Bio.Blast import NCBIWWW \n",
    "from Bio import SeqIO\n",
    "\n",
    "import re\n",
    "\n",
    "def BLAST_prot (protein_name):\n",
    "    \"\"\"\n",
    "    Função que realiza o BLASTp para a proteína fornecida a a partir do ficheiro fasta desta\n",
    "    \"\"\"\n",
    "    protein = SeqIO.read(open(f'genes/{protein_name}.fasta'), format=\"fasta\") \n",
    "    result = NCBIWWW.qblast(\"blastp\", \"swissprot\", protein.seq)\n",
    "    with open(f'genes/{protein_name}_protein.xml', \"w\") as save_file:\n",
    "        save_file.write(result.read())\n",
    "    save_file.close()\n",
    "    result.close()\n",
    "\n",
    "def first_alignment (protein_name):\n",
    "    result_handle = open(f'genes/{protein_name}_protein.xml')\n",
    "    blast_record = NCBIXML.read(result_handle)\n",
    "\n",
    "    first = blast_record.alignments[0]\n",
    "    print(\"FIRST ALIGNMENT: \", \"\\nAcession:\" + first.accession, \"\\nHit id:\" + first.hit_id)\n",
    "    print(\"Definition: \" + first.hit_def, \"\\nAlignment lenght: \" , first.length, \"\\nNumber of HPSs: \" , len(first.hsps))\n",
    "    result_handle.close()\n",
    "\n",
    "\n",
    "\n",
    "def filter_blast(protein_name, e_value_threshold = 0.001, percent_identity_threshold = 50, coverage_threshold = 50):\n",
    "    \"\"\" \n",
    "    Função para filtrar os melhores alinhamentos com base no e-value, percent identity e coverage\n",
    "    \"\"\"\n",
    "    result_handle = open(f'genes/{protein_name}_protein.xml')\n",
    "    blast_record = NCBIXML.read(result_handle)\n",
    "    \n",
    "    print(\"PARAMETERS: \\nDatabase: \", blast_record.database)\n",
    "    print(\"Matriz: \" + blast_record.matrix)\n",
    "    print(\"Gap penalties: \" , blast_record.gap_penalties)\n",
    "    print('\\nHits: ', len(blast_record.alignments))\n",
    "    \n",
    "    top_alignments = []\n",
    "    for alignment in blast_record.alignments:\n",
    "        if 'synthetic construct' not in alignment.title.lower():\n",
    "            alignment_info = {\n",
    "                'title': alignment.title,\n",
    "                'length': alignment.length,\n",
    "                'e_value': float('inf'),\n",
    "                'percent_identity': 0.0,\n",
    "                'coverage': 0.0,\n",
    "                'query': '',\n",
    "                'match': '',\n",
    "                'sbjct': ''       }\n",
    "            for hsp in alignment.hsps:\n",
    "                if hsp.expect < alignment_info['e_value'] and \\\n",
    "                 (hsp.identities / hsp.align_length) * 100 >= percent_identity_threshold and \\\n",
    "                 (hsp.align_length / alignment.length) * 100 >= coverage_threshold:\n",
    "\n",
    "                    alignment_info['e_value'] = hsp.expect\n",
    "                    alignment_info['percent_identity'] = (hsp.identities / hsp.align_length) * 100\n",
    "                    alignment_info['coverage'] = (hsp.align_length / alignment.length) * 100\n",
    "                    alignment_info['query'] = hsp.query[0:75] + '...'\n",
    "                    alignment_info['match'] = hsp.match[0:75] + '...'\n",
    "                    alignment_info['sbjct'] = hsp.sbjct[0:75] + '...'\n",
    "\n",
    "            if alignment_info['e_value'] < e_value_threshold:\n",
    "                top_alignments.append(alignment_info)\n",
    "                if alignment_info['coverage'] < coverage_threshold:\n",
    "                    top_alignments.append(alignment_info)\n",
    "                    if alignment_info['percent_identity'] < percent_identity_threshold:\n",
    "                        top_alignments.append(alignment_info)\n",
    "    for i, alignment_info in enumerate(top_alignments):\n",
    "        print(f'****Alignment {i+1}****')\n",
    "        print('Sequence: ', alignment_info['title'])\n",
    "        print('Length: ', alignment_info['length'])\n",
    "        print('E-value: ', alignment_info['e_value'])\n",
    "        print('Percent identity: {:.2f}%'.format(alignment_info['percent_identity']))\n",
    "        print('Coverage: {:.2f}%'.format(alignment_info['coverage']))\n",
    "        print(alignment_info['query'])\n",
    "        print(alignment_info['match'])\n",
    "        print(alignment_info['sbjct'], '\\n')\n",
    "\n",
    "    species_list = []\n",
    "\n",
    "    for alignment_info in top_alignments[:4]:\n",
    "        title = alignment_info['title']\n",
    "        match = re.search(r\"\\[(.*?)\\]\", title)\n",
    "        if match:\n",
    "            species = match.group(1)\n",
    "            species_list.append(species)\n",
    "    print(\"\\nOrganisms:\")\n",
    "    for species in species_list:\n",
    "        print(species)\n",
    "        \n",
    "    result_handle.close()\n"
   ]
  },
  {
   "cell_type": "markdown",
   "metadata": {},
   "source": [
    "#### **1: Gene ptsP**"
   ]
  },
  {
   "cell_type": "code",
   "execution_count": null,
   "metadata": {},
   "outputs": [
    {
     "name": "stdout",
     "output_type": "stream",
     "text": [
      "Iniciando busca BLAST para ptsP...\n"
     ]
    }
   ],
   "source": [
    "gene_names = [\"ptsP\"]\n",
    "blast_and_filter(gene_names)"
   ]
  },
  {
   "cell_type": "code",
   "execution_count": 3,
   "metadata": {},
   "outputs": [
    {
     "name": "stderr",
     "output_type": "stream",
     "text": [
      "c:\\Users\\catar\\anaconda3\\envs\\bio_env\\lib\\site-packages\\Bio\\Blast\\NCBIWWW.py:281: BiopythonWarning: BLAST request RKC7BGK8013 is taking longer than 10 minutes, consider re-issuing it\n",
      "  warnings.warn(\n"
     ]
    }
   ],
   "source": [
    "BLAST_prot('ptsP')"
   ]
  },
  {
   "cell_type": "code",
   "execution_count": 12,
   "metadata": {},
   "outputs": [
    {
     "name": "stdout",
     "output_type": "stream",
     "text": [
      "FIRST ALIGNMENT:  \n",
      "Acession:Q9K8D3 \n",
      "Hit id:sp|Q9K8D3.1|\n",
      "Definition: RecName: Full=Phosphoenolpyruvate-protein phosphotransferase; AltName: Full=Phosphotransferase system, enzyme I [Halalkalibacterium halodurans C-125] \n",
      "Alignment lenght:  572 \n",
      "Number of HPSs:  1\n"
     ]
    }
   ],
   "source": [
    "first_alignment('ptsP')\n",
    "\n"
   ]
  },
  {
   "cell_type": "code",
   "execution_count": 13,
   "metadata": {},
   "outputs": [
    {
     "name": "stdout",
     "output_type": "stream",
     "text": [
      "PARAMETERS: \n",
      "Database:  swissprot\n",
      "Matriz: BLOSUM62\n",
      "Gap penalties:  (11, 1)\n",
      "\n",
      "Hits:  50\n"
     ]
    }
   ],
   "source": [
    "filter_blast('ptsP')"
   ]
  },
  {
   "cell_type": "markdown",
   "metadata": {},
   "source": [
    "#### **2. Gene ButyrylCoA**"
   ]
  },
  {
   "cell_type": "code",
   "execution_count": 4,
   "metadata": {},
   "outputs": [
    {
     "name": "stdout",
     "output_type": "stream",
     "text": [
      "Iniciando busca BLAST para butyrylCoA...\n",
      "Busca BLAST concluída para butyrylCoA.\n",
      "Número de alinhamentos encontrados para butyrylCoA: 8\n",
      "Título do alinhamento: sp|G2SYC0.1| RecName: Full=Butyryl-CoA:acetate CoA-transferase; Short=Butyryl-CoA CoA-transferase [Roseburia hominis A2-183]\n",
      "HSP: E-value: 0.0, Identities: 332, Align length: 447, Query Cover: 99.78%\n",
      "Título do alinhamento: sp|B0MC58.1| RecName: Full=Butyryl-CoA:acetate CoA-transferase; AltName: Full=Butyryl-CoA CoA-transferase [Anaerostipes caccae L1-92]\n",
      "HSP: E-value: 0.0, Identities: 318, Align length: 447, Query Cover: 99.78%\n",
      "Título do alinhamento: sp|Q0AVM5.1| RecName: Full=Probable butyrate:acetyl-CoA coenzyme A-transferase; Short=Butyrate CoA-transferase [Syntrophomonas wolfei subsp. wolfei str. Goettingen G311]\n",
      "HSP: E-value: 2.47933e-164, Identities: 229, Align length: 444, Query Cover: 99.11%\n",
      "Título do alinhamento: sp|P38942.3| RecName: Full=4-hydroxybutyrate coenzyme A transferase [Clostridium kluyveri DSM 555]\n",
      "HSP: E-value: 7.3562e-97, Identities: 175, Align length: 439, Query Cover: 97.99%\n",
      "Título do alinhamento: sp|C6EUD4.1| RecName: Full=Succinyl-CoA:acetate/propanoyl-CoA:succinate CoA transferase; AltName: Full=Acetate:succinate CoA-transferase; Short=ASCT; AltName: Full=Propionate:succinate CoA-transferase; Short=PSCT; AltName: Full=Short-chain acyl-CoA-transferase; Flags: Precursor [Fasciola hepatica]\n",
      "HSP: E-value: 1.19192e-66, Identities: 135, Align length: 373, Query Cover: 83.26%\n",
      "Título do alinhamento: sp|P38946.1| RecName: Full=Succinyl-CoA:acetate CoA-transferase; AltName: Full=Succinyl-CoA:CoA transferase [Clostridium kluyveri DSM 555]\n",
      "HSP: E-value: 3.79995e-17, Identities: 96, Align length: 394, Query Cover: 87.95%\n",
      "Título do alinhamento: sp|Q54K91.1| RecName: Full=Acetyl-CoA hydrolase; AltName: Full=Acetyl-CoA deacylase; Short=Acetyl-CoA acylase [Dictyostelium discoideum]\n",
      "HSP: E-value: 6.85936e-13, Identities: 85, Align length: 363, Query Cover: 81.03%\n",
      "Título do alinhamento: sp|Q9AR19.1| RecName: Full=Histone acetyltransferase GCN5; Short=AtGCN5; AltName: Full=BIG TOP protein [Arabidopsis thaliana]\n",
      "HSP: E-value: 9.18431, Identities: 33, Align length: 155, Query Cover: 34.60%\n",
      "Resultados filtrados do BLAST para butyrylCoA foram salvos em 'genes/butyrylCoA_blast.fasta'\n"
     ]
    },
    {
     "name": "stderr",
     "output_type": "stream",
     "text": [
      "c:\\Users\\catar\\anaconda3\\envs\\bio_env\\lib\\site-packages\\Bio\\SeqRecord.py:228: BiopythonDeprecationWarning: Using a string as the sequence is deprecated and will raise a TypeError in future. It has been converted to a Seq object.\n",
      "  warnings.warn(\n"
     ]
    }
   ],
   "source": [
    "gene_names = [\"butyrylCoA\"]\n",
    "blast_and_filter(gene_names)"
   ]
  }
 ],
 "metadata": {
  "kernelspec": {
   "display_name": "bio_env",
   "language": "python",
   "name": "python3"
  },
  "language_info": {
   "codemirror_mode": {
    "name": "ipython",
    "version": 3
   },
   "file_extension": ".py",
   "mimetype": "text/x-python",
   "name": "python",
   "nbconvert_exporter": "python",
   "pygments_lexer": "ipython3",
   "version": "3.10.16"
  }
 },
 "nbformat": 4,
 "nbformat_minor": 2
}
