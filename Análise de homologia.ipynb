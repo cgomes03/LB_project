{
 "cells": [
  {
   "cell_type": "markdown",
   "metadata": {},
   "source": [
    "**Análise de Homologias por BLAST**"
   ]
  },
  {
   "cell_type": "code",
   "execution_count": null,
   "metadata": {},
   "outputs": [],
   "source": [
    "\n",
    "from Bio.Blast import NCBIXML \n",
    "from Bio.Blast import NCBIWWW \n",
    "from Bio import SeqIO\n",
    "\n",
    "import re"
   ]
  },
  {
   "cell_type": "code",
   "execution_count": null,
   "metadata": {},
   "outputs": [],
   "source": [
    "def BLAST_prot (protein_name):\n",
    "    \"\"\"\n",
    "    Função que realiza o BLASTp para a proteína fornecida a a partir do ficheiro fasta desta\n",
    "    \"\"\"\n",
    "    protein = SeqIO.read(open(f'{protein_name}_protein.fasta'), format=\"fasta\") \n",
    "    result = NCBIWWW.qblast(\"blastp\", \"swissprot\", protein.seq)\n",
    "    with open(f'{protein_name}_protein.xml', \"w\") as save_file:\n",
    "        save_file.write(result.read())\n",
    "    save_file.close()\n",
    "    result.close()"
   ]
  },
  {
   "cell_type": "code",
   "execution_count": null,
   "metadata": {},
   "outputs": [],
   "source": [
    "BLAST_prot('gene')"
   ]
  },
  {
   "cell_type": "code",
   "execution_count": null,
   "metadata": {},
   "outputs": [],
   "source": [
    "def first_alignment (protein_name):\n",
    "    result_handle = open(f'{protein_name}_protein.xml')\n",
    "    blast_record = NCBIXML.read(result_handle)\n",
    "\n",
    "    first = blast_record.alignments[0]\n",
    "    print(\"FIRST ALIGNMENT: \", \"\\nAcession:\" + first.accession, \"\\nHit id:\" + first.hit_id)\n",
    "    print(\"Definition: \" + first.hit_def, \"\\nAlignment lenght: \" , first.length, \"\\nNumber of HPSs: \" , len(first.hsps))\n",
    "    result_handle.close()"
   ]
  },
  {
   "cell_type": "code",
   "execution_count": null,
   "metadata": {},
   "outputs": [],
   "source": [
    "def fliter_blast(protein_name, e_value_threshold, percent_identity_threshold, coverage_threshold):\n",
    "    \"\"\" \n",
    "    Função para filtrar os melhores alinhamentos com base no e-value, percent identity e coverage\n",
    "    Output: Nº de hits do blast, informação sobre os 3 melhores alinhamentos e especificação das espécies a que as 3 proteínas homologas pertencem\n",
    "    \"\"\"\n",
    "    result_handle = open(f'{protein_name}_protein.xml')\n",
    "    blast_record = NCBIXML.read(result_handle)\n",
    "    \n",
    "    print(\"PARAMETERS: \\nDatabase: \", blast_record.database)\n",
    "    print(\"Matriz: \" + blast_record.matrix)\n",
    "    print(\"Gap penalties: \" , blast_record.gap_penalties)\n",
    "    print('\\nHits: ', len(blast_record.alignments))\n",
    "    \n",
    "    top_alignments = []\n",
    "    for alignment in blast_record.alignments:\n",
    "        if 'synthetic construct' not in alignment.title.lower():\n",
    "            alignment_info = {\n",
    "                'title': alignment.title,\n",
    "                'length': alignment.length,\n",
    "                'e_value': float('inf'),\n",
    "                'percent_identity': 0.0,\n",
    "                'coverage': 0.0,\n",
    "                'query': '',\n",
    "                'match': '',\n",
    "                'sbjct': ''       }\n",
    "            for hsp in alignment.hsps:\n",
    "                if hsp.expect < alignment_info['e_value'] and \\\n",
    "                 (hsp.identities / hsp.align_length) * 100 >= percent_identity_threshold and \\\n",
    "                 (hsp.align_length / alignment.length) * 100 >= coverage_threshold:\n",
    "\n",
    "                    alignment_info['e_value'] = hsp.expect\n",
    "                    alignment_info['percent_identity'] = (hsp.identities / hsp.align_length) * 100\n",
    "                    alignment_info['coverage'] = (hsp.align_length / alignment.length) * 100\n",
    "                    alignment_info['query'] = hsp.query[0:75] + '...'\n",
    "                    alignment_info['match'] = hsp.match[0:75] + '...'\n",
    "                    alignment_info['sbjct'] = hsp.sbjct[0:75] + '...'\n",
    "\n",
    "            if alignment_info['e_value'] < e_value_threshold:\n",
    "                top_alignments.append(alignment_info)\n",
    "                if alignment_info['coverage'] < coverage_threshold:\n",
    "                    top_alignments.append(alignment_info)\n",
    "                    if alignment_info['percent_identity'] < percent_identity_threshold:\n",
    "                        top_alignments.append(alignment_info)\n",
    "    for i, alignment_info in enumerate(top_alignments[:4]):\n",
    "        print(f'****Alignment {i+1}****')\n",
    "        print('Sequence: ', alignment_info['title'])\n",
    "        print('Length: ', alignment_info['length'])\n",
    "        print('E-value: ', alignment_info['e_value'])\n",
    "        print('Percent identity: {:.2f}%'.format(alignment_info['percent_identity']))\n",
    "        print('Coverage: {:.2f}%'.format(alignment_info['coverage']))\n",
    "        print(alignment_info['query'])\n",
    "        print(alignment_info['match'])\n",
    "        print(alignment_info['sbjct'], '\\n')\n",
    "\n",
    "        species_list = []\n",
    "\n",
    "    for alignment_info in top_alignments[:4]:\n",
    "        title = alignment_info['title']\n",
    "        match = re.search(r\"\\[(.*?)\\]\", title)\n",
    "        if match:\n",
    "            species = match.group(1)\n",
    "            species_list.append(species)\n",
    "    print(\"\\nOrganisms:\")\n",
    "    for species in species_list:\n",
    "        print(species)\n",
    "        \n",
    "    result_handle.close()"
   ]
  },
  {
   "cell_type": "code",
   "execution_count": null,
   "metadata": {},
   "outputs": [],
   "source": [
    "# 1º gene\n",
    "first_alignment('IL10')"
   ]
  },
  {
   "cell_type": "code",
   "execution_count": null,
   "metadata": {},
   "outputs": [],
   "source": [
    "e_value_threshold = 0.001\n",
    "percent_identity_threshold = 90\n",
    "coverage_threshold = 90 \n",
    "fliter_blast('IL10', e_value_threshold, percent_identity_threshold, coverage_threshold)\n"
   ]
  },
  {
   "cell_type": "code",
   "execution_count": null,
   "metadata": {},
   "outputs": [],
   "source": [
    "fliter_blast('STAT6', e_value_threshold, percent_identity_threshold, coverage_threshold)\n"
   ]
  }
 ],
 "metadata": {
  "kernelspec": {
   "display_name": "base",
   "language": "python",
   "name": "python3"
  },
  "language_info": {
   "name": "python",
   "version": "3.12.4"
  }
 },
 "nbformat": 4,
 "nbformat_minor": 2
}
