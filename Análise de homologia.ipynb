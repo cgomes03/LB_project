{
 "cells": [
  {
   "cell_type": "markdown",
   "metadata": {},
   "source": [
    "**Análise de Homologias por BLAST**"
   ]
  },
  {
   "cell_type": "code",
   "execution_count": 1,
   "metadata": {},
   "outputs": [
    {
     "name": "stdout",
     "output_type": "stream",
     "text": [
      "Collecting biopython\n",
      "  Using cached biopython-1.84-cp312-cp312-macosx_11_0_arm64.whl.metadata (12 kB)\n",
      "Collecting numpy (from biopython)\n",
      "  Downloading numpy-2.2.1-cp312-cp312-macosx_14_0_arm64.whl.metadata (62 kB)\n",
      "Using cached biopython-1.84-cp312-cp312-macosx_11_0_arm64.whl (2.7 MB)\n",
      "Downloading numpy-2.2.1-cp312-cp312-macosx_14_0_arm64.whl (5.1 MB)\n",
      "\u001b[2K   \u001b[90m━━━━━━━━━━━━━━━━━━━━━━━━━━━━━━━━━━━━━━━━\u001b[0m \u001b[32m5.1/5.1 MB\u001b[0m \u001b[31m26.4 MB/s\u001b[0m eta \u001b[36m0:00:00\u001b[0m\n",
      "\u001b[?25hInstalling collected packages: numpy, biopython\n",
      "Successfully installed biopython-1.84 numpy-2.2.1\n",
      "Note: you may need to restart the kernel to use updated packages.\n"
     ]
    }
   ],
   "source": [
    "pip install biopython"
   ]
  },
  {
   "cell_type": "code",
   "execution_count": 2,
   "metadata": {},
   "outputs": [],
   "source": [
    "\n",
    "from Bio.Blast import NCBIXML \n",
    "from Bio.Blast import NCBIWWW \n",
    "from Bio import SeqIO\n",
    "\n",
    "import re"
   ]
  },
  {
   "cell_type": "code",
   "execution_count": 3,
   "metadata": {},
   "outputs": [],
   "source": [
    "def BLAST_prot (protein_name):\n",
    "    \"\"\"\n",
    "    Função que realiza o BLASTp para a proteína fornecida a partir do ficheiro fasta desta\n",
    "    \"\"\"\n",
    "    protein = SeqIO.read(open(f'{protein_name}.fasta'), format=\"fasta\") \n",
    "    result = NCBIWWW.qblast(\"blastp\", \"swissprot\", protein.seq)\n",
    "    with open(f'{protein_name}.xml', \"w\") as save_file:\n",
    "        save_file.write(result.read())\n",
    "    save_file.close()\n",
    "    result.close()"
   ]
  },
  {
   "cell_type": "code",
   "execution_count": 4,
   "metadata": {},
   "outputs": [],
   "source": [
    "BLAST_prot('ptsp')"
   ]
  },
  {
   "cell_type": "code",
   "execution_count": 5,
   "metadata": {},
   "outputs": [],
   "source": [
    "def first_alignment (protein_name):\n",
    "    result_handle = open(f'{protein_name}.xml')\n",
    "    blast_record = NCBIXML.read(result_handle)\n",
    "\n",
    "    first = blast_record.alignments[0]\n",
    "    print(\"FIRST ALIGNMENT: \", \"\\nAcession:\" + first.accession, \"\\nHit id:\" + first.hit_id)\n",
    "    print(\"Definition: \" + first.hit_def, \"\\nAlignment lenght: \" , first.length, \"\\nNumber of HPSs: \" , len(first.hsps))\n",
    "    result_handle.close()"
   ]
  },
  {
   "cell_type": "code",
   "execution_count": 6,
   "metadata": {},
   "outputs": [],
   "source": [
    "def fliter_blast(protein_name, e_value_threshold, percent_identity_threshold, coverage_threshold):\n",
    "    \"\"\" \n",
    "    Função para filtrar os melhores alinhamentos com base no e-value, percent identity e coverage\n",
    "    Output: Nº de hits do blast, informação sobre os 3 melhores alinhamentos e especificação das espécies a que as 3 proteínas homologas pertencem\n",
    "    \"\"\"\n",
    "    result_handle = open(f'{protein_name}.xml')\n",
    "    blast_record = NCBIXML.read(result_handle)\n",
    "    \n",
    "    print(\"PARAMETERS: \\nDatabase: \", blast_record.database)\n",
    "    print(\"Matriz: \" + blast_record.matrix)\n",
    "    print(\"Gap penalties: \" , blast_record.gap_penalties)\n",
    "    print('\\nHits: ', len(blast_record.alignments))\n",
    "    \n",
    "    top_alignments = []\n",
    "    for alignment in blast_record.alignments:\n",
    "        if 'synthetic construct' not in alignment.title.lower():\n",
    "            alignment_info = {\n",
    "                'title': alignment.title,\n",
    "                'length': alignment.length,\n",
    "                'e_value': float('inf'),\n",
    "                'percent_identity': 0.0,\n",
    "                'coverage': 0.0,\n",
    "                'query': '',\n",
    "                'match': '',\n",
    "                'sbjct': ''       }\n",
    "            for hsp in alignment.hsps:\n",
    "                if hsp.expect < alignment_info['e_value'] and \\\n",
    "                 (hsp.identities / hsp.align_length) * 100 >= percent_identity_threshold and \\\n",
    "                 (hsp.align_length / alignment.length) * 100 >= coverage_threshold:\n",
    "\n",
    "                    alignment_info['e_value'] = hsp.expect\n",
    "                    alignment_info['percent_identity'] = (hsp.identities / hsp.align_length) * 100\n",
    "                    alignment_info['coverage'] = (hsp.align_length / alignment.length) * 100\n",
    "                    alignment_info['query'] = hsp.query[0:75] + '...'\n",
    "                    alignment_info['match'] = hsp.match[0:75] + '...'\n",
    "                    alignment_info['sbjct'] = hsp.sbjct[0:75] + '...'\n",
    "\n",
    "            if alignment_info['e_value'] < e_value_threshold:\n",
    "                top_alignments.append(alignment_info)\n",
    "                if alignment_info['coverage'] < coverage_threshold:\n",
    "                    top_alignments.append(alignment_info)\n",
    "                    if alignment_info['percent_identity'] < percent_identity_threshold:\n",
    "                        top_alignments.append(alignment_info)\n",
    "    for i, alignment_info in enumerate(top_alignments[:4]):\n",
    "        print(f'****Alignment {i+1}****')\n",
    "        print('Sequence: ', alignment_info['title'])\n",
    "        print('Length: ', alignment_info['length'])\n",
    "        print('E-value: ', alignment_info['e_value'])\n",
    "        print('Percent identity: {:.2f}%'.format(alignment_info['percent_identity']))\n",
    "        print('Coverage: {:.2f}%'.format(alignment_info['coverage']))\n",
    "        print(alignment_info['query'])\n",
    "        print(alignment_info['match'])\n",
    "        print(alignment_info['sbjct'], '\\n')\n",
    "\n",
    "        species_list = []\n",
    "\n",
    "    for alignment_info in top_alignments[:4]:\n",
    "        title = alignment_info['title']\n",
    "        match = re.search(r\"\\[(.*?)\\]\", title)\n",
    "        if match:\n",
    "            species = match.group(1)\n",
    "            species_list.append(species)\n",
    "    print(\"\\nOrganisms:\")\n",
    "    for species in species_list:\n",
    "        print(species)\n",
    "        \n",
    "    result_handle.close()"
   ]
  },
  {
   "cell_type": "code",
   "execution_count": 7,
   "metadata": {},
   "outputs": [
    {
     "name": "stdout",
     "output_type": "stream",
     "text": [
      "FIRST ALIGNMENT:  \n",
      "Acession:Q9K8D3 \n",
      "Hit id:sp|Q9K8D3.1|\n",
      "Definition: RecName: Full=Phosphoenolpyruvate-protein phosphotransferase; AltName: Full=Phosphotransferase system, enzyme I [Halalkalibacterium halodurans C-125] \n",
      "Alignment lenght:  572 \n",
      "Number of HPSs:  1\n"
     ]
    }
   ],
   "source": [
    "# 1º gene\n",
    "first_alignment('ptsp')"
   ]
  },
  {
   "cell_type": "code",
   "execution_count": 9,
   "metadata": {},
   "outputs": [],
   "source": [
    "def fliter_blast(result_handle, protein_name, e_value_threshold, percent_identity_threshold, coverage_threshold):\n",
    "    species_list = []  # Inicializa a variável como uma lista vazia\n",
    "\n",
    "    # Itera sobre o handle fornecido\n",
    "    for line in result_handle:\n",
    "        # Substitua pela lógica real para preencher species_list\n",
    "        if \"some_condition\" in line:  # Substitua \"some_condition\" pela lógica correta\n",
    "            species = line.strip()  # Ajuste conforme necessário\n",
    "            species_list.append(species)\n",
    "    \n",
    "    print(\"Organisms:\")\n",
    "    for species in species_list:\n",
    "        print(species)\n"
   ]
  },
  {
   "cell_type": "code",
   "execution_count": 15,
   "metadata": {},
   "outputs": [],
   "source": [
    "e_value_threshold = 1.0\n",
    "percent_identity_threshold = 50\n",
    "coverage_threshold = 50\n"
   ]
  },
  {
   "cell_type": "code",
   "execution_count": 17,
   "metadata": {},
   "outputs": [
    {
     "name": "stdout",
     "output_type": "stream",
     "text": [
      "Número de alinhamentos: 50\n"
     ]
    }
   ],
   "source": [
    "from Bio.Blast import NCBIXML\n",
    "\n",
    "with open('ptsp.xml') as result_handle:\n",
    "    blast_record = NCBIXML.read(result_handle)\n",
    "    print(\"Número de alinhamentos:\", len(blast_record.alignments))\n"
   ]
  },
  {
   "cell_type": "code",
   "execution_count": null,
   "metadata": {},
   "outputs": [
    {
     "name": "stdout",
     "output_type": "stream",
     "text": [
      "Número de alinhamentos encontrados: 50\n",
      "Título do alinhamento: sp|Q9K8D3.1| RecName: Full=Phosphoenolpyruvate-protein phosphotransferase; AltName: Full=Phosphotransferase system, enzyme I [Halalkalibacterium halodurans C-125]\n",
      "HSP: E-value: 5.95966e-160, Identities: 228, Align length: 530, Query Cover: 96.89%\n",
      "Título do alinhamento: sp|O83018.1| RecName: Full=Phosphoenolpyruvate-protein phosphotransferase; AltName: Full=Phosphotransferase system, enzyme I [Bacillus sp. S]\n",
      "HSP: E-value: 4.75636e-154, Identities: 235, Align length: 530, Query Cover: 96.89%\n",
      "Título do alinhamento: sp|P42014.1| RecName: Full=Phosphoenolpyruvate-protein phosphotransferase; AltName: Full=Phosphotransferase system, enzyme I [Geobacillus stearothermophilus]\n",
      "HSP: E-value: 6.92156e-153, Identities: 235, Align length: 530, Query Cover: 96.89%\n",
      "Título do alinhamento: sp|O69251.1| RecName: Full=Phosphoenolpyruvate-protein phosphotransferase; AltName: Full=Phosphotransferase system, enzyme I [Priestia megaterium]\n",
      "HSP: E-value: 2.69501e-150, Identities: 227, Align length: 536, Query Cover: 97.99%\n",
      "Título do alinhamento: sp|P08838.3| RecName: Full=Phosphoenolpyruvate-protein phosphotransferase; AltName: Full=Phosphotransferase system, enzyme I [Bacillus subtilis subsp. subtilis str. 168]\n",
      "HSP: E-value: 3.80003e-149, Identities: 228, Align length: 541, Query Cover: 98.90%\n",
      "Título do alinhamento: sp|P23530.2| RecName: Full=Phosphoenolpyruvate-protein phosphotransferase; AltName: Full=Phosphotransferase system, enzyme I [Enterococcus faecalis V583]\n",
      "HSP: E-value: 2.49755e-145, Identities: 232, Align length: 548, Query Cover: 100.18%\n",
      "Título do alinhamento: sp|P23533.2| RecName: Full=Phosphoenolpyruvate-protein phosphotransferase; AltName: Full=Phosphotransferase system, enzyme I [Staphylococcus carnosus subsp. carnosus TM300]\n",
      "HSP: E-value: 9.58212e-145, Identities: 217, Align length: 543, Query Cover: 99.27%\n",
      "Título do alinhamento: sp|Q9WXK9.1| RecName: Full=Phosphoenolpyruvate-protein phosphotransferase; AltName: Full=Phosphotransferase system, enzyme I [Streptococcus equinus]\n",
      "HSP: E-value: 6.55188e-144, Identities: 229, Align length: 549, Query Cover: 100.37%\n",
      "Título do alinhamento: sp|Q92D19.1| RecName: Full=Phosphoenolpyruvate-protein phosphotransferase; AltName: Full=Phosphotransferase system, enzyme I [Listeria innocua Clip11262]\n",
      "HSP: E-value: 6.73286e-144, Identities: 217, Align length: 540, Query Cover: 98.72%\n",
      "Título do alinhamento: sp|O31149.2| RecName: Full=Phosphoenolpyruvate-protein phosphotransferase; AltName: Full=Phosphotransferase system, enzyme I [Listeria monocytogenes EGD-e]\n",
      "HSP: E-value: 1.60061e-143, Identities: 217, Align length: 540, Query Cover: 98.72%\n",
      "Título do alinhamento: sp|O07126.1| RecName: Full=Phosphoenolpyruvate-protein phosphotransferase; AltName: Full=Phosphotransferase system, enzyme I [Latilactobacillus sakei]\n",
      "HSP: E-value: 5.66579e-143, Identities: 224, Align length: 541, Query Cover: 98.90%\n",
      "Título do alinhamento: sp|P30299.1| RecName: Full=Phosphoenolpyruvate-protein phosphotransferase; AltName: Full=Phosphotransferase system, enzyme I [Streptococcus salivarius]\n",
      "HSP: E-value: 1.23048e-142, Identities: 231, Align length: 549, Query Cover: 100.37%\n",
      "Título do alinhamento: sp|P45595.2| RecName: Full=Phosphoenolpyruvate-protein phosphotransferase; AltName: Full=Phosphotransferase system, enzyme I [Streptococcus mutans UA159]\n",
      "HSP: E-value: 7.91263e-142, Identities: 227, Align length: 549, Query Cover: 100.37%\n",
      "Título do alinhamento: sp|P43922.1| RecName: Full=Phosphoenolpyruvate-protein phosphotransferase; AltName: Full=Phosphotransferase system, enzyme I [Haemophilus influenzae Rd KW20]\n",
      "HSP: E-value: 8.38899e-141, Identities: 228, Align length: 535, Query Cover: 97.81%\n",
      "Título do alinhamento: sp|Q9CJ82.1| RecName: Full=Phosphoenolpyruvate-protein phosphotransferase; AltName: Full=Phosphotransferase system, enzyme I [Lactococcus lactis subsp. lactis Il1403]\n",
      "HSP: E-value: 5.50941e-140, Identities: 226, Align length: 545, Query Cover: 99.63%\n",
      "Título do alinhamento: sp|Q5HQ85.1| RecName: Full=Phosphoenolpyruvate-protein phosphotransferase; AltName: Full=Phosphotransferase system, enzyme I [Staphylococcus epidermidis RP62A] >sp|Q8CT19.1| RecName: Full=Phosphoenolpyruvate-protein phosphotransferase; AltName: Full=Phosphotransferase system, enzyme I [Staphylococcus epidermidis ATCC 12228]\n",
      "HSP: E-value: 9.2973e-140, Identities: 220, Align length: 549, Query Cover: 100.37%\n",
      "Título do alinhamento: sp|Q9ZAD8.1| RecName: Full=Phosphoenolpyruvate-protein phosphotransferase; AltName: Full=Phosphotransferase system, enzyme I [Lactococcus cremoris]\n",
      "HSP: E-value: 1.20032e-139, Identities: 225, Align length: 545, Query Cover: 99.63%\n",
      "Título do alinhamento: sp|Q84F83.1| RecName: Full=Phosphoenolpyruvate-protein phosphotransferase; AltName: Full=Phosphotransferase system, enzyme I [Lysinibacillus sphaericus]\n",
      "HSP: E-value: 1.9035e-139, Identities: 215, Align length: 536, Query Cover: 97.99%\n",
      "Título do alinhamento: sp|P51183.1| RecName: Full=Phosphoenolpyruvate-protein phosphotransferase; AltName: Full=Phosphotransferase system, enzyme I [Staphylococcus aureus] >sp|Q5HH01.1| RecName: Full=Phosphoenolpyruvate-protein phosphotransferase; AltName: Full=Phosphotransferase system, enzyme I [Staphylococcus aureus subsp. aureus COL]\n",
      "HSP: E-value: 7.49701e-139, Identities: 217, Align length: 546, Query Cover: 99.82%\n",
      "Título do alinhamento: sp|Q6GAD0.1| RecName: Full=Phosphoenolpyruvate-protein phosphotransferase; AltName: Full=Phosphotransferase system, enzyme I [Staphylococcus aureus subsp. aureus MSSA476] >sp|Q8NX83.1| RecName: Full=Phosphoenolpyruvate-protein phosphotransferase; AltName: Full=Phosphotransferase system, enzyme I [Staphylococcus aureus subsp. aureus MW2]\n",
      "HSP: E-value: 1.59823e-138, Identities: 217, Align length: 546, Query Cover: 99.82%\n",
      "Título do alinhamento: sp|Q6GI01.1| RecName: Full=Phosphoenolpyruvate-protein phosphotransferase; AltName: Full=Phosphotransferase system, enzyme I [Staphylococcus aureus subsp. aureus MRSA252]\n",
      "HSP: E-value: 2.38452e-138, Identities: 217, Align length: 546, Query Cover: 99.82%\n",
      "Título do alinhamento: sp|Q99V14.1| RecName: Full=Phosphoenolpyruvate-protein phosphotransferase; AltName: Full=Phosphotransferase system, enzyme I [Staphylococcus aureus subsp. aureus N315]\n",
      "HSP: E-value: 1.14365e-137, Identities: 217, Align length: 546, Query Cover: 99.82%\n",
      "Título do alinhamento: sp|P45617.1| RecName: Full=Phosphoenolpyruvate-protein phosphotransferase; AltName: Full=Phosphotransferase system, enzyme I [Mycoplasma capricolum subsp. capricolum ATCC 27343]\n",
      "HSP: E-value: 2.16103e-137, Identities: 210, Align length: 537, Query Cover: 98.17%\n",
      "Título do alinhamento: sp|Q931U2.1| RecName: Full=Phosphoenolpyruvate-protein phosphotransferase; AltName: Full=Phosphotransferase system, enzyme I [Staphylococcus aureus subsp. aureus Mu50]\n",
      "HSP: E-value: 5.19534e-137, Identities: 216, Align length: 546, Query Cover: 99.82%\n",
      "Título do alinhamento: sp|P0A249.1| RecName: Full=Phosphoenolpyruvate-protein phosphotransferase; AltName: Full=Phosphotransferase system, enzyme I [Salmonella enterica subsp. enterica serovar Typhimurium str. LT2] >sp|P0A250.1| RecName: Full=Phosphoenolpyruvate-protein phosphotransferase; AltName: Full=Phosphotransferase system, enzyme I [Salmonella enterica subsp. enterica serovar Typhi]\n",
      "HSP: E-value: 4.7922e-136, Identities: 229, Align length: 535, Query Cover: 97.81%\n",
      "Título do alinhamento: sp|P08839.1| RecName: Full=Phosphoenolpyruvate-protein phosphotransferase; AltName: Full=Phosphotransferase system, enzyme I [Escherichia coli K-12]\n",
      "HSP: E-value: 1.29147e-133, Identities: 225, Align length: 539, Query Cover: 98.54%\n",
      "Título do alinhamento: sp|Q8KA50.1| RecName: Full=Phosphoenolpyruvate-protein phosphotransferase; AltName: Full=Phosphotransferase system, enzyme I [Buchnera aphidicola str. Sg (Schizaphis graminum)]\n",
      "HSP: E-value: 4.34638e-128, Identities: 205, Align length: 540, Query Cover: 98.72%\n",
      "Título do alinhamento: sp|Q89B04.1| RecName: Full=Phosphoenolpyruvate-protein phosphotransferase; AltName: Full=Phosphotransferase system, enzyme I [Buchnera aphidicola str. Bp (Baizongia pistaciae)]\n",
      "HSP: E-value: 2.22247e-123, Identities: 199, Align length: 543, Query Cover: 99.27%\n",
      "Título do alinhamento: sp|Q9WXI6.2| RecName: Full=Phosphoenolpyruvate-protein phosphotransferase; AltName: Full=Phosphotransferase system, enzyme I [Buchnera aphidicola str. APS (Acyrthosiphon pisum)]\n",
      "HSP: E-value: 6.0822e-122, Identities: 202, Align length: 534, Query Cover: 97.62%\n",
      "Título do alinhamento: sp|P75168.1| RecName: Full=Phosphoenolpyruvate-protein phosphotransferase; AltName: Full=Phosphotransferase system, enzyme I [Mycoplasmoides pneumoniae M129]\n",
      "HSP: E-value: 9.34915e-121, Identities: 208, Align length: 546, Query Cover: 99.82%\n",
      "Título do alinhamento: sp|P47668.1| RecName: Full=Phosphoenolpyruvate-protein phosphotransferase; AltName: Full=Phosphotransferase system, enzyme I [Mycoplasmoides genitalium G37]\n",
      "HSP: E-value: 8.58862e-118, Identities: 205, Align length: 545, Query Cover: 99.63%\n",
      "Título do alinhamento: sp|O51508.1| RecName: Full=Phosphoenolpyruvate-protein phosphotransferase; AltName: Full=Phosphotransferase system, enzyme I [Borreliella burgdorferi B31]\n",
      "HSP: E-value: 1.69784e-110, Identities: 199, Align length: 551, Query Cover: 100.73%\n",
      "Título do alinhamento: sp|P23388.1| RecName: Full=Multiphosphoryl transfer protein; Short=MTP; AltName: Full=Triphosphoryl transfer protein; Short=TTP; Includes: RecName: Full=Phosphoenolpyruvate-protein phosphotransferase; AltName: Full=Phosphotransferase system enzyme I; Includes: RecName: Full=Phosphocarrier protein HPr; Short=Protein H; Includes: RecName: Full=PTS system fructose-specific EIIA component; AltName: Full=EIII-Fru; AltName: Full=Fructose-specific phosphotransferase enzyme IIA component [Rhodobacter capsulatus]\n",
      "HSP: E-value: 5.95415e-100, Identities: 192, Align length: 519, Query Cover: 94.88%\n",
      "Título do alinhamento: sp|D4GYE2.1| RecName: Full=Phosphoenolpyruvate-protein phosphotransferase; AltName: Full=Phosphotransferase system, enzyme I [Haloferax volcanii DS2]\n",
      "HSP: E-value: 4.87332e-99, Identities: 213, Align length: 546, Query Cover: 99.82%\n",
      "Título do alinhamento: sp|P23536.2| RecName: Full=Phosphoenolpyruvate-protein phosphotransferase; AltName: Full=Phosphotransferase system, enzyme I [Cupriavidus necator H16]\n",
      "HSP: E-value: 2.36876e-98, Identities: 185, Align length: 493, Query Cover: 90.13%\n",
      "Título do alinhamento: sp|P32670.2| RecName: Full=Multiphosphoryl transfer protein 2; Short=MTP 2; AltName: Full=Triphosphoryl transfer protein 2; Short=TTP 2; Includes: RecName: Full=Phosphoenolpyruvate-protein phosphotransferase; AltName: Full=Enzyme I-Ani; AltName: Full=Phosphotransferase system enzyme I; Includes: RecName: Full=Phosphocarrier protein HPr; Short=Protein H; Includes: RecName: Full=PTS system fructose-like EIIA component; AltName: Full=Fructose-like phosphotransferase enzyme IIA component [Escherichia coli K-12]\n",
      "HSP: E-value: 1.53758e-95, Identities: 194, Align length: 538, Query Cover: 98.35%\n",
      "Título do alinhamento: sp|Q83QP3.1| RecName: Full=Multiphosphoryl transfer protein; Short=MTP; AltName: Full=Triphosphoryl transfer protein; Short=TTP; Includes: RecName: Full=Phosphoenolpyruvate-protein phosphotransferase; AltName: Full=Phosphotransferase system enzyme I; Includes: RecName: Full=Phosphocarrier protein HPr; Short=Protein H; Includes: RecName: Full=PTS system fructose-like EIIA component; AltName: Full=Fructose-like phosphotransferase enzyme IIA component [Shigella flexneri]\n",
      "HSP: E-value: 1.58951e-95, Identities: 184, Align length: 539, Query Cover: 98.54%\n",
      "Título do alinhamento: sp|P77439.1| RecName: Full=Multiphosphoryl transfer protein 1; Short=MTP 1; AltName: Full=Triphosphoryl transfer protein 1; Short=TTP 1; Includes: RecName: Full=Phosphoenolpyruvate-protein phosphotransferase; AltName: Full=Phosphotransferase system enzyme I; Includes: RecName: Full=Phosphocarrier protein HPr; Short=Protein H; Includes: RecName: Full=PTS system fructose-like EIIA component; AltName: Full=Fructose-like phosphotransferase enzyme IIA component [Escherichia coli K-12]\n",
      "HSP: E-value: 1.98383e-94, Identities: 183, Align length: 539, Query Cover: 98.54%\n",
      "Título do alinhamento: sp|Q8FFD8.1| RecName: Full=Multiphosphoryl transfer protein; Short=MTP; AltName: Full=Triphosphoryl transfer protein; Short=TTP; Includes: RecName: Full=Phosphoenolpyruvate-protein phosphotransferase; AltName: Full=Phosphotransferase system enzyme I; Includes: RecName: Full=Phosphocarrier protein HPr; Short=Protein H; Includes: RecName: Full=PTS system fructose-like EIIA component; AltName: Full=Fructose-like phosphotransferase enzyme IIA component [Escherichia coli CFT073]\n",
      "HSP: E-value: 3.1444e-94, Identities: 185, Align length: 539, Query Cover: 98.54%\n",
      "Título do alinhamento: sp|Q8XBQ8.1| RecName: Full=Multiphosphoryl transfer protein; Short=MTP; AltName: Full=Triphosphoryl transfer protein; Short=TTP; Includes: RecName: Full=Phosphoenolpyruvate-protein phosphotransferase; AltName: Full=Phosphotransferase system enzyme I; Includes: RecName: Full=Phosphocarrier protein HPr; Short=Protein H; Includes: RecName: Full=PTS system fructose-like EIIA component; AltName: Full=Fructose-like phosphotransferase enzyme IIA component [Escherichia coli O157:H7]\n",
      "HSP: E-value: 4.12785e-94, Identities: 183, Align length: 539, Query Cover: 98.54%\n",
      "Título do alinhamento: sp|P45597.3| RecName: Full=Multiphosphoryl transfer protein; Short=MTP; AltName: Full=Triphosphoryl transfer protein; Short=TTP; Includes: RecName: Full=Phosphoenolpyruvate-protein phosphotransferase; AltName: Full=Phosphotransferase system enzyme I; Includes: RecName: Full=Phosphocarrier protein HPr; Short=Protein H; Includes: RecName: Full=PTS system fructose-specific EIIA component; AltName: Full=EIII-Fru; AltName: Full=Fructose-specific phosphotransferase enzyme IIA component [Xanthomonas campestris pv. campestris str. ATCC 33913]\n",
      "HSP: E-value: 1.20716e-88, Identities: 202, Align length: 553, Query Cover: 101.10%\n",
      "Título do alinhamento: sp|Q9KZP1.1| RecName: Full=Phosphoenolpyruvate-protein phosphotransferase; AltName: Full=Phosphotransferase system, enzyme I [Streptomyces coelicolor A3(2)]\n",
      "HSP: E-value: 1.55022e-86, Identities: 191, Align length: 545, Query Cover: 99.63%\n",
      "Título do alinhamento: sp|P37177.2| RecName: Full=Phosphoenolpyruvate-dependent phosphotransferase system; AltName: Full=Enzyme I-Ntr; Short=EINtr; AltName: Full=Phosphotransferase system, enzyme I [Escherichia coli K-12]\n",
      "HSP: E-value: 2.3493e-85, Identities: 170, Align length: 521, Query Cover: 95.25%\n",
      "Título do alinhamento: sp|P37178.2| RecName: Full=Phosphoenolpyruvate-dependent phosphotransferase system; AltName: Full=Enzyme I-Ntr; Short=EINtr; AltName: Full=Phosphotransferase system, enzyme I [Salmonella enterica subsp. enterica serovar Typhimurium str. LT2]\n",
      "HSP: E-value: 2.76615e-84, Identities: 171, Align length: 523, Query Cover: 95.61%\n",
      "Título do alinhamento: sp|Q9Z9E3.2| RecName: Full=Phosphoenolpyruvate-protein phosphotransferase; AltName: Full=Phosphotransferase system, enzyme I [Chlamydia pneumoniae]\n",
      "HSP: E-value: 4.91056e-57, Identities: 149, Align length: 550, Query Cover: 100.55%\n",
      "Título do alinhamento: sp|Q9PK57.1| RecName: Full=Phosphoenolpyruvate-protein phosphotransferase; AltName: Full=Phosphotransferase system, enzyme I [Chlamydia muridarum str. Nigg]\n",
      "HSP: E-value: 2.33024e-49, Identities: 141, Align length: 537, Query Cover: 98.17%\n",
      "Título do alinhamento: sp|O84340.1| RecName: Full=Phosphoenolpyruvate-protein phosphotransferase; AltName: Full=Phosphotransferase system, enzyme I [Chlamydia trachomatis D/UW-3/CX]\n",
      "HSP: E-value: 2.16358e-48, Identities: 139, Align length: 531, Query Cover: 97.07%\n",
      "Título do alinhamento: sp|O29548.1| RecName: Full=Probable phosphoenolpyruvate synthase; Short=PEP synthase; AltName: Full=Pyruvate, water dikinase [Archaeoglobus fulgidus DSM 4304]\n",
      "HSP: E-value: 2.72131e-47, Identities: 117, Align length: 381, Query Cover: 69.65%\n",
      "Título do alinhamento: sp|P42850.3| RecName: Full=Phosphoenolpyruvate synthase; Short=PEP synthase; AltName: Full=Pyruvate, water dikinase [Pyrococcus furiosus DSM 3638]\n",
      "HSP: E-value: 3.70517e-46, Identities: 112, Align length: 376, Query Cover: 68.74%\n",
      "Título do alinhamento: sp|O57830.1| RecName: Full=Probable phosphoenolpyruvate synthase; Short=PEP synthase; AltName: Full=Pyruvate, water dikinase [Pyrococcus horikoshii OT3]\n",
      "HSP: E-value: 3.11585e-42, Identities: 113, Align length: 379, Query Cover: 69.29%\n"
     ]
    }
   ],
   "source": [
    "print(\"Número de alinhamentos encontrados:\", len(blast_record.alignments))\n",
    "for alignment in blast_record.alignments:\n",
    "    print(\"Título do alinhamento:\", alignment.title)\n",
    "    for hsp in alignment.hsps:\n",
    "        query_cover = (hsp.align_length / blast_record.query_letters) * 100\n",
    "        print(f\"HSP: E-value: {hsp.expect}, Identities: {hsp.identities}, \"\n",
    "              f\"Align length: {hsp.align_length}, Query Cover: {query_cover:.2f}%\")\n"
   ]
  }
 ],
 "metadata": {
  "kernelspec": {
   "display_name": ".venv",
   "language": "python",
   "name": "python3"
  },
  "language_info": {
   "codemirror_mode": {
    "name": "ipython",
    "version": 3
   },
   "file_extension": ".py",
   "mimetype": "text/x-python",
   "name": "python",
   "nbconvert_exporter": "python",
   "pygments_lexer": "ipython3",
   "version": "3.12.6"
  }
 },
 "nbformat": 4,
 "nbformat_minor": 2
}
