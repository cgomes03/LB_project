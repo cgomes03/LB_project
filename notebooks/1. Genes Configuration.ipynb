{
 "cells": [
  {
   "cell_type": "markdown",
   "metadata": {},
   "source": [
    "## **Gene configuration**\n",
    "The code uses the Biopython Bio.Entrez and Bio.SeqIO libraries to interact with the NCBI and process the genetic sequences under study, focusing on nucleotide sequences in GenBank format."
   ]
  },
  {
   "cell_type": "code",
   "execution_count": 1,
   "metadata": {},
   "outputs": [
    {
     "name": "stdout",
     "output_type": "stream",
     "text": [
      "Download the GenBank file of the gene 'butyrylCoA' successfully completed.\n",
      "Download the GenBank file of the gene 'ptsP' successfully completed.\n",
      "Download the GenBank file of the gene 'MutS' successfully completed.\n"
     ]
    }
   ],
   "source": [
    "from Bio import Entrez\n",
    "from Bio import SeqIO\n",
    "from Bio.Seq import Seq\n",
    "import os\n",
    "\n",
    "# Setting up email for use in NCBI Entrez\n",
    "Entrez.email = 'A.N.Other@example.com'\n",
    "\n",
    "def download_gene(id_gene: str, name_gene: str, start=None, end=None, complement=False):\n",
    "    \"\"\"\n",
    "    Downloads a GenBank sequence from NCBI, with the option of specifying a region and calculating the reverse complement.\n",
    "\n",
    "    Args:\n",
    "    - id_gene (str): The access ID in the NCBI database.\n",
    "    - name_gene (str): Name of the file to store the sequence.\n",
    "    - start (int, optional): Starting position of the region of interest.\n",
    "    - end (int, optional): End position of the region of interest.\n",
    "    - complement (bool, optional): If True, calculates the reverse complement of the sequence.\n",
    "    \"\"\"\n",
    "    try:\n",
    "        # Criar a pasta 'genes' se ela não existir\n",
    "        if not os.path.exists(\"genes\"):\n",
    "            os.makedirs(\"genes\")\n",
    "        \n",
    "        # Search NCBI for sequence data\n",
    "        if start and end:\n",
    "            handle = Entrez.efetch(db=\"nucleotide\", rettype=\"gb\", retmode=\"text\", id=id_gene, seq_start=start, seq_stop=end)\n",
    "        else:\n",
    "            handle = Entrez.efetch(db=\"nucleotide\", rettype=\"gb\", retmode=\"text\", id=id_gene)\n",
    "        \n",
    "        # Processing the GenBank record\n",
    "        seq_record = SeqIO.read(handle, \"gb\")\n",
    "        handle.close()\n",
    "        \n",
    "        # Calculate the reverse complement, if necessary\n",
    "        if complement:\n",
    "            seq_record.seq = seq_record.seq.reverse_complement()\n",
    "        \n",
    "        # Save the sequence in the 'genes' folder\n",
    "        output_path = os.path.join(\"genes\", f\"{name_gene}.gb\")\n",
    "        SeqIO.write(seq_record, output_path, \"gb\")\n",
    "        \n",
    "        print(f\"Download the GenBank file of the gene '{name_gene}' successfully completed.\")\n",
    "    \n",
    "    except Exception as e:\n",
    "        print(f\"Error downloading the gene {id_gene}: {e}\")\n",
    "\n",
    "# Download the genes with the specified parameters\n",
    "download_gene(\"NZ_DS483503\", \"butyrylCoA\", start=313586, end=314932, complement=False)\n",
    "download_gene(\"NZ_DS483503\", \"ptsP\", start=23763, end=25406, complement=True)\n",
    "download_gene(\"NZ_DS483503\", \"MutS\", start=859977 , end=868082  , complement=False)\n"
   ]
  },
  {
   "cell_type": "markdown",
   "metadata": {},
   "source": [
    "The code uses the Biopython Bio.Entrez and Bio.SeqIO libraries to interact with NCBI and download gene sequences, focusing on sequences in FASTA format."
   ]
  },
  {
   "cell_type": "code",
   "execution_count": 2,
   "metadata": {},
   "outputs": [
    {
     "name": "stdout",
     "output_type": "stream",
     "text": [
      "FASTA download for gene WP_044960620 completed and saved in genes\\butyrylCoA.fasta.\n",
      "FASTA download for gene WP_005925321 completed and saved in genes\\ptsP.fasta.\n",
      "FASTA download for gene WP_341271153 completed and saved in genes\\MutS.fasta.\n"
     ]
    }
   ],
   "source": [
    "import os\n",
    "from Bio import Entrez\n",
    "from Bio import SeqIO\n",
    "\n",
    "Entrez.email = 'A.N.Other@example.com'\n",
    "\n",
    "def download_fasta(gene_id, filename):\n",
    "    \"\"\"\n",
    "    Downloads the FASTA file with gene sequences and saves it in the 'genes' folder.\n",
    "\n",
    "    Args:\n",
    "    - gene_id (str): The gene ID in the NCBI database.\n",
    "    - filename (str): The filename to save the FASTA sequence.\n",
    "    \"\"\"\n",
    "    try:\n",
    "        # Create the 'genes' folder if it does not exist\n",
    "        if not os.path.exists(\"genes\"):\n",
    "            os.makedirs(\"genes\")\n",
    "        \n",
    "        file_path = os.path.join(\"genes\", filename)\n",
    "        \n",
    "        # Fetch and save the FASTA sequence\n",
    "        handle = Entrez.efetch(db=\"protein\", id=gene_id, rettype=\"fasta\", retmode=\"text\")\n",
    "        with open(file_path, \"w\") as out_file:\n",
    "            out_file.write(handle.read())\n",
    "        handle.close()\n",
    "        \n",
    "        print(f\"FASTA download for gene {gene_id} completed and saved in {file_path}.\")\n",
    "    except Exception as e:\n",
    "        print(f\"Error downloading gene {gene_id}: {e}\")\n",
    "\n",
    "# Download FASTA genes with the specified parameters\n",
    "download_fasta('WP_044960620', 'butyrylCoA.fasta')\n",
    "download_fasta('WP_005925321', 'ptsP.fasta')\n",
    "download_fasta('WP_341271153', 'MutS.fasta')\n"
   ]
  }
 ],
 "metadata": {
  "kernelspec": {
   "display_name": "bio_env",
   "language": "python",
   "name": "python3"
  },
  "language_info": {
   "codemirror_mode": {
    "name": "ipython",
    "version": 3
   },
   "file_extension": ".py",
   "mimetype": "text/x-python",
   "name": "python",
   "nbconvert_exporter": "python",
   "pygments_lexer": "ipython3",
   "version": "3.10.16"
  }
 },
 "nbformat": 4,
 "nbformat_minor": 2
}
