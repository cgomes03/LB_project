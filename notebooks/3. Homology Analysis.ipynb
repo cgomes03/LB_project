{
 "cells": [
  {
   "cell_type": "markdown",
   "metadata": {},
   "source": [
    "## **Homology Analysis Using BLAST**\n",
    "\n",
    "This script performs the following operations:\n",
    "\n",
    "1. Reads gene sequences from FASTA files.  \n",
    "2. Runs a BLAST search for each gene using the NCBI \"nr\" database to perform local alignment.  \n",
    "3. Analyzes BLAST results and filters them based on e-value, identity percentage, and coverage.  \n",
    "4. Saves the filtered results in a new FASTA file, including details such as e-value, identities, coverage, and species in the sequence description.  \n",
    "\n",
    "The script uses Biopython for sequence handling and BLAST execution."
   ]
  },
  {
   "cell_type": "code",
   "execution_count": 1,
   "metadata": {},
   "outputs": [],
   "source": [
    "from Bio import SeqIO\n",
    "from Bio.Blast import NCBIWWW, NCBIXML\n",
    "import re\n",
    "import os\n",
    "\n",
    "def blast_and_filter(gene_names, e_value_threshold=0.01, percent_identity_threshold=30, coverage_threshold=30):\n",
    "    \"\"\"\n",
    "    Performs BLAST search for given genes and filters results based on thresholds.\n",
    "\n",
    "    Inputs:\n",
    "        gene_names (list of str): List of gene names to process.\n",
    "        e_value_threshold (float): Maximum E-value to consider an alignment (default: 0.01).\n",
    "        percent_identity_threshold (float): Minimum percentage identity for inclusion (default: 30).\n",
    "        coverage_threshold (float): Minimum query coverage percentage for inclusion (default: 30).\n",
    "\n",
    "    Outputs:\n",
    "        - Filtered BLAST results in FASTA format (saved in blast_results/{gene_name}_blast.fasta)\n",
    "        - Summary of alignments printed to console\n",
    "    \"\"\"\n",
    "    if not os.path.exists(\"blast_results\"):\n",
    "        os.makedirs(\"blast_results\")\n",
    "        \n",
    "    for name_gene in gene_names:\n",
    "        # Read sequence and run BLAST\n",
    "        try:\n",
    "            if not os.path.exists(\"genes\"):\n",
    "                os.makedirs(\"genes\")\n",
    "        \n",
    "            query_seq = SeqIO.read(f\"genes/{name_gene}.fasta\", \"fasta\")\n",
    "        except FileNotFoundError:\n",
    "            print(f\"File not found for {name_gene}. Skipping...\")\n",
    "            continue\n",
    "\n",
    "        print(f\"Starting BLAST for {name_gene}...\")\n",
    "        result_handle = NCBIWWW.qblast(\"blastp\", \"swissprot\", query_seq.seq)\n",
    "        print(f\"BLAST completed for {name_gene}.\")\n",
    "\n",
    "        # Parse and filter results\n",
    "        blast_records = NCBIXML.parse(result_handle)\n",
    "        output_path = f\"blast_results/{name_gene}_blast.fasta\"\n",
    "        \n",
    "        with open(output_path, \"w\") as output_handle:\n",
    "            total_alignments = 0\n",
    "            saved_alignments = 0\n",
    "            \n",
    "            for blast_record in blast_records:\n",
    "                total_alignments = len(blast_record.alignments)\n",
    "                print(f\"Number of alignments found for {name_gene}: {total_alignments}\")\n",
    "                \n",
    "                for i, alignment in enumerate(blast_record.alignments, start=1):\n",
    "                    for hsp in alignment.hsps:\n",
    "                        query_cover = (hsp.align_length / blast_record.query_letters) * 100\n",
    "                        percent_identity = (hsp.identities / hsp.align_length) * 100\n",
    "                        \n",
    "                        # Displays the alignment in the terminal\n",
    "                        species_match = re.search(r\"\\[(.*?)\\]\", alignment.title)\n",
    "                        species = species_match.group(1) if species_match else \"Unknown species\"\n",
    "                        print(f\"Alignment {i}: {species} | {alignment.accession} | \"\n",
    "                              f\"Identity: {percent_identity:.2f}% | E-value: {hsp.expect:.2e} | Coverage: {query_cover:.2f}%\")\n",
    "                        \n",
    "                        # Applies the filters\n",
    "                        if (hsp.expect <= e_value_threshold and\n",
    "                            percent_identity >= percent_identity_threshold and\n",
    "                            query_cover >= coverage_threshold):\n",
    "                            \n",
    "                            # Writes to the file if the alignment is filtered\n",
    "                            SeqIO.write(\n",
    "                                SeqIO.SeqRecord(\n",
    "                                    seq=hsp.sbjct,\n",
    "                                    id=f\"{species} | {alignment.accession}\",  # Coloca a espécie primeiro\n",
    "                                    description=f\"E-value: {hsp.expect:.2e}, Identities: {hsp.identities}/{hsp.align_length}, \"\n",
    "                                                f\"Query Cover: {query_cover:.2f}%, Percent Identity: {percent_identity:.2f}%\"\n",
    "                                ), output_handle, \"fasta\")\n",
    "\n",
    "                            saved_alignments += 1\n",
    "                            break  # Uses only the best HSP per alignment\n",
    "            \n",
    "            # Displays the final summary\n",
    "            \n",
    "            print(f\"Alignments saved for {name_gene}: {saved_alignments}\")\n",
    "        \n",
    "        print(f\"Filtered BLAST results for {name_gene} were saved in '{output_path}'\")\n"
   ]
  },
  {
   "cell_type": "markdown",
   "metadata": {},
   "source": [
    "#### **1: Gene ptsP**"
   ]
  },
  {
   "cell_type": "code",
   "execution_count": null,
   "metadata": {},
   "outputs": [
    {
     "name": "stdout",
     "output_type": "stream",
     "text": [
      "Starting BLAST for ptsP...\n",
      "BLAST completed for ptsP.\n",
      "Number of alignments found for ptsP: 50\n",
      "Alignment 1: Halalkalibacterium halodurans C-125 | Q9K8D3 | Identity: 43.02% | E-value: 5.96e-160 | Coverage: 96.89%\n",
      "Alignment 2: Bacillus sp. S | O83018 | Identity: 44.34% | E-value: 4.76e-154 | Coverage: 96.89%\n",
      "Alignment 3: Geobacillus stearothermophilus | P42014 | Identity: 44.34% | E-value: 6.92e-153 | Coverage: 96.89%\n",
      "Alignment 4: Priestia megaterium | O69251 | Identity: 42.35% | E-value: 2.70e-150 | Coverage: 97.99%\n",
      "Alignment 5: Bacillus subtilis subsp. subtilis str. 168 | P08838 | Identity: 42.14% | E-value: 3.80e-149 | Coverage: 98.90%\n",
      "Alignment 6: Enterococcus faecalis V583 | P23530 | Identity: 42.34% | E-value: 2.50e-145 | Coverage: 100.18%\n",
      "Alignment 7: Staphylococcus carnosus subsp. carnosus TM300 | P23533 | Identity: 39.96% | E-value: 9.58e-145 | Coverage: 99.27%\n",
      "Alignment 8: Streptococcus equinus | Q9WXK9 | Identity: 41.71% | E-value: 6.55e-144 | Coverage: 100.37%\n",
      "Alignment 9: Listeria innocua Clip11262 | Q92D19 | Identity: 40.19% | E-value: 6.73e-144 | Coverage: 98.72%\n",
      "Alignment 10: Listeria monocytogenes EGD-e | O31149 | Identity: 40.19% | E-value: 1.60e-143 | Coverage: 98.72%\n",
      "Alignment 11: Latilactobacillus sakei | O07126 | Identity: 41.40% | E-value: 5.67e-143 | Coverage: 98.90%\n",
      "Alignment 12: Streptococcus salivarius | P30299 | Identity: 42.08% | E-value: 1.23e-142 | Coverage: 100.37%\n",
      "Alignment 13: Streptococcus mutans UA159 | P45595 | Identity: 41.35% | E-value: 7.91e-142 | Coverage: 100.37%\n",
      "Alignment 14: Haemophilus influenzae Rd KW20 | P43922 | Identity: 42.62% | E-value: 8.39e-141 | Coverage: 97.81%\n",
      "Alignment 15: Lactococcus lactis subsp. lactis Il1403 | Q9CJ82 | Identity: 41.47% | E-value: 5.51e-140 | Coverage: 99.63%\n",
      "Alignment 16: Staphylococcus epidermidis RP62A | Q5HQ85 | Identity: 40.07% | E-value: 9.30e-140 | Coverage: 100.37%\n",
      "Alignment 17: Lactococcus cremoris | Q9ZAD8 | Identity: 41.28% | E-value: 1.20e-139 | Coverage: 99.63%\n",
      "Alignment 18: Lysinibacillus sphaericus | Q84F83 | Identity: 40.11% | E-value: 1.90e-139 | Coverage: 97.99%\n",
      "Alignment 19: Staphylococcus aureus | P51183 | Identity: 39.74% | E-value: 7.50e-139 | Coverage: 99.82%\n",
      "Alignment 20: Staphylococcus aureus subsp. aureus MSSA476 | Q6GAD0 | Identity: 39.74% | E-value: 1.60e-138 | Coverage: 99.82%\n",
      "Alignment 21: Staphylococcus aureus subsp. aureus MRSA252 | Q6GI01 | Identity: 39.74% | E-value: 2.38e-138 | Coverage: 99.82%\n",
      "Alignment 22: Staphylococcus aureus subsp. aureus N315 | Q99V14 | Identity: 39.74% | E-value: 1.14e-137 | Coverage: 99.82%\n",
      "Alignment 23: Mycoplasma capricolum subsp. capricolum ATCC 27343 | P45617 | Identity: 39.11% | E-value: 2.16e-137 | Coverage: 98.17%\n",
      "Alignment 24: Staphylococcus aureus subsp. aureus Mu50 | Q931U2 | Identity: 39.56% | E-value: 5.20e-137 | Coverage: 99.82%\n",
      "Alignment 25: Salmonella enterica subsp. enterica serovar Typhimurium str. LT2 | P0A249 | Identity: 42.80% | E-value: 4.79e-136 | Coverage: 97.81%\n",
      "Alignment 26: Escherichia coli K-12 | P08839 | Identity: 41.74% | E-value: 1.29e-133 | Coverage: 98.54%\n",
      "Alignment 27: Buchnera aphidicola str. Sg (Schizaphis graminum) | Q8KA50 | Identity: 37.96% | E-value: 4.35e-128 | Coverage: 98.72%\n",
      "Alignment 28: Buchnera aphidicola str. Bp (Baizongia pistaciae) | Q89B04 | Identity: 36.65% | E-value: 2.22e-123 | Coverage: 99.27%\n",
      "Alignment 29: Buchnera aphidicola str. APS (Acyrthosiphon pisum) | Q9WXI6 | Identity: 37.83% | E-value: 6.08e-122 | Coverage: 97.62%\n",
      "Alignment 30: Mycoplasmoides pneumoniae M129 | P75168 | Identity: 38.10% | E-value: 9.35e-121 | Coverage: 99.82%\n",
      "Alignment 31: Mycoplasmoides genitalium G37 | P47668 | Identity: 37.61% | E-value: 8.59e-118 | Coverage: 99.63%\n",
      "Alignment 32: Borreliella burgdorferi B31 | O51508 | Identity: 36.12% | E-value: 1.70e-110 | Coverage: 100.73%\n",
      "Alignment 33: Rhodobacter capsulatus | P23388 | Identity: 36.99% | E-value: 5.95e-100 | Coverage: 94.88%\n",
      "Alignment 34: Haloferax volcanii DS2 | D4GYE2 | Identity: 39.01% | E-value: 4.87e-99 | Coverage: 99.82%\n",
      "Alignment 35: Cupriavidus necator H16 | P23536 | Identity: 37.53% | E-value: 2.37e-98 | Coverage: 90.13%\n",
      "Alignment 36: Escherichia coli K-12 | P32670 | Identity: 36.06% | E-value: 1.54e-95 | Coverage: 98.35%\n",
      "Alignment 37: Shigella flexneri | Q83QP3 | Identity: 34.14% | E-value: 1.59e-95 | Coverage: 98.54%\n",
      "Alignment 38: Escherichia coli K-12 | P77439 | Identity: 33.95% | E-value: 1.98e-94 | Coverage: 98.54%\n",
      "Alignment 39: Escherichia coli CFT073 | Q8FFD8 | Identity: 34.32% | E-value: 3.14e-94 | Coverage: 98.54%\n",
      "Alignment 40: Escherichia coli O157:H7 | Q8XBQ8 | Identity: 33.95% | E-value: 4.13e-94 | Coverage: 98.54%\n",
      "Alignment 41: Xanthomonas campestris pv. campestris str. ATCC 33913 | P45597 | Identity: 36.53% | E-value: 1.21e-88 | Coverage: 101.10%\n",
      "Alignment 42: Streptomyces coelicolor A3(2) | Q9KZP1 | Identity: 35.05% | E-value: 1.55e-86 | Coverage: 99.63%\n",
      "Alignment 43: Escherichia coli K-12 | P37177 | Identity: 32.63% | E-value: 2.35e-85 | Coverage: 95.25%\n",
      "Alignment 44: Salmonella enterica subsp. enterica serovar Typhimurium str. LT2 | P37178 | Identity: 32.70% | E-value: 2.77e-84 | Coverage: 95.61%\n",
      "Alignment 45: Chlamydia pneumoniae | Q9Z9E3 | Identity: 27.09% | E-value: 4.91e-57 | Coverage: 100.55%\n",
      "Alignment 46: Chlamydia muridarum str. Nigg | Q9PK57 | Identity: 26.26% | E-value: 2.33e-49 | Coverage: 98.17%\n",
      "Alignment 47: Chlamydia trachomatis D/UW-3/CX | O84340 | Identity: 26.18% | E-value: 2.16e-48 | Coverage: 97.07%\n",
      "Alignment 48: Archaeoglobus fulgidus DSM 4304 | O29548 | Identity: 30.71% | E-value: 2.72e-47 | Coverage: 69.65%\n",
      "Alignment 49: Pyrococcus furiosus DSM 3638 | P42850 | Identity: 29.79% | E-value: 3.71e-46 | Coverage: 68.74%\n",
      "Alignment 50: Pyrococcus horikoshii OT3 | O57830 | Identity: 29.82% | E-value: 3.12e-42 | Coverage: 69.29%\n",
      "Alignments saved for ptsP: 45\n",
      "Filtered BLAST results for ptsP were saved in 'blast_results/ptsP_blast.fasta'\n"
     ]
    },
    {
     "name": "stderr",
     "output_type": "stream",
     "text": [
      "c:\\Users\\catar\\anaconda3\\envs\\bio_env\\lib\\site-packages\\Bio\\SeqRecord.py:228: BiopythonDeprecationWarning: Using a string as the sequence is deprecated and will raise a TypeError in future. It has been converted to a Seq object.\n",
      "  warnings.warn(\n"
     ]
    }
   ],
   "source": [
    "blast_and_filter(gene_names = [\"ptsP\"])"
   ]
  },
  {
   "cell_type": "markdown",
   "metadata": {},
   "source": [
    "#### **2. Gene ButyrylCoA**"
   ]
  },
  {
   "cell_type": "code",
   "execution_count": 5,
   "metadata": {},
   "outputs": [
    {
     "name": "stdout",
     "output_type": "stream",
     "text": [
      "Starting BLAST for butyrylCoA...\n",
      "BLAST completed for butyrylCoA.\n",
      "Number of alignments found for butyrylCoA: 8\n",
      "Alignment 1: Roseburia hominis A2-183 | G2SYC0 | Identity: 74.27% | E-value: 0.00e+00 | Coverage: 99.78%\n",
      "Alignment 2: Anaerostipes caccae L1-92 | B0MC58 | Identity: 71.14% | E-value: 0.00e+00 | Coverage: 99.78%\n",
      "Alignment 3: Syntrophomonas wolfei subsp. wolfei str. Goettingen G311 | Q0AVM5 | Identity: 51.58% | E-value: 2.48e-164 | Coverage: 99.11%\n",
      "Alignment 4: Clostridium kluyveri DSM 555 | P38942 | Identity: 39.86% | E-value: 7.36e-97 | Coverage: 97.99%\n",
      "Alignment 5: Fasciola hepatica | C6EUD4 | Identity: 36.19% | E-value: 1.19e-66 | Coverage: 83.26%\n",
      "Alignment 6: Clostridium kluyveri DSM 555 | P38946 | Identity: 24.37% | E-value: 3.80e-17 | Coverage: 87.95%\n",
      "Alignment 7: Dictyostelium discoideum | Q54K91 | Identity: 23.42% | E-value: 6.86e-13 | Coverage: 81.03%\n",
      "Alignment 8: Arabidopsis thaliana | Q9AR19 | Identity: 21.29% | E-value: 9.18e+00 | Coverage: 34.60%\n",
      "Alignments saved for butyrylCoA: 5\n",
      "Filtered BLAST results for butyrylCoA were saved in 'blast_results/butyrylCoA_blast.fasta'\n"
     ]
    }
   ],
   "source": [
    "blast_and_filter(gene_names = [\"butyrylCoA\"])"
   ]
  },
  {
   "cell_type": "markdown",
   "metadata": {},
   "source": [
    "#### **3. Gene MutS**"
   ]
  },
  {
   "cell_type": "code",
   "execution_count": 5,
   "metadata": {},
   "outputs": [
    {
     "name": "stdout",
     "output_type": "stream",
     "text": [
      "Starting BLAST for MutS...\n",
      "BLAST completed for MutS.\n",
      "Number of alignments found for MutS: 7\n",
      "Alignment 1: Escherichia phage P1 | Q71TF8 | Identity: 25.00% | E-value: 2.43e-18 | Coverage: 21.73%\n",
      "Alignment 2: Paramecium bursaria Chlorella virus CV-XZ6E | P52284 | Identity: 35.87% | E-value: 9.46e-08 | Coverage: 4.35%\n",
      "Alignment 3: Streptomyces albus G | Q53609 | Identity: 30.36% | E-value: 6.72e-03 | Coverage: 5.29%\n",
      "Alignment 4: Paramecium bursaria Chlorella virus NC1A | P10835 | Identity: 27.50% | E-value: 4.38e-02 | Coverage: 5.67%\n",
      "Alignment 5: Schizosaccharomyces pombe 972h- | Q10332 | Identity: 23.20% | E-value: 3.28e-01 | Coverage: 11.81%\n",
      "Alignment 6: Cryptococcus neoformans var. grubii H99 | J9VI03 | Identity: 30.36% | E-value: 4.88e-01 | Coverage: 5.29%\n",
      "Alignment 7: Escherichia coli | P25240 | Identity: 24.68% | E-value: 4.92e+00 | Coverage: 7.27%\n",
      "Alignments saved for MutS: 3\n",
      "Filtered BLAST results for MutS were saved in 'blast_results/MutS_blast.fasta'\n"
     ]
    },
    {
     "name": "stderr",
     "output_type": "stream",
     "text": [
      "c:\\Users\\catar\\anaconda3\\envs\\bio_env\\lib\\site-packages\\Bio\\SeqRecord.py:228: BiopythonDeprecationWarning: Using a string as the sequence is deprecated and will raise a TypeError in future. It has been converted to a Seq object.\n",
      "  warnings.warn(\n"
     ]
    }
   ],
   "source": [
    "blast_and_filter(gene_names = [\"MutS\"], e_value_threshold=0.1, percent_identity_threshold=15, coverage_threshold=5)"
   ]
  }
 ],
 "metadata": {
  "kernelspec": {
   "display_name": "bio_env",
   "language": "python",
   "name": "python3"
  },
  "language_info": {
   "codemirror_mode": {
    "name": "ipython",
    "version": 3
   },
   "file_extension": ".py",
   "mimetype": "text/x-python",
   "name": "python",
   "nbconvert_exporter": "python",
   "pygments_lexer": "ipython3",
   "version": "3.10.16"
  }
 },
 "nbformat": 4,
 "nbformat_minor": 2
}
