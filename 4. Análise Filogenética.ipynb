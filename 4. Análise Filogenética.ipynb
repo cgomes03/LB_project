{
 "cells": [
  {
   "cell_type": "markdown",
   "metadata": {},
   "source": [
    "## **Análise filogenética**\n",
    "\n",
    "O código  realiza um alinhamento múltiplo de sete sequências, selecionando os melhores alinhamentos de sequências homólogas. Em seguida, processa o cálculo da matriz, utilizando como base o alinhamento obtido com a matriz modelo 'BLOSUM62'. Por fim, concontroi árvores filogenéticas pelos métodos UPGMA e NJ para cada gene em análise.\n"
   ]
  },
  {
   "cell_type": "code",
   "execution_count": 1,
   "metadata": {},
   "outputs": [],
   "source": [
    "from Bio import SeqIO, AlignIO, Phylo\n",
    "from Bio.SeqRecord import SeqRecord\n",
    "from Bio.Align import MultipleSeqAlignment\n",
    "from Bio.Phylo.TreeConstruction import DistanceCalculator, DistanceTreeConstructor\n",
    "from collections import Counter\n",
    "import os\n",
    "import matplotlib.pyplot as plt\n",
    "\n",
    "def process_gene(gene_name, input_fasta):\n",
    "    # Criar diretório de saída\n",
    "    output_dir = \"Resultados da Análise Filogenética\"\n",
    "    os.makedirs(output_dir, exist_ok=True)\n",
    "\n",
    "    # Leitura do arquivo fasta\n",
    "    with open(input_fasta) as handle:\n",
    "        records = list(SeqIO.parse(handle, format='fasta'))\n",
    "\n",
    "    # Garantir que temos exatamente 7 sequências\n",
    "    if len(records) < 7:\n",
    "        raise ValueError(f\"O arquivo FASTA deve conter pelo menos 7 sequências. Foram encontradas: {len(records)}\")\n",
    "\n",
    "    # Extrair as primeiras 7 sequências e usa o nome da espécie como ID\n",
    "    seq_records = []\n",
    "    for record in records[:7]:\n",
    "        # Extrair o nome da espécie da descrição\n",
    "        species = record.description.split('Species: ')[-1].strip()\n",
    "        # Criar um novo SeqRecord com o nome da espécie como ID\n",
    "        new_record = SeqRecord(record.seq, id=species, description='')\n",
    "        seq_records.append(new_record)\n",
    "\n",
    "    # Criar o alinhamento\n",
    "    alignment = MultipleSeqAlignment(seq_records)\n",
    "\n",
    "    # Verificar e renomear IDs duplicados no MSA\n",
    "    unique_ids = set()\n",
    "    for i, record in enumerate(alignment):\n",
    "        original_id = record.id\n",
    "        while record.id in unique_ids:\n",
    "            print(f\"ID duplicado encontrado: {record.id}. Renomeando...\")\n",
    "            record.id = f\"{original_id}_{i}\"\n",
    "        unique_ids.add(record.id)\n",
    "\n",
    "    # Salvar o alinhamento\n",
    "    alignment_file = os.path.join(output_dir, f'{gene_name}_alignment.fasta')\n",
    "    AlignIO.write(alignment, alignment_file, 'fasta')\n",
    "\n",
    "    # Calcular matriz de distância\n",
    "    calculator = DistanceCalculator('blosum62')\n",
    "    dm = calculator.get_distance(alignment)\n",
    "    \n",
    "    # Imprimir a matriz de distância\n",
    "    print(f\"Matriz de Distância:\\n{dm}\")\n",
    "\n",
    "    # Construir árvores\n",
    "    constructor = DistanceTreeConstructor()\n",
    "    upgma_tree = constructor.upgma(dm)\n",
    "    nj_tree = constructor.nj(dm)\n",
    "\n",
    "    # Remover rótulos 'Inner' dos clades e destacar-los com o género \"Homo\"\n",
    "    for tree in [upgma_tree, nj_tree]:\n",
    "        for clade in tree.find_clades():\n",
    "            if 'Inner' in (clade.name or ''):\n",
    "                clade.name = \"\"\n",
    "            if 'Homo' in (clade.name or ''):\n",
    "                clade.color = 'orange'\n",
    "                clade.name = '*** ' + clade.name + ' ***'  # Marca o clade\n",
    "\n",
    "    # Guardar árvores\n",
    "    Phylo.write(upgma_tree, os.path.join(output_dir, f'{gene_name}_upgma_tree.nwk'), 'newick')\n",
    "    Phylo.write(nj_tree, os.path.join(output_dir, f'{gene_name}_nj_tree.nwk'), 'newick')\n",
    "\n",
    "    # Processar e desenhar árvores\n",
    "    for tree, tree_type in [(upgma_tree, 'UPGMA'), (nj_tree, 'NJ')]:\n",
    "        plt.figure(figsize=(15, 10))\n",
    "        Phylo.draw(tree, do_show=False)\n",
    "        plt.title(f'{gene_name} - {tree_type} Tree')\n",
    "        tree_img = os.path.join(output_dir, f'{gene_name}_{tree_type}_tree.png')\n",
    "        plt.savefig(tree_img)\n",
    "        plt.close()\n",
    "\n",
    "    print(f\"Processamento concluído para o gene {gene_name}. Resultados guardado em '{output_dir}'.\")\n"
   ]
  },
  {
   "cell_type": "markdown",
   "metadata": {},
   "source": [
    "#### **1: Gene ptsP**"
   ]
  },
  {
   "cell_type": "code",
   "execution_count": 2,
   "metadata": {},
   "outputs": [
    {
     "name": "stdout",
     "output_type": "stream",
     "text": [
      "ID duplicado encontrado: Faecalibacterium prausnitzii. Renomeando...\n",
      "ID duplicado encontrado: Faecalibacterium prausnitzii. Renomeando...\n",
      "ID duplicado encontrado: Faecalibacterium prausnitzii. Renomeando...\n",
      "ID duplicado encontrado: Faecalibacterium prausnitzii. Renomeando...\n",
      "ID duplicado encontrado: Faecalibacterium prausnitzii. Renomeando...\n",
      "Matriz de Distância:\n",
      "Faecalibacterium prausnitzii    0.000000\n",
      "Faecalibacterium prausnitzii_1  0.001080    0.000000\n",
      "Faecalibacterium prausnitzii_2  0.001080    0.002159    0.000000\n",
      "Faecalibacterium prausnitzii_3  0.001439    0.002519    0.002519    0.000000\n",
      "Faecalibacterium prausnitzii_4  0.002157    0.003236    0.003236    0.003596    0.000000\n",
      "Faecalibacterium sp.    0.001439    0.000360    0.002519    0.002879    0.003596    0.000000\n",
      "Faecalibacterium prausnitzii_6  0.001799    0.002879    0.002879    0.003239    0.003955    0.003239    0.000000\n",
      "    Faecalibacterium prausnitzii    Faecalibacterium prausnitzii_1  Faecalibacterium prausnitzii_2  Faecalibacterium prausnitzii_3  Faecalibacterium prausnitzii_4  Faecalibacterium sp.    Faecalibacterium prausnitzii_6\n",
      "Processamento concluído para o gene ptsp. Resultados guardado em 'Resultados da Análise Filogenética'.\n"
     ]
    },
    {
     "data": {
      "text/plain": [
       "<Figure size 1500x1000 with 0 Axes>"
      ]
     },
     "metadata": {},
     "output_type": "display_data"
    },
    {
     "data": {
      "text/plain": [
       "<Figure size 1500x1000 with 0 Axes>"
      ]
     },
     "metadata": {},
     "output_type": "display_data"
    }
   ],
   "source": [
    "gene_name = \"ptsp\"\n",
    "input_fasta = \"genes/ptsP_blast.fasta\"\n",
    "\n",
    "process_gene(gene_name, input_fasta)"
   ]
  },
  {
   "cell_type": "markdown",
   "metadata": {},
   "source": [
    "#### **2: Gene ButyrylCoA**"
   ]
  },
  {
   "cell_type": "code",
   "execution_count": 3,
   "metadata": {},
   "outputs": [
    {
     "name": "stdout",
     "output_type": "stream",
     "text": [
      "ID duplicado encontrado: Faecalibacterium. Renomeando...\n",
      "ID duplicado encontrado: Faecalibacterium prausnitzii. Renomeando...\n",
      "ID duplicado encontrado: Faecalibacterium prausnitzii. Renomeando...\n",
      "Matriz de Distância:\n",
      "Faecalibacterium    0.000000\n",
      "Faecalibacterium_1  0.002124    0.000000\n",
      "Faecalibacterium prausnitzii    0.002123    0.004246    0.000000\n",
      "Faecalibacterium prausnitzii M21/2  0.000000    0.002124    0.002123    0.000000\n",
      "Faecalibacterium sp.    0.003398    0.001700    0.005520    0.003398    0.000000\n",
      "Faecalibacterium prausnitzii_5  0.003398    0.001276    0.005520    0.003398    0.002975    0.000000\n",
      "Faecalibacterium prausnitzii_6  0.003398    0.001276    0.005520    0.003398    0.002975    0.002551    0.000000\n",
      "    Faecalibacterium    Faecalibacterium_1  Faecalibacterium prausnitzii    Faecalibacterium prausnitzii M21/2  Faecalibacterium sp.    Faecalibacterium prausnitzii_5  Faecalibacterium prausnitzii_6\n",
      "Processamento concluído para o gene butyrylCoA. Resultados guardado em 'Resultados da Análise Filogenética'.\n"
     ]
    },
    {
     "data": {
      "text/plain": [
       "<Figure size 1500x1000 with 0 Axes>"
      ]
     },
     "metadata": {},
     "output_type": "display_data"
    },
    {
     "data": {
      "text/plain": [
       "<Figure size 1500x1000 with 0 Axes>"
      ]
     },
     "metadata": {},
     "output_type": "display_data"
    }
   ],
   "source": [
    "gene_name = \"butyrylCoA\"\n",
    "input_fasta = \"genes/butyrylCoA_blast.fasta\"\n",
    "\n",
    "process_gene(gene_name, input_fasta)"
   ]
  }
 ],
 "metadata": {
  "kernelspec": {
   "display_name": "bio_env",
   "language": "python",
   "name": "python3"
  },
  "language_info": {
   "codemirror_mode": {
    "name": "ipython",
    "version": 3
   },
   "file_extension": ".py",
   "mimetype": "text/x-python",
   "name": "python",
   "nbconvert_exporter": "python",
   "pygments_lexer": "ipython3",
   "version": "3.10.16"
  }
 },
 "nbformat": 4,
 "nbformat_minor": 2
}
