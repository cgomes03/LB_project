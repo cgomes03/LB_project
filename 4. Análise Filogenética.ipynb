{
 "cells": [
  {
   "cell_type": "markdown",
   "metadata": {},
   "source": [
    "## **Análise filogenética**\n",
    "\n",
    "O código  realiza um alinhamento múltiplo de sete sequências, selecionando os melhores alinhamentos de sequências homólogas. Em seguida, processa o cálculo da matriz, utilizando como base o alinhamento obtido com a matriz modelo 'BLOSUM62'. Por fim, concontroi árvores filogenéticas pelos métodos UPGMA e NJ para cada gene em análise.\n"
   ]
  },
  {
   "cell_type": "code",
   "execution_count": 26,
   "metadata": {},
   "outputs": [],
   "source": [
    "from Bio import SeqIO, AlignIO, Phylo\n",
    "from Bio.SeqRecord import SeqRecord\n",
    "from Bio.Phylo.TreeConstruction import DistanceCalculator, DistanceTreeConstructor\n",
    "import subprocess\n",
    "import os\n",
    "import matplotlib.pyplot as plt\n",
    "\n",
    "def process_gene_with_clustal(gene_name, fasta_file):\n",
    "    # Criar diretório de saída\n",
    "    output_dir = \"Resultados da Análise Filogenética\"\n",
    "    os.makedirs(output_dir, exist_ok=True)\n",
    "\n",
    "    # Lê o arquivo FASTA\n",
    "    sequences = []\n",
    "    with open(fasta_file) as handle:\n",
    "        for record in SeqIO.parse(handle, \"fasta\"):\n",
    "            sequences.append(record)\n",
    "\n",
    "    # Verificar se temos pelo menos 7 sequências\n",
    "    if len(sequences) < 7:\n",
    "        raise ValueError(f\"O arquivo FASTA deve conter pelo menos 7 sequências. Foram encontradas: {len(sequences)}\")\n",
    "\n",
    "\n",
    "    # Salvar as sequências extraídas em um arquivo FASTA\n",
    "    trimmed_fasta = os.path.join(output_dir, f\"{gene_name}_trimmed.fasta\")\n",
    "    SeqIO.write(sequences, trimmed_fasta, \"fasta\")\n",
    "\n",
    "    # Caminho para o executável do ClustalW2\n",
    "    clustal_exe = \"clustalw2\"  # Substitua pelo caminho correto do executável, se necessário\n",
    "\n",
    "    # Definir o arquivo de saída do alinhamento\n",
    "    alignment_file = os.path.join(output_dir, f\"{gene_name}_alignment.fasta\")\n",
    "\n",
    "    # Executar o comando ClustalW2 para fazer o alinhamento\n",
    "    clustal_command = [\n",
    "        clustal_exe,\n",
    "        f\"/INFILE={trimmed_fasta}\",\n",
    "        f\"/OUTFILE={alignment_file}\",\n",
    "        \"/OUTPUT=FASTA\",\n",
    "        \"/QUIET\"\n",
    "    ]\n",
    "\n",
    "    print(f\"Executando ClustalW2 para o gene {gene_name}...\")\n",
    "    try:\n",
    "        subprocess.run(clustal_command, check=True)\n",
    "    except subprocess.CalledProcessError as e:\n",
    "        print(f\"Erro ao executar ClustalW2: {e}\")\n",
    "        return\n",
    "\n",
    "    # Verificar se o alinhamento foi gerado com sucesso\n",
    "    if not os.path.exists(alignment_file):\n",
    "        raise FileNotFoundError(f\"O alinhamento não foi gerado para o gene {gene_name}.\")\n",
    "    \n",
    "    # Ler o alinhamento gerado\n",
    "    alignment = AlignIO.read(alignment_file, \"fasta\")\n",
    "\n",
    "    # Garantir que os IDs são únicos e preservar informações importantes\n",
    "    unique_ids = set()\n",
    "    for i, record in enumerate(alignment):\n",
    "        # Extrair o ID original completo\n",
    "        original_id = record.id\n",
    "        full_description = record.description\n",
    "        \n",
    "        # Processar a descrição para incluir tudo\n",
    "        full_id = \"_\".join(full_description.replace(\":\", \"\").split())  # Substituir espaços por \"_\", remover \":\"\n",
    "        \n",
    "        # Garantir unicidade\n",
    "        if full_id in unique_ids:\n",
    "            print(f\"ID duplicado encontrado: {full_id}. Renomeando...\")\n",
    "            full_id = f\"{full_id}_{i}\"  # Adicionar índice se necessário\n",
    "        \n",
    "        # Atualizar o ID e descrição do record\n",
    "        record.id = full_id\n",
    "        record.description = full_id\n",
    "        unique_ids.add(full_id)\n",
    "\n",
    "    # Calcular matriz de distância\n",
    "    calculator = DistanceCalculator('blosum62')\n",
    "    try:\n",
    "        dm = calculator.get_distance(alignment)\n",
    "        print(f\"Matriz de Distância:\\n{dm}\")\n",
    "    except ValueError as e:\n",
    "        print(f\"Erro ao calcular a matriz de distância: {e}\")\n",
    "        return\n",
    "\n",
    "    # Construir árvores\n",
    "    constructor = DistanceTreeConstructor()\n",
    "    upgma_tree = constructor.upgma(dm)\n",
    "    nj_tree = constructor.nj(dm)\n",
    "\n",
    "    # Remover rótulos 'Inner' dos clades e destacar-los com o género \"Homo\"\n",
    "    for tree in [upgma_tree, nj_tree]:\n",
    "        for clade in tree.find_clades():\n",
    "            if 'Inner' in (clade.name or ''):\n",
    "                clade.name = \"\"\n",
    "            if 'Homo' in (clade.name or ''):\n",
    "                clade.color = 'orange'\n",
    "                clade.name = '*** ' + clade.name + ' ***'  # Marca o clade\n",
    "\n",
    "    # Guardar árvores\n",
    "    Phylo.write(upgma_tree, os.path.join(output_dir, f'{gene_name}_upgma_tree.nwk'), 'newick')\n",
    "    Phylo.write(nj_tree, os.path.join(output_dir, f'{gene_name}_nj_tree.nwk'), 'newick')\n",
    "\n",
    "    # Processar e desenhar árvores\n",
    "    for tree, tree_type in [(upgma_tree, 'UPGMA'), (nj_tree, 'NJ')]:\n",
    "        plt.figure(figsize=(15, 10))\n",
    "        Phylo.draw(tree, do_show=False)\n",
    "        plt.title(f'{gene_name} - {tree_type} Tree')\n",
    "        tree_img = os.path.join(output_dir, f'{gene_name}_{tree_type}_tree.png')\n",
    "        plt.savefig(tree_img)\n",
    "        plt.close()\n",
    "\n",
    "    print(f\"Processamento concluído para o gene {gene_name}. Resultados guardados em '{output_dir}'.\")\n"
   ]
  },
  {
   "cell_type": "markdown",
   "metadata": {},
   "source": [
    "#### **1: Gene ptsP**"
   ]
  },
  {
   "cell_type": "code",
   "execution_count": 27,
   "metadata": {},
   "outputs": [
    {
     "name": "stdout",
     "output_type": "stream",
     "text": [
      "Executando ClustalW2 para o gene ptsP...\n",
      "Matriz de Distância:\n",
      "Faecalibacterium_prausnitzii    0.000000\n",
      "Faecalibacterium_prausnitzii_1  0.001080    0.000000\n",
      "Faecalibacterium_prausnitzii_2  0.001080    0.002159    0.000000\n",
      "Faecalibacterium_prausnitzii_3  0.001439    0.002519    0.002519    0.000000\n",
      "Faecalibacterium_prausnitzii_4  0.002157    0.003236    0.003236    0.003596    0.000000\n",
      "Faecalibacterium_sp.    0.001439    0.000360    0.002519    0.002879    0.003596    0.000000\n",
      "Faecalibacterium_prausnitzii_6  0.001799    0.002879    0.002879    0.003239    0.003955    0.003239    0.000000\n",
      "    Faecalibacterium_prausnitzii    Faecalibacterium_prausnitzii_1  Faecalibacterium_prausnitzii_2  Faecalibacterium_prausnitzii_3  Faecalibacterium_prausnitzii_4  Faecalibacterium_sp.    Faecalibacterium_prausnitzii_6\n",
      "Processamento concluído para o gene ptsP. Resultados guardados em 'Resultados da Análise Filogenética'.\n"
     ]
    },
    {
     "data": {
      "text/plain": [
       "<Figure size 1500x1000 with 0 Axes>"
      ]
     },
     "metadata": {},
     "output_type": "display_data"
    },
    {
     "data": {
      "text/plain": [
       "<Figure size 1500x1000 with 0 Axes>"
      ]
     },
     "metadata": {},
     "output_type": "display_data"
    }
   ],
   "source": [
    "process_gene_with_clustal(\"ptsP\", \"blast_results/ptsP_blast.fasta\")"
   ]
  },
  {
   "cell_type": "markdown",
   "metadata": {},
   "source": [
    "#### **2: Gene ButyrylCoA**"
   ]
  },
  {
   "cell_type": "code",
   "execution_count": 29,
   "metadata": {},
   "outputs": [
    {
     "name": "stdout",
     "output_type": "stream",
     "text": [
      "Executando ClustalW2 para o gene butyrylCoA...\n",
      "Matriz de Distância:\n",
      "Faecalibacterium    0.000000\n",
      "Faecalibacterium_1  0.002124    0.000000\n",
      "Faecalibacterium_prausnitzii    0.002123    0.004246    0.000000\n",
      "Faecalibacterium_prausnitzii_M21/2  0.000000    0.002124    0.002123    0.000000\n",
      "Faecalibacterium_sp.    0.003398    0.001700    0.005520    0.003398    0.000000\n",
      "Faecalibacterium_prausnitzii_5  0.003398    0.001276    0.005520    0.003398    0.002975    0.000000\n",
      "Faecalibacterium_prausnitzii_6  0.003398    0.001276    0.005520    0.003398    0.002975    0.002551    0.000000\n",
      "    Faecalibacterium    Faecalibacterium_1  Faecalibacterium_prausnitzii    Faecalibacterium_prausnitzii_M21/2  Faecalibacterium_sp.    Faecalibacterium_prausnitzii_5  Faecalibacterium_prausnitzii_6\n",
      "Processamento concluído para o gene butyrylCoA. Resultados guardados em 'Resultados da Análise Filogenética'.\n"
     ]
    },
    {
     "data": {
      "text/plain": [
       "<Figure size 1500x1000 with 0 Axes>"
      ]
     },
     "metadata": {},
     "output_type": "display_data"
    },
    {
     "data": {
      "text/plain": [
       "<Figure size 1500x1000 with 0 Axes>"
      ]
     },
     "metadata": {},
     "output_type": "display_data"
    }
   ],
   "source": [
    "process_gene_with_clustal(\"butyrylCoA\", \"blast_results/butyrylCoA_blast.fasta\")"
   ]
  },
  {
   "cell_type": "markdown",
   "metadata": {},
   "source": [
    "#### **3: Gene MutS Domain I**"
   ]
  },
  {
   "cell_type": "code",
   "execution_count": 34,
   "metadata": {},
   "outputs": [
    {
     "name": "stdout",
     "output_type": "stream",
     "text": [
      "Executando ClustalW2 para o gene MutS...\n"
     ]
    },
    {
     "ename": "FileNotFoundError",
     "evalue": "O alinhamento não foi gerado para o gene MutS.",
     "output_type": "error",
     "traceback": [
      "\u001b[1;31m---------------------------------------------------------------------------\u001b[0m",
      "\u001b[1;31mFileNotFoundError\u001b[0m                         Traceback (most recent call last)",
      "Cell \u001b[1;32mIn[34], line 1\u001b[0m\n\u001b[1;32m----> 1\u001b[0m \u001b[43mprocess_gene_with_clustal\u001b[49m\u001b[43m(\u001b[49m\u001b[38;5;124;43m\"\u001b[39;49m\u001b[38;5;124;43mMutS\u001b[39;49m\u001b[38;5;124;43m\"\u001b[39;49m\u001b[43m,\u001b[49m\u001b[43m \u001b[49m\u001b[38;5;124;43m\"\u001b[39;49m\u001b[38;5;124;43mblast_results/MutS_blast.fasta\u001b[39;49m\u001b[38;5;124;43m\"\u001b[39;49m\u001b[43m)\u001b[49m\n",
      "Cell \u001b[1;32mIn[26], line 52\u001b[0m, in \u001b[0;36mprocess_gene_with_clustal\u001b[1;34m(gene_name, fasta_file)\u001b[0m\n\u001b[0;32m     50\u001b[0m \u001b[38;5;66;03m# Verificar se o alinhamento foi gerado com sucesso\u001b[39;00m\n\u001b[0;32m     51\u001b[0m \u001b[38;5;28;01mif\u001b[39;00m \u001b[38;5;129;01mnot\u001b[39;00m os\u001b[38;5;241m.\u001b[39mpath\u001b[38;5;241m.\u001b[39mexists(alignment_file):\n\u001b[1;32m---> 52\u001b[0m     \u001b[38;5;28;01mraise\u001b[39;00m \u001b[38;5;167;01mFileNotFoundError\u001b[39;00m(\u001b[38;5;124mf\u001b[39m\u001b[38;5;124m\"\u001b[39m\u001b[38;5;124mO alinhamento não foi gerado para o gene \u001b[39m\u001b[38;5;132;01m{\u001b[39;00mgene_name\u001b[38;5;132;01m}\u001b[39;00m\u001b[38;5;124m.\u001b[39m\u001b[38;5;124m\"\u001b[39m)\n\u001b[0;32m     54\u001b[0m \u001b[38;5;66;03m# Ler o alinhamento gerado\u001b[39;00m\n\u001b[0;32m     55\u001b[0m alignment \u001b[38;5;241m=\u001b[39m AlignIO\u001b[38;5;241m.\u001b[39mread(alignment_file, \u001b[38;5;124m\"\u001b[39m\u001b[38;5;124mfasta\u001b[39m\u001b[38;5;124m\"\u001b[39m)\n",
      "\u001b[1;31mFileNotFoundError\u001b[0m: O alinhamento não foi gerado para o gene MutS."
     ]
    }
   ],
   "source": [
    "process_gene_with_clustal(\"MutS\", \"blast_results/MutS_blast.fasta\")"
   ]
  }
 ],
 "metadata": {
  "kernelspec": {
   "display_name": "bio_env",
   "language": "python",
   "name": "python3"
  },
  "language_info": {
   "codemirror_mode": {
    "name": "ipython",
    "version": 3
   },
   "file_extension": ".py",
   "mimetype": "text/x-python",
   "name": "python",
   "nbconvert_exporter": "python",
   "pygments_lexer": "ipython3",
   "version": "3.10.16"
  }
 },
 "nbformat": 4,
 "nbformat_minor": 2
}
