{
 "cells": [
  {
   "cell_type": "code",
   "execution_count": 16,
   "metadata": {},
   "outputs": [
    {
     "name": "stdout",
     "output_type": "stream",
     "text": [
      "Download do GENBANK do gene butyrylCoA completo.\n",
      "Download do GENBANK do gene ptsP completo.\n"
     ]
    }
   ],
   "source": [
    "from Bio import Entrez\n",
    "from Bio import SeqIO\n",
    "Entrez.email = 'A.N.Other@example.com'\n",
    "\n",
    "def download_gene(id_gene : str, name_gene : str, start=None, end=None):\n",
    "\n",
    "\n",
    "    for seq_record in SeqIO.parse(handle, \"gb\"):\n",
    "        SeqIO.write(seq_record, \"{}.gb\".format(name_gene), \"gb\")\n",
    "        print(f\"Download do GENBANK do gene {id_gene} completo.\")\n",
    "\n",
    "def download_gene(id_gene: str, name_gene: str, start=None, end=None):\n",
    "    \n",
    "    if start and end:\n",
    "        handle = Entrez.efetch(db=\"nucleotide\", rettype=\"gb\", retmode=\"text\", id=id_gene, seq_start=start, seq_stop=end)\n",
    "    else:\n",
    "        handle = Entrez.efetch(db=\"nucleotide\", rettype=\"gb\", retmode=\"text\", id=id_gene)\n",
    "    \n",
    "    for seq_record in SeqIO.parse(handle, \"gb\"):\n",
    "        SeqIO.write(seq_record, \"{}.gb\".format(name_gene), \"gb\")\n",
    "        print(f\"Download do GENBANK do gene {name_gene} completo.\")\n",
    "\n",
    "\n",
    "download_gene(\"NZ_DS483503\", \"butyrylCoA\", start=313586, end=314932)\n",
    "download_gene(\"NZ_DS483503\", \"ptsP\", start=23763, end=25406)"
   ]
  },
  {
   "cell_type": "code",
   "execution_count": null,
   "metadata": {},
   "outputs": [],
   "source": [
    "from Bio import Entrez\n",
    "from Bio import SeqIO\n",
    "Entrez.email = 'A.N.Other@example.com'\n",
    "\n",
    "def download_fasta(id_gene : str, name_gene : str, start=None, end=None):\n",
    "    try:\n",
    "        \n",
    "    for seq_record in SeqIO.parse(handle, \"gb\"):\n",
    "        SeqIO.write(seq_record, \"{}.gb\".format(name_gene), \"gb\")\n",
    "        print(f\"Download do GENBANK do gene {id_gene} completo.\")\n",
    "\n",
    "def download_gene(id_gene: str, name_gene: str, start=None, end=None):\n",
    "    \n",
    "    if start and end:\n",
    "        handle = Entrez.efetch(db=\"nucleotide\", rettype=\"gb\", retmode=\"text\", id=id_gene, seq_start=start, seq_stop=end)\n",
    "    else:\n",
    "        handle = Entrez.efetch(db=\"nucleotide\", rettype=\"gb\", retmode=\"text\", id=id_gene)\n",
    "    \n",
    "    for seq_record in SeqIO.parse(handle, \"gb\"):\n",
    "        SeqIO.write(seq_record, \"{}.gb\".format(name_gene), \"gb\")\n",
    "        print(f\"Download do GENBANK do gene {name_gene} completo.\")\n",
    "\n",
    "\n",
    "download_fasta(\"NZ_DS483503\", \"butyrylCoA.fasta\", start=313586, end=314932)\n",
    "download_gene(\"NZ_DS483503\", \"ptsP.fasta\", start=23763, end=25406)"
   ]
  },
  {
   "cell_type": "code",
   "execution_count": null,
   "metadata": {},
   "outputs": [
    {
     "name": "stdout",
     "output_type": "stream",
     "text": [
      "Download do FASTA do gene WP_044960620 completo.\n",
      "Download do FASTA do gene WP_005925321 completo.\n"
     ]
    }
   ],
   "source": [
    "from Bio import Entrez\n",
    "from Bio import SeqIO\n",
    "Entrez.email = 'A.N.Other@example.com'\n",
    "def download_fasta(gene_id, filename):\n",
    "    try:\n",
    "        handle = Entrez.efetch(db=\"protein\", id=gene_id, rettype=\"fasta\", retmode=\"text\")\n",
    "        with open(filename, \"w\") as out_file:\n",
    "            out_file.write(handle.read())\n",
    "        handle.close()\n",
    "        print(f\"Download do FASTA do gene {gene_id} completo.\")\n",
    "    except Exception as e:\n",
    "        print(f\"Erro: {e}\")\n",
    "\n",
    "download_fasta(\"WP_044960620\", \"butyrylCoA.fasta\")\n",
    "download_fasta('WP_005925321', 'ptsP.fasta')"
   ]
  }
 ],
 "metadata": {
  "kernelspec": {
   "display_name": "bio_env",
   "language": "python",
   "name": "python3"
  },
  "language_info": {
   "codemirror_mode": {
    "name": "ipython",
    "version": 3
   },
   "file_extension": ".py",
   "mimetype": "text/x-python",
   "name": "python",
   "nbconvert_exporter": "python",
   "pygments_lexer": "ipython3",
   "version": "3.10.16"
  }
 },
 "nbformat": 4,
 "nbformat_minor": 2
}
