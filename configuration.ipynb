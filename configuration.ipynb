{
 "cells": [
  {
   "cell_type": "code",
   "execution_count": 4,
   "metadata": {},
   "outputs": [
    {
     "ename": "TypeError",
     "evalue": "download_gene() got an unexpected keyword argument 'complement'",
     "output_type": "error",
     "traceback": [
      "\u001b[1;31m---------------------------------------------------------------------------\u001b[0m",
      "\u001b[1;31mTypeError\u001b[0m                                 Traceback (most recent call last)",
      "Cell \u001b[1;32mIn[4], line 17\u001b[0m\n\u001b[0;32m     13\u001b[0m         SeqIO\u001b[38;5;241m.\u001b[39mwrite(seq_record, \u001b[38;5;124m\"\u001b[39m\u001b[38;5;132;01m{}\u001b[39;00m\u001b[38;5;124m.gb\u001b[39m\u001b[38;5;124m\"\u001b[39m\u001b[38;5;241m.\u001b[39mformat(name_gene), \u001b[38;5;124m\"\u001b[39m\u001b[38;5;124mgb\u001b[39m\u001b[38;5;124m\"\u001b[39m)\n\u001b[0;32m     14\u001b[0m         \u001b[38;5;28mprint\u001b[39m(\u001b[38;5;124mf\u001b[39m\u001b[38;5;124m\"\u001b[39m\u001b[38;5;124mDownload do GENBANK do gene \u001b[39m\u001b[38;5;132;01m{\u001b[39;00mname_gene\u001b[38;5;132;01m}\u001b[39;00m\u001b[38;5;124m completo.\u001b[39m\u001b[38;5;124m\"\u001b[39m)\n\u001b[1;32m---> 17\u001b[0m \u001b[43mdownload_gene\u001b[49m\u001b[43m(\u001b[49m\u001b[38;5;124;43m\"\u001b[39;49m\u001b[38;5;124;43mNZ_DS483503\u001b[39;49m\u001b[38;5;124;43m\"\u001b[39;49m\u001b[43m,\u001b[49m\u001b[43m \u001b[49m\u001b[38;5;124;43m\"\u001b[39;49m\u001b[38;5;124;43mptsP\u001b[39;49m\u001b[38;5;124;43m\"\u001b[39;49m\u001b[43m,\u001b[49m\u001b[43m \u001b[49m\u001b[43mstart\u001b[49m\u001b[38;5;241;43m=\u001b[39;49m\u001b[38;5;241;43m23763\u001b[39;49m\u001b[43m,\u001b[49m\u001b[43m \u001b[49m\u001b[43mend\u001b[49m\u001b[38;5;241;43m=\u001b[39;49m\u001b[38;5;241;43m25406\u001b[39;49m\u001b[43m,\u001b[49m\u001b[43m \u001b[49m\u001b[43mcomplement\u001b[49m\u001b[38;5;241;43m=\u001b[39;49m\u001b[38;5;28;43;01mTrue\u001b[39;49;00m\u001b[43m)\u001b[49m\n",
      "\u001b[1;31mTypeError\u001b[0m: download_gene() got an unexpected keyword argument 'complement'"
     ]
    }
   ],
   "source": [
    "from Bio import Entrez\n",
    "from Bio import SeqIO\n",
    "Entrez.email = 'A.N.Other@example.com'\n",
    "\n",
    "def download_gene(id_gene: str, name_gene: str, start=None, end=None):\n",
    "    \n",
    "    if start and end:\n",
    "        handle = Entrez.efetch(db=\"nucleotide\", rettype=\"gb\", retmode=\"text\", id=id_gene, seq_start=start, seq_stop=end)\n",
    "    else:\n",
    "        handle = Entrez.efetch(db=\"nucleotide\", rettype=\"gb\", retmode=\"text\", id=id_gene)\n",
    "    \n",
    "    for seq_record in SeqIO.parse(handle, \"gb\"):\n",
    "        SeqIO.write(seq_record, \"{}.gb\".format(name_gene), \"gb\")\n",
    "        print(f\"Download do GENBANK do gene {name_gene} completo.\")\n",
    "\n",
    "\n",
    "download_gene(\"NZ_DS483503\", \"ptsP\", start=23763, end=25406, complement=True)"
   ]
  },
  {
   "cell_type": "code",
   "execution_count": 5,
   "metadata": {},
   "outputs": [
    {
     "name": "stdout",
     "output_type": "stream",
     "text": [
      "Download do GENBANK do gene 'butyrylCoA' completo.\n",
      "Download do GENBANK do gene 'ptsP' completo.\n"
     ]
    }
   ],
   "source": [
    "from Bio import Entrez\n",
    "from Bio import SeqIO\n",
    "from Bio.Seq import Seq\n",
    "Entrez.email = 'A.N.Other@example.com'\n",
    "\n",
    "def download_gene(id_gene: str, name_gene: str, start=None, end=None, complement=False):\n",
    "    \"\"\"\n",
    "    Faz o download de uma sequência GenBank do NCBI, com opção de especificar uma região e calcular o complemento.\n",
    "    \n",
    "    Args:\n",
    "    - id_gene (str): O ID de acesso no banco de dados NCBI.\n",
    "    - name_gene (str): Nome para salvar o arquivo de saída.\n",
    "    - start (int, opcional): Posição inicial da região de interesse.\n",
    "    - end (int, opcional): Posição final da região de interesse.\n",
    "    - complement (bool, opcional): Se True, calcula o complemento reverso da sequência.\n",
    "    \"\"\"\n",
    "    try:\n",
    "        # Decide se baixa a sequência completa ou uma subsequência\n",
    "        if start and end:\n",
    "            handle = Entrez.efetch(db=\"nucleotide\", rettype=\"gb\", retmode=\"text\", id=id_gene, seq_start=start, seq_stop=end )\n",
    "        else:\n",
    "            handle = Entrez.efetch(db=\"nucleotide\", rettype=\"gb\", retmode=\"text\", id=id_gene  )\n",
    "        \n",
    "        # Processa e salva a sequência\n",
    "        seq_record = SeqIO.read(handle, \"gb\")  # Assume que retorna apenas um registro\n",
    "        \n",
    "        # Calcula o complemento reverso, se necessário\n",
    "        if complement:\n",
    "            seq_record.seq = seq_record.seq.reverse_complement()\n",
    "        \n",
    "        # Salva o arquivo GenBank\n",
    "        SeqIO.write(seq_record, f\"{name_gene}.gb\", \"gb\")\n",
    "        print(f\"Download do GENBANK do gene '{name_gene}' completo.\")\n",
    "    \n",
    "    except Exception as e:\n",
    "        print(f\"Erro ao fazer o download do gene {id_gene}: {e}\")\n",
    "\n",
    "\n",
    "download_gene(\"NZ_DS483503\", \"butyrylCoA\", start=313586, end=314932, complement= False)\n",
    "download_gene(\"NZ_DS483503\", \"ptsP\", start=23763, end=25406, complement=True)\n"
   ]
  },
  {
   "cell_type": "code",
   "execution_count": 10,
   "metadata": {},
   "outputs": [
    {
     "name": "stdout",
     "output_type": "stream",
     "text": [
      "Download do FASTA do gene WP_044960620 completado.\n",
      "Download do FASTA do gene WP_005925321 completado.\n"
     ]
    }
   ],
   "source": [
    "#Função para fazer download do ficheiro FASTA com as sequências dos genes\n",
    "from Bio import Entrez\n",
    "from Bio import SeqIO\n",
    "Entrez.email = 'A.N.Other@example.com'\n",
    "def download_fasta(gene_id, filename):\n",
    "    try:\n",
    "        handle = Entrez.efetch(db=\"protein\", id=gene_id, rettype=\"fasta\", retmode=\"text\")\n",
    "        with open(filename, \"w\") as out_file:\n",
    "            out_file.write(handle.read())\n",
    "        handle.close()\n",
    "        print(f\"Download do FASTA do gene {gene_id} completado.\")\n",
    "    except Exception as e:\n",
    "        print(f\"Erro: {e}\")\n",
    "\n",
    "download_fasta('WP_044960620','butyrylCoA.fasta')\n",
    "download_fasta('WP_005925321', 'pstP.fasta')"
   ]
  }
 ],
 "metadata": {
  "kernelspec": {
   "display_name": "bio_env",
   "language": "python",
   "name": "python3"
  },
  "language_info": {
   "codemirror_mode": {
    "name": "ipython",
    "version": 3
   },
   "file_extension": ".py",
   "mimetype": "text/x-python",
   "name": "python",
   "nbconvert_exporter": "python",
   "pygments_lexer": "ipython3",
   "version": "3.10.16"
  }
 },
 "nbformat": 4,
 "nbformat_minor": 2
}
