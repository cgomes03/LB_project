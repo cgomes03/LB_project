{
 "cells": [
  {
   "cell_type": "markdown",
   "metadata": {},
   "source": [
    "### **Análise de genes**"
   ]
  },
  {
   "cell_type": "markdown",
   "metadata": {},
   "source": [
    "Este código define uma função *analyze_gene* que realiza uma análise detalhada de um arquivo GenBank. "
   ]
  },
  {
   "cell_type": "code",
   "execution_count": 4,
   "metadata": {},
   "outputs": [],
   "source": [
    "from Bio import SeqIO\n",
    "from Bio.Seq import Seq\n",
    "from Bio.SeqRecord import SeqRecord\n",
    "\n",
    "def analyze_gene(file_path, gene_name):\n",
    "    gene = SeqIO.read(file_path, \"genbank\")\n",
    "    \n",
    "    print(f\"## Análise do gene {gene_name}\")\n",
    "    print(f\"Comprimento: {len(gene.seq)} pb\")\n",
    "    print(f\"ID: {gene.id}\")\n",
    "    print(f\"Descrição: {gene.description}\")\n",
    "    print(f\"Nome: {gene.name}\")\n",
    "    \n",
    "    print(\"\\n### Taxonomia:\")\n",
    "    print(f\"Organismo: {gene.annotations['source']}\")\n",
    "    print(f\"Linhagem: {' > '.join(gene.annotations['taxonomy'])}\")\n",
    "    \n",
    "    print(f\"\\n### Número total de Features: {len(gene.features)}\")\n",
    "    \n",
    "    gene_features = sum(1 for feature in gene.features if feature.type == \"gene\")\n",
    "    print(f\"Número de Features do tipo 'gene': {gene_features}\")\n",
    "    \n",
    "    print(\"\\n### Features:\")\n",
    "    for i, feature in enumerate(gene.features):\n",
    "        print(f\"\\nFeature {i}:\")\n",
    "        print(f\"Tipo: {feature.type}\")\n",
    "        print(f\"Localização: {feature.location}\")\n",
    "        print(\"Qualifiers:\")\n",
    "        for key, value in feature.qualifiers.items():\n",
    "            print(f\"  {key}: {value}\")\n",
    "    print(\"\\n\")"
   ]
  },
  {
   "cell_type": "markdown",
   "metadata": {},
   "source": [
    "#### **1: Gene ptsP**"
   ]
  },
  {
   "cell_type": "code",
   "execution_count": 5,
   "metadata": {},
   "outputs": [
    {
     "name": "stdout",
     "output_type": "stream",
     "text": [
      "## Análise do gene ptsP\n",
      "Comprimento: 1644 pb\n",
      "ID: NZ_DS483503.1\n",
      "Descrição: Faecalibacterium prausnitzii M21/2 Scfld_02_24, whole genome shotgun sequence\n",
      "Nome: NZ_DS483503\n",
      "\n",
      "### Taxonomia:\n",
      "Organismo: Faecalibacterium prausnitzii M21/2\n",
      "Linhagem: Bacteria > Bacillati > Bacillota > Clostridia > Eubacteriales > Oscillospiraceae > Faecalibacterium\n",
      "\n",
      "### Número total de Features: 3\n",
      "Número de Features do tipo 'gene': 1\n",
      "\n",
      "### Features:\n",
      "\n",
      "Feature 0:\n",
      "Tipo: source\n",
      "Localização: [0:1644](+)\n",
      "Qualifiers:\n",
      "  organism: ['Faecalibacterium prausnitzii M21/2']\n",
      "  mol_type: ['genomic DNA']\n",
      "  strain: ['M21/2']\n",
      "  isolation_source: ['biological product [ENVO:02000043]']\n",
      "  host: ['Homo sapiens']\n",
      "  db_xref: ['taxon:411485']\n",
      "\n",
      "Feature 1:\n",
      "Tipo: gene\n",
      "Localização: [0:1644](-)\n",
      "Qualifiers:\n",
      "  gene: ['ptsP']\n",
      "  locus_tag: ['FAEPRAM212_RS10210']\n",
      "  old_locus_tag: ['FAEPRAM212_02497']\n",
      "  db_xref: ['GeneID:75068783']\n",
      "\n",
      "Feature 2:\n",
      "Tipo: CDS\n",
      "Localização: [0:1644](-)\n",
      "Qualifiers:\n",
      "  gene: ['ptsP']\n",
      "  locus_tag: ['FAEPRAM212_RS10210']\n",
      "  old_locus_tag: ['FAEPRAM212_02497']\n",
      "  EC_number: ['2.7.3.9']\n",
      "  inference: ['COORDINATES: similar to AA sequence:RefSeq:WP_015537632.1']\n",
      "  GO_function: ['GO:0008965 - phosphoenolpyruvate-protein phosphotransferase activity [Evidence IEA]']\n",
      "  GO_process: ['GO:0009401 - phosphoenolpyruvate-dependent sugar phosphotransferase system [Evidence IEA]; GO:0006808 - regulation of nitrogen utilization [Evidence IEA]']\n",
      "  note: ['Derived by automated computational analysis using gene prediction method: Protein Homology.']\n",
      "  codon_start: ['1']\n",
      "  transl_table: ['11']\n",
      "  product: ['phosphoenolpyruvate--protein phosphotransferase']\n",
      "  protein_id: ['WP_005925321.1']\n",
      "  db_xref: ['GeneID:75068783']\n",
      "  translation: ['MQVGTGKSVLNGIAIGKLKIYKKKDTAISTAPVADTAAELERFEAARQKAIEQQTALYEKALAEAGEDIAEVFNIHAMMLDDDDFVDAIKEIINGQKMCAEYAVKTAGNNQAAVFSAMDDPYLQARSADVLDIAQAMLDILQGVDNASLQGTEPSILVAEDLAPSETVRMDKSLLLGFITREGSSNSHTAILARSMNIPALIQCKDIQDDWDGKMAVVDGYNACVYVDPTPDLLKSLKKRQQEDQKKQALLQELKGKPNTTLDGKTINVFANIGGMGDVGAVQQNDAGGVGLFRTEFVYLNCKDFPTEDYQFEAYKQVLESLAPRKVVVRTCDIGADKTVDYMKLDHEDNPALGYRAIRICLTRKDFFKTQLRALLRASAYGNMSIMFPMITSLRELQDAKAVLEECRAELTAEGVKMGQNIEVGTMIETPAAVLIADELAAECDFFSIGTNDLTQYTCALDRQNAKLEPFFNPHHPAVLRAIKMTIEAGHRHGIWVGICGELGADTALTETFLRMGVDELSMNAKSILPVRKIIRSVDLSKPSEKA']\n",
      "\n",
      "\n"
     ]
    }
   ],
   "source": [
    "# Analisar o gene ptsP\n",
    "analyze_gene(\"genes/ptsP.gb\", \"ptsP\")"
   ]
  },
  {
   "cell_type": "markdown",
   "metadata": {},
   "source": [
    "### **2. Gene ButyrylCoA**"
   ]
  },
  {
   "cell_type": "code",
   "execution_count": 9,
   "metadata": {},
   "outputs": [
    {
     "name": "stdout",
     "output_type": "stream",
     "text": [
      "## Análise do gene ButyrylCoA\n",
      "Comprimento: 1347 pb\n",
      "ID: NZ_DS483503.1\n",
      "Descrição: Faecalibacterium prausnitzii M21/2 Scfld_02_24, whole genome shotgun sequence\n",
      "Nome: NZ_DS483503\n",
      "\n",
      "### Taxonomia:\n",
      "Organismo: Faecalibacterium prausnitzii M21/2\n",
      "Linhagem: Bacteria > Bacillati > Bacillota > Clostridia > Eubacteriales > Oscillospiraceae > Faecalibacterium\n",
      "\n",
      "### Número total de Features: 3\n",
      "Número de Features do tipo 'gene': 1\n",
      "\n",
      "### Features:\n",
      "\n",
      "Feature 0:\n",
      "Tipo: source\n",
      "Localização: [0:1347](+)\n",
      "Qualifiers:\n",
      "  organism: ['Faecalibacterium prausnitzii M21/2']\n",
      "  mol_type: ['genomic DNA']\n",
      "  strain: ['M21/2']\n",
      "  isolation_source: ['biological product [ENVO:02000043]']\n",
      "  host: ['Homo sapiens']\n",
      "  db_xref: ['taxon:411485']\n",
      "\n",
      "Feature 1:\n",
      "Tipo: gene\n",
      "Localização: [0:1347](+)\n",
      "Qualifiers:\n",
      "  locus_tag: ['FAEPRAM212_RS11550']\n",
      "  old_locus_tag: ['FAEPRAM212_02812']\n",
      "  db_xref: ['GeneID:75069048']\n",
      "\n",
      "Feature 2:\n",
      "Tipo: CDS\n",
      "Localização: [0:1347](+)\n",
      "Qualifiers:\n",
      "  locus_tag: ['FAEPRAM212_RS11550']\n",
      "  old_locus_tag: ['FAEPRAM212_02812']\n",
      "  inference: ['COORDINATES: similar to AA sequence:RefSeq:WP_015565096.1']\n",
      "  GO_function: ['GO:0008410 - CoA-transferase activity [Evidence IEA]']\n",
      "  GO_process: ['GO:0046358 - butyrate biosynthetic process [Evidence IEA]']\n",
      "  note: ['Derived by automated computational analysis using gene prediction method: Protein Homology.']\n",
      "  codon_start: ['1']\n",
      "  transl_table: ['11']\n",
      "  product: ['butyryl-CoA:acetate CoA-transferase']\n",
      "  protein_id: ['WP_044960620.1']\n",
      "  db_xref: ['GeneID:75069048']\n",
      "  translation: ['MDCKELYAQKLMTAAQAAALVKSGDWVDYGWAVNTPVAVDAELAKRLPELEGVNFRGGILMWVPEIFQIDDPAAHMTWNSWHMGGIERKAIAQGFSFYSPIRYSELPRYYRESNDPVDVAVFQVTPMDEHGYFNFGPSASHLGAVCEKAKKIIVEVNTNMPRCLGGMENCVHVSQVSGIVEGANPPIGQMAAAGAATEVDLKVANLIVPQIPNGACLQLGIGGMPNAIGGLIAQSDLKDLGVHTEMYVDAFVDIAKAGKINGSRKQLDKGRQVYAFGAGTQKMYDYLNDNPECMSAPVDYTNDIRSISALDNFISINNAVDIDLFGQVNAESAGVKHISGAGGQLDFVLGAYLSKGGKSFICLSSTFFNKKTGQLESRIRPTLENGSIVTDTRANVHYLCTEYGCVNLKGLTSWEKAEALISVAHPDFREELIREAEKLHIWRRSNKI']\n",
      "\n",
      "\n"
     ]
    }
   ],
   "source": [
    "# Analisar o gene ButyrylCoA\n",
    "analyze_gene(\"genes/ButyrylCoA.gb\", \"ButyrylCoA\")"
   ]
  }
 ],
 "metadata": {
  "kernelspec": {
   "display_name": "bio_env",
   "language": "python",
   "name": "python3"
  },
  "language_info": {
   "codemirror_mode": {
    "name": "ipython",
    "version": 3
   },
   "file_extension": ".py",
   "mimetype": "text/x-python",
   "name": "python",
   "nbconvert_exporter": "python",
   "pygments_lexer": "ipython3",
   "version": "3.10.16"
  }
 },
 "nbformat": 4,
 "nbformat_minor": 2
}
