{
 "cells": [
  {
   "cell_type": "code",
   "execution_count": 5,
   "metadata": {},
   "outputs": [
    {
     "name": "stdout",
     "output_type": "stream",
     "text": [
      "Download do arquivo GenBank do gene 'butyrylCoA' concluído com sucesso.\n",
      "Download do arquivo GenBank do gene 'ptsP' concluído com sucesso.\n"
     ]
    }
   ],
   "source": [
    "from Bio import Entrez\n",
    "from Bio import SeqIO\n",
    "from Bio.Seq import Seq\n",
    "import os\n",
    "\n",
    "# Configurar o email para uso no NCBI Entrez\n",
    "Entrez.email = 'A.N.Other@example.com'\n",
    "\n",
    "def download_gene(id_gene: str, name_gene: str, start=None, end=None, complement=False):\n",
    "    \"\"\"\n",
    "    Faz o download de uma sequência GenBank do NCBI, com opção de especificar uma região e calcular o complemento reverso.\n",
    "\n",
    "    Args:\n",
    "    - id_gene (str): O ID de acesso no banco de dados NCBI.\n",
    "    - name_gene (str): Nome do arquivo para salvar a sequência.\n",
    "    - start (int, opcional): Posição inicial da região de interesse.\n",
    "    - end (int, opcional): Posição final da região de interesse.\n",
    "    - complement (bool, opcional): Se True, calcula o complemento reverso da sequência.\n",
    "    \"\"\"\n",
    "    try:\n",
    "        # Criar a pasta 'genes' se ela não existir\n",
    "        if not os.path.exists(\"genes\"):\n",
    "            os.makedirs(\"genes\")\n",
    "        \n",
    "        # Buscar os dados da sequência no NCBI\n",
    "        if start and end:\n",
    "            handle = Entrez.efetch(db=\"nucleotide\", rettype=\"gb\", retmode=\"text\", id=id_gene, seq_start=start, seq_stop=end)\n",
    "        else:\n",
    "            handle = Entrez.efetch(db=\"nucleotide\", rettype=\"gb\", retmode=\"text\", id=id_gene)\n",
    "        \n",
    "        # Processar o registro GenBank\n",
    "        seq_record = SeqIO.read(handle, \"gb\")\n",
    "        handle.close()\n",
    "        \n",
    "        # Calcular o complemento reverso, se necessário\n",
    "        if complement:\n",
    "            seq_record.seq = seq_record.seq.reverse_complement()\n",
    "        \n",
    "        # Salvar a sequência na pasta 'genes_information'\n",
    "        output_path = os.path.join(\"genes\", f\"{name_gene}.gb\")\n",
    "        SeqIO.write(seq_record, output_path, \"gb\")\n",
    "        \n",
    "        print(f\"Download do arquivo GenBank do gene '{name_gene}' concluído com sucesso.\")\n",
    "    \n",
    "    except Exception as e:\n",
    "        print(f\"Erro ao fazer o download do gene {id_gene}: {e}\")\n",
    "\n",
    "# Fazer o download dos genes com os parâmetros especificados\n",
    "download_gene(\"NZ_DS483503\", \"butyrylCoA\", start=313586, end=314932, complement=False)\n",
    "download_gene(\"NZ_DS483503\", \"ptsP\", start=23763, end=25406, complement=True)\n"
   ]
  },
  {
   "cell_type": "code",
   "execution_count": 1,
   "metadata": {},
   "outputs": [
    {
     "name": "stdout",
     "output_type": "stream",
     "text": [
      "Download do FASTA do gene WP_044960620 completado e salvo em genes\\butyrylCoA.fasta.\n",
      "Download do FASTA do gene WP_005925321 completado e salvo em genes\\ptsP.fasta.\n"
     ]
    }
   ],
   "source": [
    "import os\n",
    "from Bio import Entrez\n",
    "from Bio import SeqIO\n",
    "\n",
    "Entrez.email = 'A.N.Other@example.com'\n",
    "\n",
    "def download_fasta(gene_id, filename):\n",
    "    \"\"\"\n",
    "    Faz o download do arquivo FASTA com as sequências dos genes e salva na pasta 'genes'.\n",
    "\n",
    "    Args:\n",
    "    - gene_id (str): O ID do gene no banco de dados NCBI.\n",
    "    - filename (str): Nome do arquivo para salvar a sequência FASTA.\n",
    "    \"\"\"\n",
    "    try:\n",
    "        # Criar a pasta 'genes' se ela não existir\n",
    "        if not os.path.exists(\"genes\"):\n",
    "            os.makedirs(\"genes\")\n",
    "        \n",
    "        # Caminho completo para salvar o arquivo\n",
    "        file_path = os.path.join(\"genes\", filename)\n",
    "        \n",
    "        # Buscar e salvar a sequência FASTA\n",
    "        handle = Entrez.efetch(db=\"protein\", id=gene_id, rettype=\"fasta\", retmode=\"text\")\n",
    "        with open(file_path, \"w\") as out_file:\n",
    "            out_file.write(handle.read())\n",
    "        handle.close()\n",
    "        \n",
    "        print(f\"Download do FASTA do gene {gene_id} completado e salvo em {file_path}.\")\n",
    "    except Exception as e:\n",
    "        print(f\"Erro ao fazer o download do gene {gene_id}: {e}\")\n",
    "\n",
    "# Fazer o download dos genes FASTA com os parâmetros especificados\n",
    "download_fasta('WP_044960620', 'butyrylCoA.fasta')\n",
    "download_fasta('WP_005925321', 'ptsP.fasta')\n"
   ]
  }
 ],
 "metadata": {
  "kernelspec": {
   "display_name": "bio_env",
   "language": "python",
   "name": "python3"
  },
  "language_info": {
   "codemirror_mode": {
    "name": "ipython",
    "version": 3
   },
   "file_extension": ".py",
   "mimetype": "text/x-python",
   "name": "python",
   "nbconvert_exporter": "python",
   "pygments_lexer": "ipython3",
   "version": "3.10.16"
  }
 },
 "nbformat": 4,
 "nbformat_minor": 2
}
