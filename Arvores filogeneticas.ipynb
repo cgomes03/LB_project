{
 "cells": [
  {
   "cell_type": "code",
   "execution_count": 16,
   "metadata": {},
   "outputs": [],
   "source": [
    "from Bio import SeqIO, AlignIO, Phylo\n",
    "from Bio.SeqRecord import SeqRecord\n",
    "from Bio.Align import MultipleSeqAlignment\n",
    "from Bio.Phylo.TreeConstruction import DistanceCalculator, DistanceTreeConstructor\n",
    "from collections import Counter\n",
    "import os\n",
    "import matplotlib.pyplot as plt\n",
    "\n",
    "def process_gene(gene_name, input_fasta):\n",
    "    # Criar diretório de saída\n",
    "    output_dir = \"Resultados da Analise da Arvore Filogenetica\"\n",
    "    os.makedirs(output_dir, exist_ok=True)\n",
    "\n",
    "    # Leitura do arquivo fasta\n",
    "    with open(input_fasta) as handle:\n",
    "        records = list(SeqIO.parse(handle, format='fasta'))\n",
    "\n",
    "    # Garantir que temos exatamente 7 sequências\n",
    "    if len(records) < 7:\n",
    "        raise ValueError(f\"O arquivo FASTA deve conter pelo menos 7 sequências. Encontradas: {len(records)}\")\n",
    "\n",
    "    # Extrair as primeiras 7 sequências e criar SeqRecords com IDs personalizados\n",
    "    seq_records = [SeqRecord(record.seq, id=f'{gene_name}_{i+1}') \n",
    "                   for i, record in enumerate(records[:7])]\n",
    "\n",
    "    # Criar o alinhamento\n",
    "    alignment = MultipleSeqAlignment(seq_records)\n",
    "\n",
    "    # Verificar IDs duplicados no alinhamento múltiplo\n",
    "    id_counts = Counter(record.id for record in alignment)\n",
    "    duplicates = [id_ for id_, count in id_counts.items() if count > 1]\n",
    "    if duplicates:\n",
    "        print(f\"IDs duplicados detectados: {duplicates}\")\n",
    "        raise ValueError(\"Por favor, corrija os IDs duplicados antes de continuar.\")\n",
    "\n",
    "    # Salvar o alinhamento\n",
    "    alignment_file = os.path.join(output_dir, f'{gene_name}_alignment.fasta')\n",
    "    AlignIO.write(alignment, alignment_file, 'fasta')\n",
    "\n",
    "    # Calcular matriz de distância\n",
    "    calculator = DistanceCalculator('blosum62')\n",
    "    dm = calculator.get_distance(alignment)\n",
    "    \n",
    "    # Imprimir a matriz de distância\n",
    "    print(f\"Matriz de Distância:\\n{dm}\")\n",
    "\n",
    "    # Construir árvores\n",
    "    constructor = DistanceTreeConstructor()\n",
    "    upgma_tree = constructor.upgma(dm)\n",
    "    nj_tree = constructor.nj(dm)\n",
    "\n",
    "    # Remover rótulos 'Inner' dos clados e destacar clados com o gênero \"Homo\"\n",
    "    for tree in [upgma_tree, nj_tree]:\n",
    "        for clade in tree.find_clades():\n",
    "            if 'Inner' in (clade.name or ''):\n",
    "                clade.name = \"\"\n",
    "            if 'Homo' in (clade.name or ''):\n",
    "                clade.color = 'orange'\n",
    "                clade.name = '*** ' + clade.name + ' ***'  # Marca o clado\n",
    "\n",
    "    # Salvar árvores\n",
    "    Phylo.write(upgma_tree, os.path.join(output_dir, f'{gene_name}_upgma_tree.nwk'), 'newick')\n",
    "    Phylo.write(nj_tree, os.path.join(output_dir, f'{gene_name}_nj_tree.nwk'), 'newick')\n",
    "\n",
    "    # Processar e desenhar árvores\n",
    "    for tree, tree_type in [(upgma_tree, 'UPGMA'), (nj_tree, 'NJ')]:\n",
    "        plt.figure(figsize=(10, 8))\n",
    "        Phylo.draw(tree, do_show=False)\n",
    "        plt.title(f'{gene_name} - {tree_type} Tree')\n",
    "        tree_img = os.path.join(output_dir, f'{gene_name}_{tree_type}_tree.png')\n",
    "        plt.savefig(tree_img)\n",
    "        plt.close()\n",
    "\n",
    "    print(f\"Processamento concluído para o gene {gene_name}. Resultados salvos em '{output_dir}'.\")\n"
   ]
  },
  {
   "cell_type": "markdown",
   "metadata": {},
   "source": [
    "#### **1: Gene ptsP**"
   ]
  },
  {
   "cell_type": "code",
   "execution_count": 17,
   "metadata": {},
   "outputs": [
    {
     "name": "stdout",
     "output_type": "stream",
     "text": [
      "Matriz de Distância:\n",
      "ptsp_1  0.000000\n",
      "ptsp_2  0.001080    0.000000\n",
      "ptsp_3  0.001080    0.002159    0.000000\n",
      "ptsp_4  0.001439    0.002519    0.002519    0.000000\n",
      "ptsp_5  0.002157    0.003236    0.003236    0.003596    0.000000\n",
      "ptsp_6  0.001439    0.000360    0.002519    0.002879    0.003596    0.000000\n",
      "ptsp_7  0.001799    0.002879    0.002879    0.003239    0.003955    0.003239    0.000000\n",
      "    ptsp_1  ptsp_2  ptsp_3  ptsp_4  ptsp_5  ptsp_6  ptsp_7\n",
      "Processamento concluído para o gene ptsp. Resultados salvos em 'Resultados da Analise da Arvore Filogenetica'.\n"
     ]
    },
    {
     "data": {
      "text/plain": [
       "<Figure size 1000x800 with 0 Axes>"
      ]
     },
     "metadata": {},
     "output_type": "display_data"
    },
    {
     "data": {
      "text/plain": [
       "<Figure size 1000x800 with 0 Axes>"
      ]
     },
     "metadata": {},
     "output_type": "display_data"
    }
   ],
   "source": [
    "gene_name = \"ptsp\"\n",
    "input_fasta = \"genes/ptsP_blast.fasta\"\n",
    "\n",
    "process_gene(gene_name, input_fasta)"
   ]
  },
  {
   "cell_type": "markdown",
   "metadata": {},
   "source": [
    "#### **2: Gene ButyrylCoA**"
   ]
  },
  {
   "cell_type": "code",
   "execution_count": 18,
   "metadata": {},
   "outputs": [
    {
     "name": "stdout",
     "output_type": "stream",
     "text": [
      "Matriz de Distância:\n",
      "butyrylCoA_1    0.000000\n",
      "butyrylCoA_2    0.002124    0.000000\n",
      "butyrylCoA_3    0.002123    0.004246    0.000000\n",
      "butyrylCoA_4    0.000000    0.002124    0.002123    0.000000\n",
      "butyrylCoA_5    0.003398    0.001700    0.005520    0.003398    0.000000\n",
      "butyrylCoA_6    0.003398    0.001276    0.005520    0.003398    0.002975    0.000000\n",
      "butyrylCoA_7    0.003398    0.001276    0.005520    0.003398    0.002975    0.002551    0.000000\n",
      "    butyrylCoA_1    butyrylCoA_2    butyrylCoA_3    butyrylCoA_4    butyrylCoA_5    butyrylCoA_6    butyrylCoA_7\n",
      "Processamento concluído para o gene butyrylCoA. Resultados salvos em 'Resultados da Analise da Arvore Filogenetica'.\n"
     ]
    },
    {
     "data": {
      "text/plain": [
       "<Figure size 1000x800 with 0 Axes>"
      ]
     },
     "metadata": {},
     "output_type": "display_data"
    },
    {
     "data": {
      "text/plain": [
       "<Figure size 1000x800 with 0 Axes>"
      ]
     },
     "metadata": {},
     "output_type": "display_data"
    }
   ],
   "source": [
    "gene_name = \"butyrylCoA\"\n",
    "input_fasta = \"genes/butyrylCoA_blast.fasta\"\n",
    "\n",
    "process_gene(gene_name, input_fasta)"
   ]
  }
 ],
 "metadata": {
  "kernelspec": {
   "display_name": "bio_env",
   "language": "python",
   "name": "python3"
  },
  "language_info": {
   "codemirror_mode": {
    "name": "ipython",
    "version": 3
   },
   "file_extension": ".py",
   "mimetype": "text/x-python",
   "name": "python",
   "nbconvert_exporter": "python",
   "pygments_lexer": "ipython3",
   "version": "3.10.16"
  }
 },
 "nbformat": 4,
 "nbformat_minor": 2
}
